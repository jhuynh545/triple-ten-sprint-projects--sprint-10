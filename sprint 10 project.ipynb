{
 "cells": [
  {
   "cell_type": "markdown",
   "metadata": {},
   "source": [
    "# Gold recovery or rush? You decide\n",
    "Zyfra develops efficiency solutions for heavy industry. We are preparing a prototype of a machine learning model for them. We will prepare the data, perform an analysis, and then develop and train a model. "
   ]
  },
  {
   "cell_type": "code",
   "execution_count": 1,
   "metadata": {},
   "outputs": [],
   "source": [
    "import pandas as pd\n",
    "import numpy as np\n",
    "import matplotlib.pyplot as plt\n",
    "import seaborn as sns\n",
    "from sklearn.metrics import mean_absolute_error\n",
    "from sklearn.model_selection import train_test_split\n",
    "from sklearn.model_selection import cross_val_score\n",
    "from sklearn.ensemble import RandomForestRegressor\n",
    "from sklearn.linear_model import LinearRegression\n",
    "from sklearn.tree import DecisionTreeRegressor\n",
    "from sklearn.metrics import make_scorer\n",
    "from sklearn.model_selection import RandomizedSearchCV"
   ]
  },
  {
   "cell_type": "code",
   "execution_count": 2,
   "metadata": {},
   "outputs": [],
   "source": [
    "train = pd.read_csv('/datasets/gold_recovery_train.csv')\n",
    "test = pd.read_csv('/datasets/gold_recovery_test.csv')\n",
    "full = pd.read_csv('/datasets/gold_recovery_full.csv')"
   ]
  },
  {
   "cell_type": "markdown",
   "metadata": {},
   "source": []
  },
  {
   "cell_type": "markdown",
   "metadata": {},
   "source": [
    "## Train"
   ]
  },
  {
   "cell_type": "code",
   "execution_count": 3,
   "metadata": {
    "scrolled": true
   },
   "outputs": [
    {
     "name": "stdout",
     "output_type": "stream",
     "text": [
      "<class 'pandas.core.frame.DataFrame'>\n",
      "RangeIndex: 16860 entries, 0 to 16859\n",
      "Data columns (total 87 columns):\n",
      " #   Column                                              Non-Null Count  Dtype  \n",
      "---  ------                                              --------------  -----  \n",
      " 0   date                                                16860 non-null  object \n",
      " 1   final.output.concentrate_ag                         16788 non-null  float64\n",
      " 2   final.output.concentrate_pb                         16788 non-null  float64\n",
      " 3   final.output.concentrate_sol                        16490 non-null  float64\n",
      " 4   final.output.concentrate_au                         16789 non-null  float64\n",
      " 5   final.output.recovery                               15339 non-null  float64\n",
      " 6   final.output.tail_ag                                16794 non-null  float64\n",
      " 7   final.output.tail_pb                                16677 non-null  float64\n",
      " 8   final.output.tail_sol                               16715 non-null  float64\n",
      " 9   final.output.tail_au                                16794 non-null  float64\n",
      " 10  primary_cleaner.input.sulfate                       15553 non-null  float64\n",
      " 11  primary_cleaner.input.depressant                    15598 non-null  float64\n",
      " 12  primary_cleaner.input.feed_size                     16860 non-null  float64\n",
      " 13  primary_cleaner.input.xanthate                      15875 non-null  float64\n",
      " 14  primary_cleaner.output.concentrate_ag               16778 non-null  float64\n",
      " 15  primary_cleaner.output.concentrate_pb               16502 non-null  float64\n",
      " 16  primary_cleaner.output.concentrate_sol              16224 non-null  float64\n",
      " 17  primary_cleaner.output.concentrate_au               16778 non-null  float64\n",
      " 18  primary_cleaner.output.tail_ag                      16777 non-null  float64\n",
      " 19  primary_cleaner.output.tail_pb                      16761 non-null  float64\n",
      " 20  primary_cleaner.output.tail_sol                     16579 non-null  float64\n",
      " 21  primary_cleaner.output.tail_au                      16777 non-null  float64\n",
      " 22  primary_cleaner.state.floatbank8_a_air              16820 non-null  float64\n",
      " 23  primary_cleaner.state.floatbank8_a_level            16827 non-null  float64\n",
      " 24  primary_cleaner.state.floatbank8_b_air              16820 non-null  float64\n",
      " 25  primary_cleaner.state.floatbank8_b_level            16833 non-null  float64\n",
      " 26  primary_cleaner.state.floatbank8_c_air              16822 non-null  float64\n",
      " 27  primary_cleaner.state.floatbank8_c_level            16833 non-null  float64\n",
      " 28  primary_cleaner.state.floatbank8_d_air              16821 non-null  float64\n",
      " 29  primary_cleaner.state.floatbank8_d_level            16833 non-null  float64\n",
      " 30  rougher.calculation.sulfate_to_au_concentrate       16833 non-null  float64\n",
      " 31  rougher.calculation.floatbank10_sulfate_to_au_feed  16833 non-null  float64\n",
      " 32  rougher.calculation.floatbank11_sulfate_to_au_feed  16833 non-null  float64\n",
      " 33  rougher.calculation.au_pb_ratio                     15618 non-null  float64\n",
      " 34  rougher.input.feed_ag                               16778 non-null  float64\n",
      " 35  rougher.input.feed_pb                               16632 non-null  float64\n",
      " 36  rougher.input.feed_rate                             16347 non-null  float64\n",
      " 37  rougher.input.feed_size                             16443 non-null  float64\n",
      " 38  rougher.input.feed_sol                              16568 non-null  float64\n",
      " 39  rougher.input.feed_au                               16777 non-null  float64\n",
      " 40  rougher.input.floatbank10_sulfate                   15816 non-null  float64\n",
      " 41  rougher.input.floatbank10_xanthate                  16514 non-null  float64\n",
      " 42  rougher.input.floatbank11_sulfate                   16237 non-null  float64\n",
      " 43  rougher.input.floatbank11_xanthate                  14956 non-null  float64\n",
      " 44  rougher.output.concentrate_ag                       16778 non-null  float64\n",
      " 45  rougher.output.concentrate_pb                       16778 non-null  float64\n",
      " 46  rougher.output.concentrate_sol                      16698 non-null  float64\n",
      " 47  rougher.output.concentrate_au                       16778 non-null  float64\n",
      " 48  rougher.output.recovery                             14287 non-null  float64\n",
      " 49  rougher.output.tail_ag                              14610 non-null  float64\n",
      " 50  rougher.output.tail_pb                              16778 non-null  float64\n",
      " 51  rougher.output.tail_sol                             14611 non-null  float64\n",
      " 52  rougher.output.tail_au                              14611 non-null  float64\n",
      " 53  rougher.state.floatbank10_a_air                     16807 non-null  float64\n",
      " 54  rougher.state.floatbank10_a_level                   16807 non-null  float64\n",
      " 55  rougher.state.floatbank10_b_air                     16807 non-null  float64\n",
      " 56  rougher.state.floatbank10_b_level                   16807 non-null  float64\n",
      " 57  rougher.state.floatbank10_c_air                     16807 non-null  float64\n",
      " 58  rougher.state.floatbank10_c_level                   16814 non-null  float64\n",
      " 59  rougher.state.floatbank10_d_air                     16802 non-null  float64\n",
      " 60  rougher.state.floatbank10_d_level                   16809 non-null  float64\n",
      " 61  rougher.state.floatbank10_e_air                     16257 non-null  float64\n",
      " 62  rougher.state.floatbank10_e_level                   16809 non-null  float64\n",
      " 63  rougher.state.floatbank10_f_air                     16802 non-null  float64\n",
      " 64  rougher.state.floatbank10_f_level                   16802 non-null  float64\n",
      " 65  secondary_cleaner.output.tail_ag                    16776 non-null  float64\n",
      " 66  secondary_cleaner.output.tail_pb                    16764 non-null  float64\n",
      " 67  secondary_cleaner.output.tail_sol                   14874 non-null  float64\n",
      " 68  secondary_cleaner.output.tail_au                    16778 non-null  float64\n",
      " 69  secondary_cleaner.state.floatbank2_a_air            16497 non-null  float64\n",
      " 70  secondary_cleaner.state.floatbank2_a_level          16751 non-null  float64\n",
      " 71  secondary_cleaner.state.floatbank2_b_air            16705 non-null  float64\n",
      " 72  secondary_cleaner.state.floatbank2_b_level          16748 non-null  float64\n",
      " 73  secondary_cleaner.state.floatbank3_a_air            16763 non-null  float64\n",
      " 74  secondary_cleaner.state.floatbank3_a_level          16747 non-null  float64\n",
      " 75  secondary_cleaner.state.floatbank3_b_air            16752 non-null  float64\n",
      " 76  secondary_cleaner.state.floatbank3_b_level          16750 non-null  float64\n",
      " 77  secondary_cleaner.state.floatbank4_a_air            16731 non-null  float64\n",
      " 78  secondary_cleaner.state.floatbank4_a_level          16747 non-null  float64\n",
      " 79  secondary_cleaner.state.floatbank4_b_air            16768 non-null  float64\n",
      " 80  secondary_cleaner.state.floatbank4_b_level          16767 non-null  float64\n",
      " 81  secondary_cleaner.state.floatbank5_a_air            16775 non-null  float64\n",
      " 82  secondary_cleaner.state.floatbank5_a_level          16775 non-null  float64\n",
      " 83  secondary_cleaner.state.floatbank5_b_air            16775 non-null  float64\n",
      " 84  secondary_cleaner.state.floatbank5_b_level          16776 non-null  float64\n",
      " 85  secondary_cleaner.state.floatbank6_a_air            16757 non-null  float64\n",
      " 86  secondary_cleaner.state.floatbank6_a_level          16775 non-null  float64\n",
      "dtypes: float64(86), object(1)\n",
      "memory usage: 11.2+ MB\n"
     ]
    },
    {
     "data": {
      "text/plain": [
       "None"
      ]
     },
     "metadata": {},
     "output_type": "display_data"
    }
   ],
   "source": [
    "display(train.info())"
   ]
  },
  {
   "cell_type": "markdown",
   "metadata": {},
   "source": [
    "## Test"
   ]
  },
  {
   "cell_type": "code",
   "execution_count": 4,
   "metadata": {
    "scrolled": true
   },
   "outputs": [
    {
     "name": "stdout",
     "output_type": "stream",
     "text": [
      "<class 'pandas.core.frame.DataFrame'>\n",
      "RangeIndex: 5856 entries, 0 to 5855\n",
      "Data columns (total 53 columns):\n",
      " #   Column                                      Non-Null Count  Dtype  \n",
      "---  ------                                      --------------  -----  \n",
      " 0   date                                        5856 non-null   object \n",
      " 1   primary_cleaner.input.sulfate               5554 non-null   float64\n",
      " 2   primary_cleaner.input.depressant            5572 non-null   float64\n",
      " 3   primary_cleaner.input.feed_size             5856 non-null   float64\n",
      " 4   primary_cleaner.input.xanthate              5690 non-null   float64\n",
      " 5   primary_cleaner.state.floatbank8_a_air      5840 non-null   float64\n",
      " 6   primary_cleaner.state.floatbank8_a_level    5840 non-null   float64\n",
      " 7   primary_cleaner.state.floatbank8_b_air      5840 non-null   float64\n",
      " 8   primary_cleaner.state.floatbank8_b_level    5840 non-null   float64\n",
      " 9   primary_cleaner.state.floatbank8_c_air      5840 non-null   float64\n",
      " 10  primary_cleaner.state.floatbank8_c_level    5840 non-null   float64\n",
      " 11  primary_cleaner.state.floatbank8_d_air      5840 non-null   float64\n",
      " 12  primary_cleaner.state.floatbank8_d_level    5840 non-null   float64\n",
      " 13  rougher.input.feed_ag                       5840 non-null   float64\n",
      " 14  rougher.input.feed_pb                       5840 non-null   float64\n",
      " 15  rougher.input.feed_rate                     5816 non-null   float64\n",
      " 16  rougher.input.feed_size                     5834 non-null   float64\n",
      " 17  rougher.input.feed_sol                      5789 non-null   float64\n",
      " 18  rougher.input.feed_au                       5840 non-null   float64\n",
      " 19  rougher.input.floatbank10_sulfate           5599 non-null   float64\n",
      " 20  rougher.input.floatbank10_xanthate          5733 non-null   float64\n",
      " 21  rougher.input.floatbank11_sulfate           5801 non-null   float64\n",
      " 22  rougher.input.floatbank11_xanthate          5503 non-null   float64\n",
      " 23  rougher.state.floatbank10_a_air             5839 non-null   float64\n",
      " 24  rougher.state.floatbank10_a_level           5840 non-null   float64\n",
      " 25  rougher.state.floatbank10_b_air             5839 non-null   float64\n",
      " 26  rougher.state.floatbank10_b_level           5840 non-null   float64\n",
      " 27  rougher.state.floatbank10_c_air             5839 non-null   float64\n",
      " 28  rougher.state.floatbank10_c_level           5840 non-null   float64\n",
      " 29  rougher.state.floatbank10_d_air             5839 non-null   float64\n",
      " 30  rougher.state.floatbank10_d_level           5840 non-null   float64\n",
      " 31  rougher.state.floatbank10_e_air             5839 non-null   float64\n",
      " 32  rougher.state.floatbank10_e_level           5840 non-null   float64\n",
      " 33  rougher.state.floatbank10_f_air             5839 non-null   float64\n",
      " 34  rougher.state.floatbank10_f_level           5840 non-null   float64\n",
      " 35  secondary_cleaner.state.floatbank2_a_air    5836 non-null   float64\n",
      " 36  secondary_cleaner.state.floatbank2_a_level  5840 non-null   float64\n",
      " 37  secondary_cleaner.state.floatbank2_b_air    5833 non-null   float64\n",
      " 38  secondary_cleaner.state.floatbank2_b_level  5840 non-null   float64\n",
      " 39  secondary_cleaner.state.floatbank3_a_air    5822 non-null   float64\n",
      " 40  secondary_cleaner.state.floatbank3_a_level  5840 non-null   float64\n",
      " 41  secondary_cleaner.state.floatbank3_b_air    5840 non-null   float64\n",
      " 42  secondary_cleaner.state.floatbank3_b_level  5840 non-null   float64\n",
      " 43  secondary_cleaner.state.floatbank4_a_air    5840 non-null   float64\n",
      " 44  secondary_cleaner.state.floatbank4_a_level  5840 non-null   float64\n",
      " 45  secondary_cleaner.state.floatbank4_b_air    5840 non-null   float64\n",
      " 46  secondary_cleaner.state.floatbank4_b_level  5840 non-null   float64\n",
      " 47  secondary_cleaner.state.floatbank5_a_air    5840 non-null   float64\n",
      " 48  secondary_cleaner.state.floatbank5_a_level  5840 non-null   float64\n",
      " 49  secondary_cleaner.state.floatbank5_b_air    5840 non-null   float64\n",
      " 50  secondary_cleaner.state.floatbank5_b_level  5840 non-null   float64\n",
      " 51  secondary_cleaner.state.floatbank6_a_air    5840 non-null   float64\n",
      " 52  secondary_cleaner.state.floatbank6_a_level  5840 non-null   float64\n",
      "dtypes: float64(52), object(1)\n",
      "memory usage: 2.4+ MB\n"
     ]
    },
    {
     "data": {
      "text/plain": [
       "None"
      ]
     },
     "metadata": {},
     "output_type": "display_data"
    }
   ],
   "source": [
    "display(test.info())"
   ]
  },
  {
   "cell_type": "markdown",
   "metadata": {},
   "source": [
    "## Full"
   ]
  },
  {
   "cell_type": "code",
   "execution_count": 5,
   "metadata": {},
   "outputs": [
    {
     "name": "stdout",
     "output_type": "stream",
     "text": [
      "<class 'pandas.core.frame.DataFrame'>\n",
      "RangeIndex: 22716 entries, 0 to 22715\n",
      "Data columns (total 87 columns):\n",
      " #   Column                                              Non-Null Count  Dtype  \n",
      "---  ------                                              --------------  -----  \n",
      " 0   date                                                22716 non-null  object \n",
      " 1   final.output.concentrate_ag                         22627 non-null  float64\n",
      " 2   final.output.concentrate_pb                         22629 non-null  float64\n",
      " 3   final.output.concentrate_sol                        22331 non-null  float64\n",
      " 4   final.output.concentrate_au                         22630 non-null  float64\n",
      " 5   final.output.recovery                               20753 non-null  float64\n",
      " 6   final.output.tail_ag                                22633 non-null  float64\n",
      " 7   final.output.tail_pb                                22516 non-null  float64\n",
      " 8   final.output.tail_sol                               22445 non-null  float64\n",
      " 9   final.output.tail_au                                22635 non-null  float64\n",
      " 10  primary_cleaner.input.sulfate                       21107 non-null  float64\n",
      " 11  primary_cleaner.input.depressant                    21170 non-null  float64\n",
      " 12  primary_cleaner.input.feed_size                     22716 non-null  float64\n",
      " 13  primary_cleaner.input.xanthate                      21565 non-null  float64\n",
      " 14  primary_cleaner.output.concentrate_ag               22618 non-null  float64\n",
      " 15  primary_cleaner.output.concentrate_pb               22268 non-null  float64\n",
      " 16  primary_cleaner.output.concentrate_sol              21918 non-null  float64\n",
      " 17  primary_cleaner.output.concentrate_au               22618 non-null  float64\n",
      " 18  primary_cleaner.output.tail_ag                      22614 non-null  float64\n",
      " 19  primary_cleaner.output.tail_pb                      22594 non-null  float64\n",
      " 20  primary_cleaner.output.tail_sol                     22365 non-null  float64\n",
      " 21  primary_cleaner.output.tail_au                      22617 non-null  float64\n",
      " 22  primary_cleaner.state.floatbank8_a_air              22660 non-null  float64\n",
      " 23  primary_cleaner.state.floatbank8_a_level            22667 non-null  float64\n",
      " 24  primary_cleaner.state.floatbank8_b_air              22660 non-null  float64\n",
      " 25  primary_cleaner.state.floatbank8_b_level            22673 non-null  float64\n",
      " 26  primary_cleaner.state.floatbank8_c_air              22662 non-null  float64\n",
      " 27  primary_cleaner.state.floatbank8_c_level            22673 non-null  float64\n",
      " 28  primary_cleaner.state.floatbank8_d_air              22661 non-null  float64\n",
      " 29  primary_cleaner.state.floatbank8_d_level            22673 non-null  float64\n",
      " 30  rougher.calculation.sulfate_to_au_concentrate       22672 non-null  float64\n",
      " 31  rougher.calculation.floatbank10_sulfate_to_au_feed  22672 non-null  float64\n",
      " 32  rougher.calculation.floatbank11_sulfate_to_au_feed  22672 non-null  float64\n",
      " 33  rougher.calculation.au_pb_ratio                     21089 non-null  float64\n",
      " 34  rougher.input.feed_ag                               22618 non-null  float64\n",
      " 35  rougher.input.feed_pb                               22472 non-null  float64\n",
      " 36  rougher.input.feed_rate                             22163 non-null  float64\n",
      " 37  rougher.input.feed_size                             22277 non-null  float64\n",
      " 38  rougher.input.feed_sol                              22357 non-null  float64\n",
      " 39  rougher.input.feed_au                               22617 non-null  float64\n",
      " 40  rougher.input.floatbank10_sulfate                   21415 non-null  float64\n",
      " 41  rougher.input.floatbank10_xanthate                  22247 non-null  float64\n",
      " 42  rougher.input.floatbank11_sulfate                   22038 non-null  float64\n",
      " 43  rougher.input.floatbank11_xanthate                  20459 non-null  float64\n",
      " 44  rougher.output.concentrate_ag                       22618 non-null  float64\n",
      " 45  rougher.output.concentrate_pb                       22618 non-null  float64\n",
      " 46  rougher.output.concentrate_sol                      22526 non-null  float64\n",
      " 47  rougher.output.concentrate_au                       22618 non-null  float64\n",
      " 48  rougher.output.recovery                             19597 non-null  float64\n",
      " 49  rougher.output.tail_ag                              19979 non-null  float64\n",
      " 50  rougher.output.tail_pb                              22618 non-null  float64\n",
      " 51  rougher.output.tail_sol                             19980 non-null  float64\n",
      " 52  rougher.output.tail_au                              19980 non-null  float64\n",
      " 53  rougher.state.floatbank10_a_air                     22646 non-null  float64\n",
      " 54  rougher.state.floatbank10_a_level                   22647 non-null  float64\n",
      " 55  rougher.state.floatbank10_b_air                     22646 non-null  float64\n",
      " 56  rougher.state.floatbank10_b_level                   22647 non-null  float64\n",
      " 57  rougher.state.floatbank10_c_air                     22646 non-null  float64\n",
      " 58  rougher.state.floatbank10_c_level                   22654 non-null  float64\n",
      " 59  rougher.state.floatbank10_d_air                     22641 non-null  float64\n",
      " 60  rougher.state.floatbank10_d_level                   22649 non-null  float64\n",
      " 61  rougher.state.floatbank10_e_air                     22096 non-null  float64\n",
      " 62  rougher.state.floatbank10_e_level                   22649 non-null  float64\n",
      " 63  rougher.state.floatbank10_f_air                     22641 non-null  float64\n",
      " 64  rougher.state.floatbank10_f_level                   22642 non-null  float64\n",
      " 65  secondary_cleaner.output.tail_ag                    22616 non-null  float64\n",
      " 66  secondary_cleaner.output.tail_pb                    22600 non-null  float64\n",
      " 67  secondary_cleaner.output.tail_sol                   20501 non-null  float64\n",
      " 68  secondary_cleaner.output.tail_au                    22618 non-null  float64\n",
      " 69  secondary_cleaner.state.floatbank2_a_air            22333 non-null  float64\n",
      " 70  secondary_cleaner.state.floatbank2_a_level          22591 non-null  float64\n",
      " 71  secondary_cleaner.state.floatbank2_b_air            22538 non-null  float64\n",
      " 72  secondary_cleaner.state.floatbank2_b_level          22588 non-null  float64\n",
      " 73  secondary_cleaner.state.floatbank3_a_air            22585 non-null  float64\n",
      " 74  secondary_cleaner.state.floatbank3_a_level          22587 non-null  float64\n",
      " 75  secondary_cleaner.state.floatbank3_b_air            22592 non-null  float64\n",
      " 76  secondary_cleaner.state.floatbank3_b_level          22590 non-null  float64\n",
      " 77  secondary_cleaner.state.floatbank4_a_air            22571 non-null  float64\n",
      " 78  secondary_cleaner.state.floatbank4_a_level          22587 non-null  float64\n",
      " 79  secondary_cleaner.state.floatbank4_b_air            22608 non-null  float64\n",
      " 80  secondary_cleaner.state.floatbank4_b_level          22607 non-null  float64\n",
      " 81  secondary_cleaner.state.floatbank5_a_air            22615 non-null  float64\n",
      " 82  secondary_cleaner.state.floatbank5_a_level          22615 non-null  float64\n",
      " 83  secondary_cleaner.state.floatbank5_b_air            22615 non-null  float64\n",
      " 84  secondary_cleaner.state.floatbank5_b_level          22616 non-null  float64\n",
      " 85  secondary_cleaner.state.floatbank6_a_air            22597 non-null  float64\n",
      " 86  secondary_cleaner.state.floatbank6_a_level          22615 non-null  float64\n",
      "dtypes: float64(86), object(1)\n",
      "memory usage: 15.1+ MB\n"
     ]
    },
    {
     "data": {
      "text/plain": [
       "None"
      ]
     },
     "metadata": {},
     "output_type": "display_data"
    }
   ],
   "source": [
    "display(full.info())"
   ]
  },
  {
   "cell_type": "code",
   "execution_count": 6,
   "metadata": {},
   "outputs": [
    {
     "name": "stdout",
     "output_type": "stream",
     "text": [
      "0\n",
      "0\n",
      "0\n"
     ]
    }
   ],
   "source": [
    "print(train.duplicated().sum())\n",
    "print(test.duplicated().sum())\n",
    "print(full.duplicated().sum())"
   ]
  },
  {
   "cell_type": "markdown",
   "metadata": {},
   "source": []
  },
  {
   "cell_type": "markdown",
   "metadata": {},
   "source": [
    "The train dataset has 87 columns and over 16,000 entries. There are 0 duplicates and most of the datatypes are floats.\n",
    "\n",
    "The test dataset has 53 columns and almost 6,000 entries. There are 0 duplicates and most of the datatypes are floats. \n",
    "\n",
    "The full dataset has 87 columns and nearly 23,000 entries. There are also 0 duplicates and the datatypes are also floats."
   ]
  },
  {
   "cell_type": "markdown",
   "metadata": {},
   "source": [
    "## Calculate missing value percentage"
   ]
  },
  {
   "cell_type": "code",
   "execution_count": 7,
   "metadata": {},
   "outputs": [
    {
     "name": "stdout",
     "output_type": "stream",
     "text": [
      "Missing values percentage in training dataset:\n",
      " date                                          0.000000\n",
      "final.output.concentrate_ag                   0.004909\n",
      "final.output.concentrate_pb                   0.004909\n",
      "final.output.concentrate_sol                  0.025225\n",
      "final.output.concentrate_au                   0.004840\n",
      "                                                ...   \n",
      "secondary_cleaner.state.floatbank5_a_level    0.005795\n",
      "secondary_cleaner.state.floatbank5_b_air      0.005795\n",
      "secondary_cleaner.state.floatbank5_b_level    0.005727\n",
      "secondary_cleaner.state.floatbank6_a_air      0.007022\n",
      "secondary_cleaner.state.floatbank6_a_level    0.005795\n",
      "Length: 87, dtype: float64\n",
      "\n",
      "Missing values percentage in test dataset:\n",
      " date                                          0.000000\n",
      "primary_cleaner.input.sulfate                 0.097304\n",
      "primary_cleaner.input.depressant              0.091504\n",
      "primary_cleaner.input.feed_size               0.000000\n",
      "primary_cleaner.input.xanthate                0.053485\n",
      "primary_cleaner.state.floatbank8_a_air        0.005155\n",
      "primary_cleaner.state.floatbank8_a_level      0.005155\n",
      "primary_cleaner.state.floatbank8_b_air        0.005155\n",
      "primary_cleaner.state.floatbank8_b_level      0.005155\n",
      "primary_cleaner.state.floatbank8_c_air        0.005155\n",
      "primary_cleaner.state.floatbank8_c_level      0.005155\n",
      "primary_cleaner.state.floatbank8_d_air        0.005155\n",
      "primary_cleaner.state.floatbank8_d_level      0.005155\n",
      "rougher.input.feed_ag                         0.005155\n",
      "rougher.input.feed_pb                         0.005155\n",
      "rougher.input.feed_rate                       0.012888\n",
      "rougher.input.feed_size                       0.007088\n",
      "rougher.input.feed_sol                        0.021587\n",
      "rougher.input.feed_au                         0.005155\n",
      "rougher.input.floatbank10_sulfate             0.082805\n",
      "rougher.input.floatbank10_xanthate            0.039630\n",
      "rougher.input.floatbank11_sulfate             0.017721\n",
      "rougher.input.floatbank11_xanthate            0.113736\n",
      "rougher.state.floatbank10_a_air               0.005477\n",
      "rougher.state.floatbank10_a_level             0.005155\n",
      "rougher.state.floatbank10_b_air               0.005477\n",
      "rougher.state.floatbank10_b_level             0.005155\n",
      "rougher.state.floatbank10_c_air               0.005477\n",
      "rougher.state.floatbank10_c_level             0.005155\n",
      "rougher.state.floatbank10_d_air               0.005477\n",
      "rougher.state.floatbank10_d_level             0.005155\n",
      "rougher.state.floatbank10_e_air               0.005477\n",
      "rougher.state.floatbank10_e_level             0.005155\n",
      "rougher.state.floatbank10_f_air               0.005477\n",
      "rougher.state.floatbank10_f_level             0.005155\n",
      "secondary_cleaner.state.floatbank2_a_air      0.006444\n",
      "secondary_cleaner.state.floatbank2_a_level    0.005155\n",
      "secondary_cleaner.state.floatbank2_b_air      0.007411\n",
      "secondary_cleaner.state.floatbank2_b_level    0.005155\n",
      "secondary_cleaner.state.floatbank3_a_air      0.010955\n",
      "secondary_cleaner.state.floatbank3_a_level    0.005155\n",
      "secondary_cleaner.state.floatbank3_b_air      0.005155\n",
      "secondary_cleaner.state.floatbank3_b_level    0.005155\n",
      "secondary_cleaner.state.floatbank4_a_air      0.005155\n",
      "secondary_cleaner.state.floatbank4_a_level    0.005155\n",
      "secondary_cleaner.state.floatbank4_b_air      0.005155\n",
      "secondary_cleaner.state.floatbank4_b_level    0.005155\n",
      "secondary_cleaner.state.floatbank5_a_air      0.005155\n",
      "secondary_cleaner.state.floatbank5_a_level    0.005155\n",
      "secondary_cleaner.state.floatbank5_b_air      0.005155\n",
      "secondary_cleaner.state.floatbank5_b_level    0.005155\n",
      "secondary_cleaner.state.floatbank6_a_air      0.005155\n",
      "secondary_cleaner.state.floatbank6_a_level    0.005155\n",
      "dtype: float64\n",
      "\n",
      "Missing values percentage in full dataset:\n",
      " date                                          0.000000\n",
      "final.output.concentrate_ag                   0.004503\n",
      "final.output.concentrate_pb                   0.004402\n",
      "final.output.concentrate_sol                  0.019481\n",
      "final.output.concentrate_au                   0.004352\n",
      "                                                ...   \n",
      "secondary_cleaner.state.floatbank5_a_level    0.005111\n",
      "secondary_cleaner.state.floatbank5_b_air      0.005111\n",
      "secondary_cleaner.state.floatbank5_b_level    0.005060\n",
      "secondary_cleaner.state.floatbank6_a_air      0.006021\n",
      "secondary_cleaner.state.floatbank6_a_level    0.005111\n",
      "Length: 87, dtype: float64\n"
     ]
    }
   ],
   "source": [
    "# Define function to calculate missing values percentage\n",
    "def calculate_missing_values(df):\n",
    "    missing_values = df.isnull().sum()\n",
    "    total_values = np.product(df.shape)\n",
    "    missing_percent = (missing_values / total_values) * 100\n",
    "    return missing_percent\n",
    "\n",
    "# Calculate missing values percentage for each dataset\n",
    "missing_percent_train = calculate_missing_values(train)\n",
    "missing_percent_test = calculate_missing_values(test)\n",
    "missing_percent_full = calculate_missing_values(full)\n",
    "\n",
    "print(\"Missing values percentage in training dataset:\\n\", missing_percent_train)\n",
    "print(\"\\nMissing values percentage in test dataset:\\n\", missing_percent_test)\n",
    "print(\"\\nMissing values percentage in full dataset:\\n\", missing_percent_full)"
   ]
  },
  {
   "cell_type": "markdown",
   "metadata": {},
   "source": [
    "We are identifying the extent of missing data in our datasets. By doing so, it will help us understand how crucial the percentage of missing values is and help us handle missing values in our analysis."
   ]
  },
  {
   "cell_type": "markdown",
   "metadata": {},
   "source": [
    "## Prepare the data"
   ]
  },
  {
   "cell_type": "markdown",
   "metadata": {},
   "source": [
    "### Check recovery calculations"
   ]
  },
  {
   "cell_type": "code",
   "execution_count": 8,
   "metadata": {},
   "outputs": [
    {
     "data": {
      "text/plain": [
       "9.303415616264301e-15"
      ]
     },
     "execution_count": 8,
     "metadata": {},
     "output_type": "execute_result"
    }
   ],
   "source": [
    "# Clean the dataset by dropping rows with missing values needed for the calculation\n",
    "train = train.dropna(subset=['rougher.output.concentrate_au', 'rougher.input.feed_au', 'rougher.output.tail_au', 'rougher.output.recovery'])\n",
    "\n",
    "# Extract the necessary columns for recovery calculation\n",
    "C = train['rougher.output.concentrate_au']\n",
    "F = train['rougher.input.feed_au']\n",
    "T = train['rougher.output.tail_au']\n",
    "\n",
    "# Calculate recovery using the formula\n",
    "calculated_recovery = (C * (F - T)) / (F * (C - T)) * 100\n",
    "\n",
    "# Calculate Mean Absolute Error between the calculated recovery and the actual 'rougher.output.recovery' feature\n",
    "actual_recovery = train['rougher.output.recovery']\n",
    "mae_recovery = mean_absolute_error(actual_recovery, calculated_recovery)\n",
    "\n",
    "# Print the MAE result\n",
    "mae_recovery"
   ]
  },
  {
   "cell_type": "markdown",
   "metadata": {},
   "source": [
    "We cleaned the dataset, calculate the recovery of valuable material in a mining process, and assess the accuracy of these calculations by comparing them to actual recorded recovery values using MAE. This validation step is crucial for ensuring the reliability of the recovery calculations that may be used in further analysis or modeling."
   ]
  },
  {
   "cell_type": "markdown",
   "metadata": {},
   "source": [
    "### Analyze features not available in the test set"
   ]
  },
  {
   "cell_type": "code",
   "execution_count": 9,
   "metadata": {},
   "outputs": [
    {
     "data": {
      "text/plain": [
       "'Missing features in test set:'"
      ]
     },
     "metadata": {},
     "output_type": "display_data"
    },
    {
     "data": {
      "text/plain": [
       "{'final.output.concentrate_ag',\n",
       " 'final.output.concentrate_au',\n",
       " 'final.output.concentrate_pb',\n",
       " 'final.output.concentrate_sol',\n",
       " 'final.output.recovery',\n",
       " 'final.output.tail_ag',\n",
       " 'final.output.tail_au',\n",
       " 'final.output.tail_pb',\n",
       " 'final.output.tail_sol',\n",
       " 'primary_cleaner.output.concentrate_ag',\n",
       " 'primary_cleaner.output.concentrate_au',\n",
       " 'primary_cleaner.output.concentrate_pb',\n",
       " 'primary_cleaner.output.concentrate_sol',\n",
       " 'primary_cleaner.output.tail_ag',\n",
       " 'primary_cleaner.output.tail_au',\n",
       " 'primary_cleaner.output.tail_pb',\n",
       " 'primary_cleaner.output.tail_sol',\n",
       " 'rougher.calculation.au_pb_ratio',\n",
       " 'rougher.calculation.floatbank10_sulfate_to_au_feed',\n",
       " 'rougher.calculation.floatbank11_sulfate_to_au_feed',\n",
       " 'rougher.calculation.sulfate_to_au_concentrate',\n",
       " 'rougher.output.concentrate_ag',\n",
       " 'rougher.output.concentrate_au',\n",
       " 'rougher.output.concentrate_pb',\n",
       " 'rougher.output.concentrate_sol',\n",
       " 'rougher.output.recovery',\n",
       " 'rougher.output.tail_ag',\n",
       " 'rougher.output.tail_au',\n",
       " 'rougher.output.tail_pb',\n",
       " 'rougher.output.tail_sol',\n",
       " 'secondary_cleaner.output.tail_ag',\n",
       " 'secondary_cleaner.output.tail_au',\n",
       " 'secondary_cleaner.output.tail_pb',\n",
       " 'secondary_cleaner.output.tail_sol'}"
      ]
     },
     "metadata": {},
     "output_type": "display_data"
    }
   ],
   "source": [
    "# Get columns in the training set but not in the test set\n",
    "missing_in_test = set(train.columns) - set(test.columns)\n",
    "display(\"Missing features in test set:\", missing_in_test)"
   ]
  },
  {
   "cell_type": "markdown",
   "metadata": {},
   "source": [
    "We highlighted any differences in features between the training and test datasets. Identifying these missing features is essential for ensuring the integrity of your machine learning workflow and avoiding potential issues during model evaluation."
   ]
  },
  {
   "cell_type": "markdown",
   "metadata": {},
   "source": [
    "### Perform data processing"
   ]
  },
  {
   "cell_type": "code",
   "execution_count": 10,
   "metadata": {},
   "outputs": [],
   "source": [
    "# Fill missing values for both train and test datasets using forward and backward fill\n",
    "train_data_filled = train.fillna(method='ffill').fillna(method='bfill').fillna(train.median())\n",
    "test_data_filled = test.fillna(method='ffill').fillna(method='bfill').fillna(test.median())\n",
    "\n",
    "# Replace positive and negative infinity with a large finite number\n",
    "train = train.replace([np.inf, -np.inf], np.finfo('float32').max)\n",
    "test = test.replace([np.inf, -np.inf], np.finfo('float32').max)\n",
    "\n",
    "# Convert only numeric columns to float32\n",
    "numeric_columns = train.select_dtypes(include=['float64', 'int64']).columns\n",
    "train[numeric_columns] = train[numeric_columns].astype('float32')\n",
    "\n",
    "numeric_columns_test = test.select_dtypes(include=['float64', 'int64']).columns\n",
    "test[numeric_columns_test] = test[numeric_columns_test].astype('float32')\n",
    "\n",
    "# Define train_data_aligned and test_data_aligned after filling NaN values\n",
    "train_data_aligned = train_data_filled\n",
    "test_data_aligned = test_data_filled\n",
    "\n",
    "# Align features for training and test datasets by finding common columns\n",
    "common_columns_for_model = train_data_aligned.drop(columns=['date']).columns.intersection(test_data_aligned.columns)\n",
    "\n",
    "# Create train and test features based on common columns\n",
    "train_features = train_data_aligned[common_columns_for_model]\n",
    "test_features = test_data_aligned[common_columns_for_model]\n",
    "\n",
    "# Set features for the train_test_split\n",
    "features = train_features\n",
    "\n",
    "# Set target variables\n",
    "target_rougher = train['rougher.output.recovery']\n",
    "target_final = train['final.output.recovery']"
   ]
  },
  {
   "cell_type": "markdown",
   "metadata": {},
   "source": [
    "We performed comprehensive preprocessing steps to clean and prepare the training and test datasets."
   ]
  },
  {
   "cell_type": "markdown",
   "metadata": {},
   "source": [
    "## Analyze the data"
   ]
  },
  {
   "cell_type": "markdown",
   "metadata": {},
   "source": [
    "### Concentration of metals at different stages"
   ]
  },
  {
   "cell_type": "code",
   "execution_count": 11,
   "metadata": {},
   "outputs": [
    {
     "data": {
      "text/html": [
       "<div>\n",
       "<style scoped>\n",
       "    .dataframe tbody tr th:only-of-type {\n",
       "        vertical-align: middle;\n",
       "    }\n",
       "\n",
       "    .dataframe tbody tr th {\n",
       "        vertical-align: top;\n",
       "    }\n",
       "\n",
       "    .dataframe thead th {\n",
       "        text-align: right;\n",
       "    }\n",
       "</style>\n",
       "<table border=\"1\" class=\"dataframe\">\n",
       "  <thead>\n",
       "    <tr style=\"text-align: right;\">\n",
       "      <th></th>\n",
       "      <th>rougher.input.feed_au</th>\n",
       "      <th>rougher.input.feed_ag</th>\n",
       "      <th>rougher.input.feed_pb</th>\n",
       "      <th>rougher.output.concentrate_au</th>\n",
       "      <th>rougher.output.concentrate_ag</th>\n",
       "      <th>rougher.output.concentrate_pb</th>\n",
       "    </tr>\n",
       "  </thead>\n",
       "  <tbody>\n",
       "    <tr>\n",
       "      <th>count</th>\n",
       "      <td>14287.000000</td>\n",
       "      <td>14287.000000</td>\n",
       "      <td>14164.000000</td>\n",
       "      <td>14287.000000</td>\n",
       "      <td>14287.000000</td>\n",
       "      <td>14287.000000</td>\n",
       "    </tr>\n",
       "    <tr>\n",
       "      <th>mean</th>\n",
       "      <td>7.840161</td>\n",
       "      <td>8.561742</td>\n",
       "      <td>3.516450</td>\n",
       "      <td>19.399651</td>\n",
       "      <td>11.757778</td>\n",
       "      <td>7.649529</td>\n",
       "    </tr>\n",
       "    <tr>\n",
       "      <th>std</th>\n",
       "      <td>1.951916</td>\n",
       "      <td>1.910018</td>\n",
       "      <td>1.078211</td>\n",
       "      <td>3.858091</td>\n",
       "      <td>2.783937</td>\n",
       "      <td>1.890110</td>\n",
       "    </tr>\n",
       "    <tr>\n",
       "      <th>min</th>\n",
       "      <td>0.010000</td>\n",
       "      <td>0.010000</td>\n",
       "      <td>0.008001</td>\n",
       "      <td>0.000000</td>\n",
       "      <td>0.000000</td>\n",
       "      <td>0.000000</td>\n",
       "    </tr>\n",
       "    <tr>\n",
       "      <th>25%</th>\n",
       "      <td>6.582628</td>\n",
       "      <td>7.123781</td>\n",
       "      <td>2.775010</td>\n",
       "      <td>18.398076</td>\n",
       "      <td>10.474166</td>\n",
       "      <td>6.842347</td>\n",
       "    </tr>\n",
       "    <tr>\n",
       "      <th>50%</th>\n",
       "      <td>7.637921</td>\n",
       "      <td>8.145010</td>\n",
       "      <td>3.418776</td>\n",
       "      <td>19.942364</td>\n",
       "      <td>11.743756</td>\n",
       "      <td>7.756204</td>\n",
       "    </tr>\n",
       "    <tr>\n",
       "      <th>75%</th>\n",
       "      <td>9.052151</td>\n",
       "      <td>9.905030</td>\n",
       "      <td>4.223256</td>\n",
       "      <td>21.391149</td>\n",
       "      <td>13.432909</td>\n",
       "      <td>8.601422</td>\n",
       "    </tr>\n",
       "    <tr>\n",
       "      <th>max</th>\n",
       "      <td>13.126042</td>\n",
       "      <td>14.596026</td>\n",
       "      <td>7.142594</td>\n",
       "      <td>28.522810</td>\n",
       "      <td>24.480270</td>\n",
       "      <td>18.394041</td>\n",
       "    </tr>\n",
       "  </tbody>\n",
       "</table>\n",
       "</div>"
      ],
      "text/plain": [
       "       rougher.input.feed_au  rougher.input.feed_ag  rougher.input.feed_pb  \\\n",
       "count           14287.000000           14287.000000           14164.000000   \n",
       "mean                7.840161               8.561742               3.516450   \n",
       "std                 1.951916               1.910018               1.078211   \n",
       "min                 0.010000               0.010000               0.008001   \n",
       "25%                 6.582628               7.123781               2.775010   \n",
       "50%                 7.637921               8.145010               3.418776   \n",
       "75%                 9.052151               9.905030               4.223256   \n",
       "max                13.126042              14.596026               7.142594   \n",
       "\n",
       "       rougher.output.concentrate_au  rougher.output.concentrate_ag  \\\n",
       "count                   14287.000000                   14287.000000   \n",
       "mean                       19.399651                      11.757778   \n",
       "std                         3.858091                       2.783937   \n",
       "min                         0.000000                       0.000000   \n",
       "25%                        18.398076                      10.474166   \n",
       "50%                        19.942364                      11.743756   \n",
       "75%                        21.391149                      13.432909   \n",
       "max                        28.522810                      24.480270   \n",
       "\n",
       "       rougher.output.concentrate_pb  \n",
       "count                   14287.000000  \n",
       "mean                        7.649529  \n",
       "std                         1.890110  \n",
       "min                         0.000000  \n",
       "25%                         6.842347  \n",
       "50%                         7.756204  \n",
       "75%                         8.601422  \n",
       "max                        18.394041  "
      ]
     },
     "metadata": {},
     "output_type": "display_data"
    }
   ],
   "source": [
    "metals = ['rougher.input.feed_au', 'rougher.input.feed_ag', 'rougher.input.feed_pb',\n",
    "          'rougher.output.concentrate_au', 'rougher.output.concentrate_ag', 'rougher.output.concentrate_pb']\n",
    "display(train[metals].describe())"
   ]
  },
  {
   "cell_type": "code",
   "execution_count": 12,
   "metadata": {},
   "outputs": [
    {
     "data": {
      "image/png": "[encoded data removed]",
      "text/plain": [
       "<Figure size 1000x600 with 1 Axes>"
      ]
     },
     "metadata": {},
     "output_type": "display_data"
    }
   ],
   "source": [
    "au_columns = ['rougher.input.feed_au', 'rougher.output.concentrate_au']\n",
    "plt.figure(figsize=(10, 6))\n",
    "\n",
    "# Plot distribution for 'rougher.input.feed_au' \n",
    "sns.histplot(train['rougher.input.feed_au'], bins=50, kde=True, color='blue', label='Input Feed Au')\n",
    "\n",
    "# Plot distribution for 'rougher.output.concentrate_au' \n",
    "sns.histplot(train['rougher.output.concentrate_au'], bins=50, kde=True, color='orange', label='Output Concentrate Au')\n",
    "\n",
    "plt.title('Distribution of Au Concentrations in Input Feed and Output Concentrate', fontsize=14)\n",
    "plt.xlabel('Au Concentration', fontsize=12)\n",
    "plt.ylabel('Frequency', fontsize=12)\n",
    "plt.legend()\n",
    "plt.show()"
   ]
  },
  {
   "cell_type": "code",
   "execution_count": 13,
   "metadata": {},
   "outputs": [
    {
     "data": {
      "image/png": "[encoded data removed]",
      "text/plain": [
       "<Figure size 1000x600 with 1 Axes>"
      ]
     },
     "metadata": {},
     "output_type": "display_data"
    }
   ],
   "source": [
    "ag_columns = ['rougher.input.feed_ag', 'rougher.output.concentrate_ag']\n",
    "plt.figure(figsize=(10, 6))\n",
    "\n",
    "# Plot distribution for 'rougher.input.feed_ag' \n",
    "sns.histplot(train['rougher.input.feed_ag'], bins=50, kde=True, color='green', label='Input Feed Ag')\n",
    "\n",
    "# Plot distribution for 'rougher.output.concentrate_ag' \n",
    "sns.histplot(train['rougher.output.concentrate_ag'], bins=50, kde=True, color='red', label='Output Concentrate Ag')\n",
    "\n",
    "plt.title('Distribution of Ag Concentrations in Input Feed and Output Concentrate', fontsize=14)\n",
    "plt.xlabel('Ag Concentration', fontsize=12)\n",
    "plt.ylabel('Frequency', fontsize=12)\n",
    "plt.legend()\n",
    "plt.show()"
   ]
  },
  {
   "cell_type": "code",
   "execution_count": 14,
   "metadata": {},
   "outputs": [
    {
     "data": {
      "image/png": "[encoded data removed]",
      "text/plain": [
       "<Figure size 1000x600 with 1 Axes>"
      ]
     },
     "metadata": {},
     "output_type": "display_data"
    }
   ],
   "source": [
    "pb_columns = ['rougher.input.feed_pb', 'rougher.output.concentrate_pb']\n",
    "plt.figure(figsize=(10, 6))\n",
    "\n",
    "# Plot distribution for 'rougher.input.feed_pb' \n",
    "sns.histplot(train['rougher.input.feed_pb'], bins=50, kde=True, color='purple', label='Input Feed Pb')\n",
    "\n",
    "# Plot distribution for 'rougher.output.concentrate_pb' \n",
    "sns.histplot(train['rougher.output.concentrate_pb'], bins=50, kde=True, color='pink', label='Output Concentrate Pb')\n",
    "\n",
    "plt.title('Distribution of Pb Concentrations in Input Feed and Output Concentrate', fontsize=14)\n",
    "plt.xlabel('Pb Concentration', fontsize=12)\n",
    "plt.ylabel('Frequency', fontsize=12)\n",
    "plt.legend()\n",
    "plt.show()"
   ]
  },
  {
   "cell_type": "markdown",
   "metadata": {},
   "source": [
    "TThe distributions of metal concentrations for Au, Ag, and Pb demonstrate a clear trend of increasing levels throughout the purification stages.\n",
    "\n",
    "Gold (Au) exhibits the most pronounced and efficient increase in concentration, with distinct peaks at each stage. The final concentrate shows the highest concentration, reflecting an effective recovery process.\n",
    "Silver (Ag) and Lead (Pb) also display improvements in concentration during the stages, but their distributions are wider. This indicates that while the purification process is effective, it is less efficient compared to the recovery of gold.\n",
    "\n",
    "In conclusion, the metal concentration distributions suggest that the purification process is highly effective for gold, with noticeable increases in silver and lead concentrations, albeit to a lesser extent.he metal concentration distributions suggest that the purification process is highly effective for gold, with noticeable increases in silver and lead concentrations, albeit to a lesser extent."
   ]
  },
  {
   "cell_type": "markdown",
   "metadata": {},
   "source": [
    "### Compare feed particle size distributions"
   ]
  },
  {
   "cell_type": "code",
   "execution_count": 15,
   "metadata": {},
   "outputs": [
    {
     "data": {
      "image/png": "[encoded data removed]",
      "text/plain": [
       "<Figure size 1000x600 with 1 Axes>"
      ]
     },
     "metadata": {},
     "output_type": "display_data"
    }
   ],
   "source": [
    "plt.figure(figsize=(10, 6))\n",
    "plt.hist(train['rougher.input.feed_size'], bins=50, alpha=0.5, label='Train', color='tomato', density=True)\n",
    "plt.hist(test['rougher.input.feed_size'], bins=50, alpha=0.5, label='Test', color='springgreen', density=True)\n",
    "plt.title('Normalized Distribution of rougher.input.feed_size in Train and Test Sets')\n",
    "plt.xlabel('Feed Size')\n",
    "plt.ylabel('Density')\n",
    "plt.legend()\n",
    "plt.grid(True)\n",
    "plt.show()"
   ]
  },
  {
   "cell_type": "markdown",
   "metadata": {},
   "source": [
    "After normalizing the histograms, it is evident that the feed particle size distributions in both the training and test sets are quite comparable. The highest density for both distributions occurs between 50 and 100 feed size units.\n",
    "\n",
    "Overall, the similarity between the two distributions indicates that the model trained on the training set is likely to generalize effectively to the test set concerning feed particle size."
   ]
  },
  {
   "cell_type": "markdown",
   "metadata": {},
   "source": [
    "### Total concentration of substances"
   ]
  },
  {
   "cell_type": "code",
   "execution_count": 16,
   "metadata": {},
   "outputs": [],
   "source": [
    "# Raw feed stage \n",
    "train['total_feed'] = (train['rougher.input.feed_au'] + \n",
    "                            train['rougher.input.feed_ag'] + \n",
    "                            train['rougher.input.feed_pb'])\n",
    "\n",
    "# Rougher concentrate stage \n",
    "train['total_rougher_concentrate'] = (train['rougher.output.concentrate_au'] + \n",
    "                                           train['rougher.output.concentrate_ag'] + \n",
    "                                           train['rougher.output.concentrate_pb'])\n",
    "\n",
    "# Final concentrate stage \n",
    "train['total_final_concentrate'] = (train['final.output.concentrate_au'] + \n",
    "                                         train['final.output.concentrate_ag'] + \n",
    "                                         train['final.output.concentrate_pb'])"
   ]
  },
  {
   "cell_type": "code",
   "execution_count": 17,
   "metadata": {},
   "outputs": [
    {
     "data": {
      "image/png": "[encoded data removed]",
      "text/plain": [
       "<Figure size 1200x800 with 1 Axes>"
      ]
     },
     "metadata": {},
     "output_type": "display_data"
    }
   ],
   "source": [
    "plt.figure(figsize=(12, 8))\n",
    "\n",
    "# Plot the distribution for total concentrations in raw feed, rougher concentrate, and final concentrate\n",
    "sns.histplot(train['total_feed'], bins=50, kde=True, color='blue', label='Total Raw Feed')\n",
    "sns.histplot(train['total_rougher_concentrate'], bins=50, kde=True, color='orange', label='Total Rougher Concentrate')\n",
    "sns.histplot(train['total_final_concentrate'], bins=50, kde=True, color='green', label='Total Final Concentrate')\n",
    "\n",
    "plt.title('Total Concentration of Au, Ag, Pb at Different Stages', fontsize=14)\n",
    "plt.xlabel('Total Concentration', fontsize=12)\n",
    "plt.ylabel('Frequency', fontsize=12)\n",
    "plt.legend()\n",
    "plt.show()"
   ]
  },
  {
   "cell_type": "markdown",
   "metadata": {},
   "source": [
    "We conducted an analysis of the total concentrations of Au, Ag, and Pb across various stages: raw feed, rougher concentrate, and final concentrate. Some extreme values observed in the final concentrate stage raised concerns about potential outliers. Further investigation revealed rows with near-zero total concentrations at different stages, likely abnormalities, as it is highly unlikely for metal concentrations to be near zero during any recovery process stage. By filtering out rows with near-zero concentrations, we have enhanced the dataset, ensuring it better represents the actual recovery process. The updated data will yield more accurate results for subsequent analysis and modeling."
   ]
  },
  {
   "cell_type": "code",
   "execution_count": 18,
   "metadata": {},
   "outputs": [
    {
     "name": "stdout",
     "output_type": "stream",
     "text": [
      "Original data size: 14287\n",
      "Cleaned data size: 13473\n"
     ]
    }
   ],
   "source": [
    "# Calculate the 1st and 99th percentiles for each stage\n",
    "feed_q1, feed_q99 = train['total_feed'].quantile([0.01, 0.99])\n",
    "rougher_concentrate_q1, rougher_concentrate_q99 = train['total_rougher_concentrate'].quantile([0.01, 0.99])\n",
    "final_concentrate_q1, final_concentrate_q99 = train['total_final_concentrate'].quantile([0.01, 0.99])\n",
    "\n",
    "# Filter out the anomalies based on these quantiles\n",
    "cleaned_data = train[(train['total_feed'].between(feed_q1, feed_q99)) &\n",
    "                          (train['total_rougher_concentrate'].between(rougher_concentrate_q1, rougher_concentrate_q99)) &\n",
    "                          (train['total_final_concentrate'].between(final_concentrate_q1, final_concentrate_q99))]\n",
    "\n",
    "print(\"Original data size:\", len(train))\n",
    "print(\"Cleaned data size:\", len(cleaned_data))"
   ]
  },
  {
   "cell_type": "markdown",
   "metadata": {},
   "source": [
    "We removed outliers from the data, focusing on the 1st to 99th percentile range, thus cleaning the dataset by filtering out extreme values that could negatively affect model performance."
   ]
  },
  {
   "cell_type": "markdown",
   "metadata": {},
   "source": [
    "## Build the model"
   ]
  },
  {
   "cell_type": "markdown",
   "metadata": {},
   "source": [
    "### Write a function to calculate the final sMAPE value"
   ]
  },
  {
   "cell_type": "code",
   "execution_count": 19,
   "metadata": {},
   "outputs": [],
   "source": [
    "# Define sMAPE function\n",
    "def smape(y_true, y_pred):\n",
    "    return 100 / len(y_true) * np.sum(2 * np.abs(y_pred - y_true) / (np.abs(y_true) + np.abs(y_pred)))\n",
    "\n",
    "\n",
    "# Function to calculate final sMAPE\n",
    "def final_smape_weighted(smape_rougher, smape_final):\n",
    "    \"\"\"\n",
    "    Calculate the final sMAPE using the weighted average formula:\n",
    "    25% sMAPE(rougher) + 75% sMAPE(final)\n",
    "    \"\"\"\n",
    "    return 0.25 * smape_rougher + 0.75 * smape_final"
   ]
  },
  {
   "cell_type": "markdown",
   "metadata": {},
   "source": [
    "### Train different models and evaluate"
   ]
  },
  {
   "cell_type": "code",
   "execution_count": 20,
   "metadata": {},
   "outputs": [],
   "source": [
    "# Function to fill missing values\n",
    "def fill_missing(target):\n",
    "    return target.fillna(target.mean())\n",
    "\n",
    "# Function to split the data\n",
    "def split_data(features, target):\n",
    "    return train_test_split(features, target, test_size=0.2, random_state=42)\n",
    "\n",
    "# Function to train models and calculate sMAPE\n",
    "def train_and_evaluate(models, X_train, y_train_rougher, y_train_final, X_valid, y_valid_rougher, y_valid_final):\n",
    "    model_results = {}\n",
    "    \n",
    "    for model_name, model in models.items():\n",
    "        # Train on rougher stage\n",
    "        model.fit(X_train, y_train_rougher)\n",
    "        y_pred_rougher = model.predict(X_valid)\n",
    "        \n",
    "        # Train on final stage\n",
    "        model.fit(X_train, y_train_final)\n",
    "        y_pred_final = model.predict(X_valid)\n",
    "        \n",
    "        # Calculate the rougher and final sMAPE\n",
    "        rougher_smape = smape(y_valid_rougher, y_pred_rougher)\n",
    "        final_smape = smape(y_valid_final, y_pred_final)\n",
    "        \n",
    "        # Calculate the weighted final sMAPE\n",
    "        smape_score = final_smape_weighted(rougher_smape, final_smape)\n",
    "        \n",
    "        # Store the results\n",
    "        model_results[model_name] = smape_score\n",
    "        \n",
    "    return model_results"
   ]
  },
  {
   "cell_type": "code",
   "execution_count": 21,
   "metadata": {},
   "outputs": [],
   "source": [
    "# Function to perform cross-validation\n",
    "def cross_validate(models, features, target_rougher, target_final, smape_scorer):\n",
    "    cv_results = {}\n",
    "    \n",
    "    for model_name, model in models.items():\n",
    "        cv_scores_rougher = -cross_val_score(model, features, target_rougher, cv=5, scoring=smape_scorer)\n",
    "        cv_scores_final = -cross_val_score(model, features, target_final, cv=5, scoring=smape_scorer)\n",
    "        \n",
    "        # Calculate mean cross-validation scores\n",
    "        mean_cv_score_rougher = np.mean(cv_scores_rougher)\n",
    "        mean_cv_score_final = np.mean(cv_scores_final)\n",
    "        \n",
    "        # Calculate final sMAPE using the available cross-validation scores\n",
    "        final_cv_score = final_smape_weighted(mean_cv_score_rougher, mean_cv_score_final)\n",
    "        \n",
    "        # Store the results\n",
    "        cv_results[model_name] = final_cv_score\n",
    "        \n",
    "    return cv_results"
   ]
  },
  {
   "cell_type": "code",
   "execution_count": 22,
   "metadata": {},
   "outputs": [
    {
     "data": {
      "text/plain": [
       "{'Linear Regression': 9.676021566492203,\n",
       " 'Decision Tree': 9.663184240717989,\n",
       " 'Random Forest': 9.376424113019846}"
      ]
     },
     "metadata": {},
     "output_type": "display_data"
    },
    {
     "data": {
      "text/plain": [
       "{'Linear Regression': 12.46408546243255,\n",
       " 'Decision Tree': 11.548210607142352,\n",
       " 'Random Forest': 10.82159944563315}"
      ]
     },
     "metadata": {},
     "output_type": "display_data"
    }
   ],
   "source": [
    "# Fill missing values in the target columns\n",
    "target_rougher = fill_missing(target_rougher)\n",
    "target_final = fill_missing(target_final)\n",
    "\n",
    "# Split the data into training and validation sets\n",
    "X_train, X_valid, y_train_rougher, y_valid_rougher = split_data(features, target_rougher)\n",
    "_, _, y_train_final, y_valid_final = split_data(features, target_final)\n",
    "\n",
    "# Initialize models\n",
    "models = {\n",
    "    \"Linear Regression\": LinearRegression(),\n",
    "    \"Decision Tree\": DecisionTreeRegressor(random_state=42, max_depth=5),\n",
    "    \"Random Forest\": RandomForestRegressor(random_state=42, n_estimators=10, max_depth=5)\n",
    "}\n",
    "\n",
    "# Train models and evaluate their performance\n",
    "model_results = train_and_evaluate(models, X_train, y_train_rougher, y_train_final, X_valid, y_valid_rougher, y_valid_final)\n",
    "display(model_results)\n",
    "\n",
    "# Create a scorer object using make_scorer\n",
    "smape_scorer = make_scorer(smape, greater_is_better=False)\n",
    "\n",
    "# Perform cross-validation for each model\n",
    "cv_results = cross_validate(models, features, target_rougher, target_final, smape_scorer)\n",
    "display(cv_results)"
   ]
  },
  {
   "cell_type": "code",
   "execution_count": 23,
   "metadata": {},
   "outputs": [
    {
     "name": "stdout",
     "output_type": "stream",
     "text": [
      "The best model is: Random Forest with cross-validated sMAPE: 10.82159944563315\n",
      "Predictions for Rougher Stage on Test Set:\n",
      "[84.76096292 78.06641003 78.06641003 ... 83.242463   84.76096292\n",
      " 86.18125108]\n",
      "Predictions for Final Stage on Test Set:\n",
      "[68.81975117 68.81975117 69.25073714 ... 71.13754635 71.88451749\n",
      " 71.88451749]\n"
     ]
    }
   ],
   "source": [
    "# Find the best model based on the final cross-validation scores\n",
    "best_model_name = min(cv_results, key=cv_results.get)\n",
    "best_model = models[best_model_name]\n",
    "\n",
    "print(f\"The best model is: {best_model_name} with cross-validated sMAPE: {cv_results[best_model_name]}\")\n",
    "\n",
    "# Train the best model on the full training set and make predictions\n",
    "best_model.fit(features, target_rougher)  \n",
    "test_pred_rougher = best_model.predict(test_features)\n",
    "\n",
    "best_model.fit(features, target_final)  \n",
    "test_pred_final = best_model.predict(test_features)\n",
    "\n",
    "print(\"Predictions for Rougher Stage on Test Set:\")\n",
    "print(test_pred_rougher)\n",
    "\n",
    "print(\"Predictions for Final Stage on Test Set:\")\n",
    "print(test_pred_final)"
   ]
  },
  {
   "cell_type": "markdown",
   "metadata": {},
   "source": [
    "# Conclusion\n",
    "Overall, the Random Forest outperformed the other models tested, achieving a cross- validated sMAPE of 10.82. This result indicates a satisfactory performance in predicting gold recovery at both the rougher and final stages."
   ]
  },
  {
   "cell_type": "markdown",
   "metadata": {},
   "source": []
  }
 ],
 "metadata": {
  "ExecuteTimeLog": [
   {
    "duration": 469,
    "start_time": "2024-08-20T18:58:51.161Z"
   },
   {
    "duration": 1030,
    "start_time": "2024-08-20T19:00:50.623Z"
   },
   {
    "duration": 31,
    "start_time": "2024-08-20T19:00:55.335Z"
   },
   {
    "duration": 29,
    "start_time": "2024-08-20T19:05:57.209Z"
   },
   {
    "duration": 29,
    "start_time": "2024-08-20T19:06:43.466Z"
   },
   {
    "duration": 32,
    "start_time": "2024-08-20T19:06:52.343Z"
   },
   {
    "duration": 12,
    "start_time": "2024-08-20T19:07:16.359Z"
   },
   {
    "duration": 149,
    "start_time": "2024-08-20T19:07:59.074Z"
   },
   {
    "duration": 104,
    "start_time": "2024-08-20T19:08:05.460Z"
   },
   {
    "duration": 3,
    "start_time": "2024-08-20T19:12:05.279Z"
   },
   {
    "duration": 18,
    "start_time": "2024-08-20T19:12:20.072Z"
   },
   {
    "duration": 19,
    "start_time": "2024-08-20T19:12:26.872Z"
   },
   {
    "duration": 20,
    "start_time": "2024-08-20T19:12:42.498Z"
   },
   {
    "duration": 35,
    "start_time": "2024-08-20T19:12:50.290Z"
   },
   {
    "duration": 31,
    "start_time": "2024-08-20T19:12:56.636Z"
   },
   {
    "duration": 9,
    "start_time": "2024-08-20T19:13:04.603Z"
   },
   {
    "duration": 11,
    "start_time": "2024-08-20T19:13:29.544Z"
   },
   {
    "duration": 40,
    "start_time": "2024-08-20T19:14:23.560Z"
   },
   {
    "duration": 28,
    "start_time": "2024-08-20T19:14:30.393Z"
   },
   {
    "duration": 31,
    "start_time": "2024-08-20T19:14:39.088Z"
   },
   {
    "duration": 32,
    "start_time": "2024-08-20T19:14:45.267Z"
   },
   {
    "duration": 12,
    "start_time": "2024-08-20T19:14:56.075Z"
   },
   {
    "duration": 153,
    "start_time": "2024-08-20T19:15:10.803Z"
   },
   {
    "duration": 1263,
    "start_time": "2024-08-21T18:39:18.826Z"
   },
   {
    "duration": 1173,
    "start_time": "2024-08-21T18:40:37.903Z"
   },
   {
    "duration": 1010,
    "start_time": "2024-08-21T18:40:39.080Z"
   },
   {
    "duration": 34,
    "start_time": "2024-08-21T18:40:40.092Z"
   },
   {
    "duration": 33,
    "start_time": "2024-08-21T18:40:40.130Z"
   },
   {
    "duration": 30,
    "start_time": "2024-08-21T18:40:40.165Z"
   },
   {
    "duration": 36,
    "start_time": "2024-08-21T18:40:40.197Z"
   },
   {
    "duration": 127,
    "start_time": "2024-08-21T18:40:40.235Z"
   },
   {
    "duration": 20,
    "start_time": "2024-08-21T18:40:40.365Z"
   },
   {
    "duration": 52,
    "start_time": "2024-08-21T18:40:40.389Z"
   },
   {
    "duration": 28,
    "start_time": "2024-08-21T18:40:40.447Z"
   },
   {
    "duration": 10,
    "start_time": "2024-08-21T18:40:40.478Z"
   },
   {
    "duration": 64,
    "start_time": "2024-08-21T18:40:40.490Z"
   },
   {
    "duration": 22,
    "start_time": "2024-08-21T18:40:40.557Z"
   },
   {
    "duration": 53,
    "start_time": "2024-08-21T18:40:40.582Z"
   },
   {
    "duration": 28,
    "start_time": "2024-08-21T18:40:40.638Z"
   },
   {
    "duration": 13,
    "start_time": "2024-08-21T18:40:40.669Z"
   },
   {
    "duration": 184,
    "start_time": "2024-08-21T18:40:40.685Z"
   },
   {
    "duration": 646,
    "start_time": "2024-08-21T18:40:40.872Z"
   },
   {
    "duration": 1207,
    "start_time": "2024-08-21T18:43:49.360Z"
   },
   {
    "duration": 798,
    "start_time": "2024-08-21T18:43:50.571Z"
   },
   {
    "duration": 25,
    "start_time": "2024-08-21T18:43:51.371Z"
   },
   {
    "duration": 57,
    "start_time": "2024-08-21T18:43:51.401Z"
   },
   {
    "duration": 30,
    "start_time": "2024-08-21T18:43:51.460Z"
   },
   {
    "duration": 40,
    "start_time": "2024-08-21T18:43:51.493Z"
   },
   {
    "duration": 117,
    "start_time": "2024-08-21T18:43:51.536Z"
   },
   {
    "duration": 19,
    "start_time": "2024-08-21T18:43:51.656Z"
   },
   {
    "duration": 57,
    "start_time": "2024-08-21T18:43:51.678Z"
   },
   {
    "duration": 27,
    "start_time": "2024-08-21T18:43:51.741Z"
   },
   {
    "duration": 11,
    "start_time": "2024-08-21T18:43:51.770Z"
   },
   {
    "duration": 67,
    "start_time": "2024-08-21T18:43:51.785Z"
   },
   {
    "duration": 25,
    "start_time": "2024-08-21T18:43:51.855Z"
   },
   {
    "duration": 49,
    "start_time": "2024-08-21T18:43:51.882Z"
   },
   {
    "duration": 27,
    "start_time": "2024-08-21T18:43:51.935Z"
   },
   {
    "duration": 13,
    "start_time": "2024-08-21T18:43:51.967Z"
   },
   {
    "duration": 189,
    "start_time": "2024-08-21T18:43:51.982Z"
   },
   {
    "duration": 9,
    "start_time": "2024-08-21T18:43:52.174Z"
   },
   {
    "duration": 0,
    "start_time": "2024-08-21T18:43:52.186Z"
   },
   {
    "duration": 1214,
    "start_time": "2024-08-21T18:44:05.065Z"
   },
   {
    "duration": 838,
    "start_time": "2024-08-21T18:44:06.283Z"
   },
   {
    "duration": 23,
    "start_time": "2024-08-21T18:44:07.126Z"
   },
   {
    "duration": 34,
    "start_time": "2024-08-21T18:44:07.153Z"
   },
   {
    "duration": 56,
    "start_time": "2024-08-21T18:44:07.190Z"
   },
   {
    "duration": 13,
    "start_time": "2024-08-21T18:44:07.249Z"
   },
   {
    "duration": 135,
    "start_time": "2024-08-21T18:44:07.266Z"
   },
   {
    "duration": 32,
    "start_time": "2024-08-21T18:44:07.404Z"
   },
   {
    "duration": 29,
    "start_time": "2024-08-21T18:44:07.439Z"
   },
   {
    "duration": 56,
    "start_time": "2024-08-21T18:44:07.474Z"
   },
   {
    "duration": 14,
    "start_time": "2024-08-21T18:44:07.535Z"
   },
   {
    "duration": 33,
    "start_time": "2024-08-21T18:44:07.552Z"
   },
   {
    "duration": 59,
    "start_time": "2024-08-21T18:44:07.589Z"
   },
   {
    "duration": 27,
    "start_time": "2024-08-21T18:44:07.651Z"
   },
   {
    "duration": 67,
    "start_time": "2024-08-21T18:44:07.681Z"
   },
   {
    "duration": 12,
    "start_time": "2024-08-21T18:44:07.753Z"
   },
   {
    "duration": 169,
    "start_time": "2024-08-21T18:44:07.768Z"
   },
   {
    "duration": 25,
    "start_time": "2024-08-21T18:44:07.940Z"
   },
   {
    "duration": 774,
    "start_time": "2024-08-21T18:44:07.968Z"
   },
   {
    "duration": 4,
    "start_time": "2024-08-21T18:44:27.726Z"
   },
   {
    "duration": 3,
    "start_time": "2024-08-21T18:44:31.653Z"
   },
   {
    "duration": 3,
    "start_time": "2024-08-21T18:44:38.804Z"
   },
   {
    "duration": 4,
    "start_time": "2024-08-21T18:51:13.326Z"
   },
   {
    "duration": 405,
    "start_time": "2024-08-21T18:51:50.583Z"
   },
   {
    "duration": 791,
    "start_time": "2024-08-21T18:51:50.991Z"
   },
   {
    "duration": 24,
    "start_time": "2024-08-21T18:51:51.785Z"
   },
   {
    "duration": 31,
    "start_time": "2024-08-21T18:51:51.829Z"
   },
   {
    "duration": 28,
    "start_time": "2024-08-21T18:51:51.863Z"
   },
   {
    "duration": 39,
    "start_time": "2024-08-21T18:51:51.895Z"
   },
   {
    "duration": 122,
    "start_time": "2024-08-21T18:51:51.937Z"
   },
   {
    "duration": 20,
    "start_time": "2024-08-21T18:51:52.062Z"
   },
   {
    "duration": 47,
    "start_time": "2024-08-21T18:51:52.085Z"
   },
   {
    "duration": 29,
    "start_time": "2024-08-21T18:51:52.137Z"
   },
   {
    "duration": 13,
    "start_time": "2024-08-21T18:51:52.169Z"
   },
   {
    "duration": 72,
    "start_time": "2024-08-21T18:51:52.185Z"
   },
   {
    "duration": 23,
    "start_time": "2024-08-21T18:51:52.260Z"
   },
   {
    "duration": 56,
    "start_time": "2024-08-21T18:51:52.286Z"
   },
   {
    "duration": 29,
    "start_time": "2024-08-21T18:51:52.344Z"
   },
   {
    "duration": 13,
    "start_time": "2024-08-21T18:51:52.378Z"
   },
   {
    "duration": 187,
    "start_time": "2024-08-21T18:51:52.393Z"
   },
   {
    "duration": 73,
    "start_time": "2024-08-21T18:51:52.583Z"
   },
   {
    "duration": 4,
    "start_time": "2024-08-21T18:51:52.659Z"
   },
   {
    "duration": 110,
    "start_time": "2024-08-21T18:56:35.181Z"
   },
   {
    "duration": 3,
    "start_time": "2024-08-21T18:57:07.564Z"
   },
   {
    "duration": 715,
    "start_time": "2024-08-21T18:58:51.547Z"
   },
   {
    "duration": 12,
    "start_time": "2024-08-21T19:00:12.068Z"
   },
   {
    "duration": 1238,
    "start_time": "2024-08-21T19:00:48.609Z"
   },
   {
    "duration": 892,
    "start_time": "2024-08-21T19:00:49.851Z"
   },
   {
    "duration": 25,
    "start_time": "2024-08-21T19:00:50.745Z"
   },
   {
    "duration": 63,
    "start_time": "2024-08-21T19:00:50.774Z"
   },
   {
    "duration": 29,
    "start_time": "2024-08-21T19:00:50.841Z"
   },
   {
    "duration": 14,
    "start_time": "2024-08-21T19:00:50.874Z"
   },
   {
    "duration": 150,
    "start_time": "2024-08-21T19:00:50.891Z"
   },
   {
    "duration": 21,
    "start_time": "2024-08-21T19:00:51.044Z"
   },
   {
    "duration": 31,
    "start_time": "2024-08-21T19:00:51.068Z"
   },
   {
    "duration": 28,
    "start_time": "2024-08-21T19:00:51.129Z"
   },
   {
    "duration": 14,
    "start_time": "2024-08-21T19:00:51.160Z"
   },
   {
    "duration": 72,
    "start_time": "2024-08-21T19:00:51.178Z"
   },
   {
    "duration": 25,
    "start_time": "2024-08-21T19:00:51.257Z"
   },
   {
    "duration": 53,
    "start_time": "2024-08-21T19:00:51.286Z"
   },
   {
    "duration": 29,
    "start_time": "2024-08-21T19:00:51.343Z"
   },
   {
    "duration": 13,
    "start_time": "2024-08-21T19:00:51.376Z"
   },
   {
    "duration": 191,
    "start_time": "2024-08-21T19:00:51.392Z"
   },
   {
    "duration": 646,
    "start_time": "2024-08-21T19:00:51.586Z"
   },
   {
    "duration": 0,
    "start_time": "2024-08-21T19:00:52.236Z"
   },
   {
    "duration": 70,
    "start_time": "2024-08-21T19:02:56.055Z"
   },
   {
    "duration": 122,
    "start_time": "2024-08-21T19:03:26.516Z"
   },
   {
    "duration": 123,
    "start_time": "2024-08-21T19:03:30.235Z"
   },
   {
    "duration": 1151,
    "start_time": "2024-08-21T19:03:35.098Z"
   },
   {
    "duration": 830,
    "start_time": "2024-08-21T19:03:36.252Z"
   },
   {
    "duration": 25,
    "start_time": "2024-08-21T19:03:37.085Z"
   },
   {
    "duration": 35,
    "start_time": "2024-08-21T19:03:37.126Z"
   },
   {
    "duration": 59,
    "start_time": "2024-08-21T19:03:37.167Z"
   },
   {
    "duration": 12,
    "start_time": "2024-08-21T19:03:37.231Z"
   },
   {
    "duration": 142,
    "start_time": "2024-08-21T19:03:37.247Z"
   },
   {
    "duration": 35,
    "start_time": "2024-08-21T19:03:37.392Z"
   },
   {
    "duration": 32,
    "start_time": "2024-08-21T19:03:37.430Z"
   },
   {
    "duration": 64,
    "start_time": "2024-08-21T19:03:37.465Z"
   },
   {
    "duration": 19,
    "start_time": "2024-08-21T19:03:37.535Z"
   },
   {
    "duration": 43,
    "start_time": "2024-08-21T19:03:37.558Z"
   },
   {
    "duration": 44,
    "start_time": "2024-08-21T19:03:37.604Z"
   },
   {
    "duration": 29,
    "start_time": "2024-08-21T19:03:37.657Z"
   },
   {
    "duration": 61,
    "start_time": "2024-08-21T19:03:37.690Z"
   },
   {
    "duration": 14,
    "start_time": "2024-08-21T19:03:37.754Z"
   },
   {
    "duration": 185,
    "start_time": "2024-08-21T19:03:37.771Z"
   },
   {
    "duration": 84,
    "start_time": "2024-08-21T19:03:37.959Z"
   },
   {
    "duration": 132,
    "start_time": "2024-08-21T19:03:38.047Z"
   },
   {
    "duration": 687,
    "start_time": "2024-08-21T19:03:38.182Z"
   },
   {
    "duration": 0,
    "start_time": "2024-08-21T19:03:38.872Z"
   },
   {
    "duration": 1195,
    "start_time": "2024-08-21T19:05:31.528Z"
   },
   {
    "duration": 887,
    "start_time": "2024-08-21T19:05:32.726Z"
   },
   {
    "duration": 32,
    "start_time": "2024-08-21T19:05:33.616Z"
   },
   {
    "duration": 39,
    "start_time": "2024-08-21T19:05:33.652Z"
   },
   {
    "duration": 55,
    "start_time": "2024-08-21T19:05:33.697Z"
   },
   {
    "duration": 14,
    "start_time": "2024-08-21T19:05:33.756Z"
   },
   {
    "duration": 166,
    "start_time": "2024-08-21T19:05:33.773Z"
   },
   {
    "duration": 23,
    "start_time": "2024-08-21T19:05:33.942Z"
   },
   {
    "duration": 29,
    "start_time": "2024-08-21T19:05:33.968Z"
   },
   {
    "duration": 50,
    "start_time": "2024-08-21T19:05:34.002Z"
   },
   {
    "duration": 11,
    "start_time": "2024-08-21T19:05:34.058Z"
   },
   {
    "duration": 68,
    "start_time": "2024-08-21T19:05:34.074Z"
   },
   {
    "duration": 26,
    "start_time": "2024-08-21T19:05:34.145Z"
   },
   {
    "duration": 64,
    "start_time": "2024-08-21T19:05:34.174Z"
   },
   {
    "duration": 31,
    "start_time": "2024-08-21T19:05:34.243Z"
   },
   {
    "duration": 44,
    "start_time": "2024-08-21T19:05:34.281Z"
   },
   {
    "duration": 173,
    "start_time": "2024-08-21T19:05:34.330Z"
   },
   {
    "duration": 70,
    "start_time": "2024-08-21T19:05:34.507Z"
   },
   {
    "duration": 118,
    "start_time": "2024-08-21T19:05:34.581Z"
   },
   {
    "duration": 661,
    "start_time": "2024-08-21T19:05:34.702Z"
   },
   {
    "duration": 0,
    "start_time": "2024-08-21T19:05:35.366Z"
   },
   {
    "duration": 3,
    "start_time": "2024-08-21T19:10:16.076Z"
   },
   {
    "duration": 20,
    "start_time": "2024-08-21T19:12:34.784Z"
   },
   {
    "duration": 148,
    "start_time": "2024-08-21T19:13:58.980Z"
   },
   {
    "duration": 419,
    "start_time": "2024-08-21T19:14:57.304Z"
   },
   {
    "duration": 1192,
    "start_time": "2024-08-21T19:15:53.322Z"
   },
   {
    "duration": 37,
    "start_time": "2024-08-21T19:16:46.716Z"
   },
   {
    "duration": 1166,
    "start_time": "2024-08-21T19:17:04.473Z"
   },
   {
    "duration": 907,
    "start_time": "2024-08-21T19:17:05.643Z"
   },
   {
    "duration": 24,
    "start_time": "2024-08-21T19:17:06.554Z"
   },
   {
    "duration": 54,
    "start_time": "2024-08-21T19:17:06.585Z"
   },
   {
    "duration": 32,
    "start_time": "2024-08-21T19:17:06.645Z"
   },
   {
    "duration": 12,
    "start_time": "2024-08-21T19:17:06.682Z"
   },
   {
    "duration": 142,
    "start_time": "2024-08-21T19:17:06.698Z"
   },
   {
    "duration": 20,
    "start_time": "2024-08-21T19:17:06.844Z"
   },
   {
    "duration": 61,
    "start_time": "2024-08-21T19:17:06.867Z"
   },
   {
    "duration": 29,
    "start_time": "2024-08-21T19:17:06.932Z"
   },
   {
    "duration": 12,
    "start_time": "2024-08-21T19:17:06.964Z"
   },
   {
    "duration": 71,
    "start_time": "2024-08-21T19:17:06.980Z"
   },
   {
    "duration": 25,
    "start_time": "2024-08-21T19:17:07.054Z"
   },
   {
    "duration": 53,
    "start_time": "2024-08-21T19:17:07.086Z"
   },
   {
    "duration": 36,
    "start_time": "2024-08-21T19:17:07.142Z"
   },
   {
    "duration": 14,
    "start_time": "2024-08-21T19:17:07.182Z"
   },
   {
    "duration": 187,
    "start_time": "2024-08-21T19:17:07.228Z"
   },
   {
    "duration": 65,
    "start_time": "2024-08-21T19:17:07.419Z"
   },
   {
    "duration": 185,
    "start_time": "2024-08-21T19:17:07.486Z"
   },
   {
    "duration": 185,
    "start_time": "2024-08-21T19:17:07.675Z"
   },
   {
    "duration": 911,
    "start_time": "2024-08-21T19:17:07.864Z"
   },
   {
    "duration": 1243,
    "start_time": "2024-08-21T19:20:17.005Z"
   },
   {
    "duration": 899,
    "start_time": "2024-08-21T19:20:18.252Z"
   },
   {
    "duration": 26,
    "start_time": "2024-08-21T19:20:19.155Z"
   },
   {
    "duration": 51,
    "start_time": "2024-08-21T19:20:19.189Z"
   },
   {
    "duration": 31,
    "start_time": "2024-08-21T19:20:19.246Z"
   },
   {
    "duration": 45,
    "start_time": "2024-08-21T19:20:19.281Z"
   },
   {
    "duration": 120,
    "start_time": "2024-08-21T19:20:19.329Z"
   },
   {
    "duration": 22,
    "start_time": "2024-08-21T19:20:19.452Z"
   },
   {
    "duration": 60,
    "start_time": "2024-08-21T19:20:19.477Z"
   },
   {
    "duration": 33,
    "start_time": "2024-08-21T19:20:19.545Z"
   },
   {
    "duration": 12,
    "start_time": "2024-08-21T19:20:19.581Z"
   },
   {
    "duration": 62,
    "start_time": "2024-08-21T19:20:19.596Z"
   },
   {
    "duration": 26,
    "start_time": "2024-08-21T19:20:19.663Z"
   },
   {
    "duration": 56,
    "start_time": "2024-08-21T19:20:19.692Z"
   },
   {
    "duration": 36,
    "start_time": "2024-08-21T19:20:19.751Z"
   },
   {
    "duration": 42,
    "start_time": "2024-08-21T19:20:19.794Z"
   },
   {
    "duration": 201,
    "start_time": "2024-08-21T19:20:19.839Z"
   },
   {
    "duration": 84,
    "start_time": "2024-08-21T19:20:20.044Z"
   },
   {
    "duration": 169,
    "start_time": "2024-08-21T19:20:20.135Z"
   },
   {
    "duration": 169,
    "start_time": "2024-08-21T19:20:20.307Z"
   },
   {
    "duration": 653,
    "start_time": "2024-08-21T19:20:20.479Z"
   },
   {
    "duration": 0,
    "start_time": "2024-08-21T19:20:21.135Z"
   },
   {
    "duration": 0,
    "start_time": "2024-08-21T19:20:21.138Z"
   },
   {
    "duration": 1149,
    "start_time": "2024-08-21T19:22:54.280Z"
   },
   {
    "duration": 881,
    "start_time": "2024-08-21T19:22:55.432Z"
   },
   {
    "duration": 26,
    "start_time": "2024-08-21T19:22:56.317Z"
   },
   {
    "duration": 39,
    "start_time": "2024-08-21T19:22:56.348Z"
   },
   {
    "duration": 52,
    "start_time": "2024-08-21T19:22:56.391Z"
   },
   {
    "duration": 13,
    "start_time": "2024-08-21T19:22:56.449Z"
   },
   {
    "duration": 148,
    "start_time": "2024-08-21T19:22:56.466Z"
   },
   {
    "duration": 26,
    "start_time": "2024-08-21T19:22:56.618Z"
   },
   {
    "duration": 33,
    "start_time": "2024-08-21T19:22:56.647Z"
   },
   {
    "duration": 53,
    "start_time": "2024-08-21T19:22:56.689Z"
   },
   {
    "duration": 10,
    "start_time": "2024-08-21T19:22:56.745Z"
   },
   {
    "duration": 34,
    "start_time": "2024-08-21T19:22:56.757Z"
   },
   {
    "duration": 26,
    "start_time": "2024-08-21T19:22:56.827Z"
   },
   {
    "duration": 28,
    "start_time": "2024-08-21T19:22:56.856Z"
   },
   {
    "duration": 58,
    "start_time": "2024-08-21T19:22:56.887Z"
   },
   {
    "duration": 14,
    "start_time": "2024-08-21T19:22:56.948Z"
   },
   {
    "duration": 193,
    "start_time": "2024-08-21T19:22:56.964Z"
   },
   {
    "duration": 74,
    "start_time": "2024-08-21T19:22:57.160Z"
   },
   {
    "duration": 169,
    "start_time": "2024-08-21T19:22:57.237Z"
   },
   {
    "duration": 197,
    "start_time": "2024-08-21T19:22:57.410Z"
   },
   {
    "duration": 1343,
    "start_time": "2024-08-21T19:22:57.610Z"
   },
   {
    "duration": 0,
    "start_time": "2024-08-21T19:22:58.956Z"
   },
   {
    "duration": 0,
    "start_time": "2024-08-21T19:22:58.959Z"
   },
   {
    "duration": 0,
    "start_time": "2024-08-21T19:22:58.961Z"
   },
   {
    "duration": 16,
    "start_time": "2024-08-21T19:25:32.475Z"
   },
   {
    "duration": 262,
    "start_time": "2024-08-21T19:26:03.742Z"
   },
   {
    "duration": 1217,
    "start_time": "2024-08-21T19:26:54.837Z"
   },
   {
    "duration": 872,
    "start_time": "2024-08-21T19:26:56.059Z"
   },
   {
    "duration": 27,
    "start_time": "2024-08-21T19:26:56.934Z"
   },
   {
    "duration": 38,
    "start_time": "2024-08-21T19:26:56.964Z"
   },
   {
    "duration": 29,
    "start_time": "2024-08-21T19:26:57.030Z"
   },
   {
    "duration": 15,
    "start_time": "2024-08-21T19:26:57.063Z"
   },
   {
    "duration": 151,
    "start_time": "2024-08-21T19:26:57.081Z"
   },
   {
    "duration": 20,
    "start_time": "2024-08-21T19:26:57.235Z"
   },
   {
    "duration": 33,
    "start_time": "2024-08-21T19:26:57.258Z"
   },
   {
    "duration": 57,
    "start_time": "2024-08-21T19:26:57.295Z"
   },
   {
    "duration": 13,
    "start_time": "2024-08-21T19:26:57.355Z"
   },
   {
    "duration": 65,
    "start_time": "2024-08-21T19:26:57.371Z"
   },
   {
    "duration": 31,
    "start_time": "2024-08-21T19:26:57.439Z"
   },
   {
    "duration": 55,
    "start_time": "2024-08-21T19:26:57.479Z"
   },
   {
    "duration": 34,
    "start_time": "2024-08-21T19:26:57.538Z"
   },
   {
    "duration": 15,
    "start_time": "2024-08-21T19:26:57.575Z"
   },
   {
    "duration": 161,
    "start_time": "2024-08-21T19:26:57.625Z"
   },
   {
    "duration": 74,
    "start_time": "2024-08-21T19:26:57.790Z"
   },
   {
    "duration": 23,
    "start_time": "2024-08-21T19:26:57.867Z"
   },
   {
    "duration": 291,
    "start_time": "2024-08-21T19:26:57.893Z"
   },
   {
    "duration": 703,
    "start_time": "2024-08-21T19:26:58.193Z"
   },
   {
    "duration": 1,
    "start_time": "2024-08-21T19:26:58.899Z"
   },
   {
    "duration": 0,
    "start_time": "2024-08-21T19:26:58.901Z"
   },
   {
    "duration": 0,
    "start_time": "2024-08-21T19:26:58.905Z"
   },
   {
    "duration": 0,
    "start_time": "2024-08-21T19:26:58.907Z"
   },
   {
    "duration": 0,
    "start_time": "2024-08-21T19:26:58.910Z"
   },
   {
    "duration": 78,
    "start_time": "2024-08-21T19:28:40.943Z"
   },
   {
    "duration": 1261,
    "start_time": "2024-08-21T19:28:46.758Z"
   },
   {
    "duration": 932,
    "start_time": "2024-08-21T19:28:48.023Z"
   },
   {
    "duration": 25,
    "start_time": "2024-08-21T19:28:48.959Z"
   },
   {
    "duration": 58,
    "start_time": "2024-08-21T19:28:48.986Z"
   },
   {
    "duration": 30,
    "start_time": "2024-08-21T19:28:49.049Z"
   },
   {
    "duration": 43,
    "start_time": "2024-08-21T19:28:49.085Z"
   },
   {
    "duration": 119,
    "start_time": "2024-08-21T19:28:49.132Z"
   },
   {
    "duration": 22,
    "start_time": "2024-08-21T19:28:49.255Z"
   },
   {
    "duration": 57,
    "start_time": "2024-08-21T19:28:49.280Z"
   },
   {
    "duration": 31,
    "start_time": "2024-08-21T19:28:49.341Z"
   },
   {
    "duration": 18,
    "start_time": "2024-08-21T19:28:49.377Z"
   },
   {
    "duration": 68,
    "start_time": "2024-08-21T19:28:49.399Z"
   },
   {
    "duration": 30,
    "start_time": "2024-08-21T19:28:49.471Z"
   },
   {
    "duration": 30,
    "start_time": "2024-08-21T19:28:49.525Z"
   },
   {
    "duration": 32,
    "start_time": "2024-08-21T19:28:49.558Z"
   },
   {
    "duration": 43,
    "start_time": "2024-08-21T19:28:49.593Z"
   },
   {
    "duration": 176,
    "start_time": "2024-08-21T19:28:49.641Z"
   },
   {
    "duration": 73,
    "start_time": "2024-08-21T19:28:49.821Z"
   },
   {
    "duration": 135,
    "start_time": "2024-08-21T19:28:49.896Z"
   },
   {
    "duration": 681,
    "start_time": "2024-08-21T19:28:50.034Z"
   },
   {
    "duration": 0,
    "start_time": "2024-08-21T19:28:50.727Z"
   },
   {
    "duration": 0,
    "start_time": "2024-08-21T19:28:50.728Z"
   },
   {
    "duration": 521,
    "start_time": "2024-08-21T19:29:57.157Z"
   },
   {
    "duration": 954,
    "start_time": "2024-08-21T19:29:57.682Z"
   },
   {
    "duration": 26,
    "start_time": "2024-08-21T19:29:58.640Z"
   },
   {
    "duration": 59,
    "start_time": "2024-08-21T19:29:58.671Z"
   },
   {
    "duration": 32,
    "start_time": "2024-08-21T19:29:58.735Z"
   },
   {
    "duration": 16,
    "start_time": "2024-08-21T19:29:58.773Z"
   },
   {
    "duration": 147,
    "start_time": "2024-08-21T19:29:58.793Z"
   },
   {
    "duration": 19,
    "start_time": "2024-08-21T19:29:58.943Z"
   },
   {
    "duration": 33,
    "start_time": "2024-08-21T19:29:58.966Z"
   },
   {
    "duration": 30,
    "start_time": "2024-08-21T19:29:59.029Z"
   },
   {
    "duration": 10,
    "start_time": "2024-08-21T19:29:59.063Z"
   },
   {
    "duration": 72,
    "start_time": "2024-08-21T19:29:59.077Z"
   },
   {
    "duration": 24,
    "start_time": "2024-08-21T19:29:59.151Z"
   },
   {
    "duration": 59,
    "start_time": "2024-08-21T19:29:59.178Z"
   },
   {
    "duration": 37,
    "start_time": "2024-08-21T19:29:59.247Z"
   },
   {
    "duration": 15,
    "start_time": "2024-08-21T19:29:59.289Z"
   },
   {
    "duration": 175,
    "start_time": "2024-08-21T19:29:59.331Z"
   },
   {
    "duration": 71,
    "start_time": "2024-08-21T19:29:59.510Z"
   },
   {
    "duration": 117,
    "start_time": "2024-08-21T19:29:59.584Z"
   },
   {
    "duration": 491,
    "start_time": "2024-08-21T19:36:29.392Z"
   },
   {
    "duration": 893,
    "start_time": "2024-08-21T19:36:29.887Z"
   },
   {
    "duration": 28,
    "start_time": "2024-08-21T19:36:30.783Z"
   },
   {
    "duration": 35,
    "start_time": "2024-08-21T19:36:30.829Z"
   },
   {
    "duration": 60,
    "start_time": "2024-08-21T19:36:30.868Z"
   },
   {
    "duration": 14,
    "start_time": "2024-08-21T19:36:30.931Z"
   },
   {
    "duration": 155,
    "start_time": "2024-08-21T19:36:30.948Z"
   },
   {
    "duration": 36,
    "start_time": "2024-08-21T19:36:31.106Z"
   },
   {
    "duration": 28,
    "start_time": "2024-08-21T19:36:31.146Z"
   },
   {
    "duration": 53,
    "start_time": "2024-08-21T19:36:31.180Z"
   },
   {
    "duration": 12,
    "start_time": "2024-08-21T19:36:31.238Z"
   },
   {
    "duration": 38,
    "start_time": "2024-08-21T19:36:31.254Z"
   },
   {
    "duration": 24,
    "start_time": "2024-08-21T19:36:31.328Z"
   },
   {
    "duration": 36,
    "start_time": "2024-08-21T19:36:31.355Z"
   },
   {
    "duration": 60,
    "start_time": "2024-08-21T19:36:31.394Z"
   },
   {
    "duration": 18,
    "start_time": "2024-08-21T19:36:31.457Z"
   },
   {
    "duration": 206,
    "start_time": "2024-08-21T19:36:31.477Z"
   },
   {
    "duration": 76,
    "start_time": "2024-08-21T19:36:31.686Z"
   },
   {
    "duration": 118,
    "start_time": "2024-08-21T19:36:31.765Z"
   },
   {
    "duration": 783,
    "start_time": "2024-08-21T19:48:59.386Z"
   },
   {
    "duration": 1235,
    "start_time": "2024-08-21T19:51:21.511Z"
   },
   {
    "duration": 868,
    "start_time": "2024-08-21T19:51:22.751Z"
   },
   {
    "duration": 27,
    "start_time": "2024-08-21T19:51:23.627Z"
   },
   {
    "duration": 36,
    "start_time": "2024-08-21T19:51:23.661Z"
   },
   {
    "duration": 34,
    "start_time": "2024-08-21T19:51:23.726Z"
   },
   {
    "duration": 13,
    "start_time": "2024-08-21T19:51:23.762Z"
   },
   {
    "duration": 179,
    "start_time": "2024-08-21T19:51:23.778Z"
   },
   {
    "duration": 21,
    "start_time": "2024-08-21T19:51:23.961Z"
   },
   {
    "duration": 53,
    "start_time": "2024-08-21T19:51:23.986Z"
   },
   {
    "duration": 32,
    "start_time": "2024-08-21T19:51:24.046Z"
   },
   {
    "duration": 10,
    "start_time": "2024-08-21T19:51:24.082Z"
   },
   {
    "duration": 62,
    "start_time": "2024-08-21T19:51:24.096Z"
   },
   {
    "duration": 26,
    "start_time": "2024-08-21T19:51:24.161Z"
   },
   {
    "duration": 59,
    "start_time": "2024-08-21T19:51:24.190Z"
   },
   {
    "duration": 29,
    "start_time": "2024-08-21T19:51:24.253Z"
   },
   {
    "duration": 44,
    "start_time": "2024-08-21T19:51:24.286Z"
   },
   {
    "duration": 199,
    "start_time": "2024-08-21T19:51:24.333Z"
   },
   {
    "duration": 73,
    "start_time": "2024-08-21T19:51:24.535Z"
   },
   {
    "duration": 111,
    "start_time": "2024-08-21T19:51:24.628Z"
   },
   {
    "duration": 28,
    "start_time": "2024-08-21T19:51:24.742Z"
   },
   {
    "duration": 10,
    "start_time": "2024-08-21T19:51:24.773Z"
   },
   {
    "duration": 154,
    "start_time": "2024-08-21T19:51:24.786Z"
   },
   {
    "duration": 147,
    "start_time": "2024-08-21T19:51:24.944Z"
   },
   {
    "duration": 895,
    "start_time": "2024-08-21T19:51:25.094Z"
   },
   {
    "duration": 0,
    "start_time": "2024-08-21T19:51:25.993Z"
   },
   {
    "duration": 1126,
    "start_time": "2024-08-21T19:59:25.197Z"
   },
   {
    "duration": 784,
    "start_time": "2024-08-21T19:59:26.327Z"
   },
   {
    "duration": 29,
    "start_time": "2024-08-21T19:59:27.114Z"
   },
   {
    "duration": 33,
    "start_time": "2024-08-21T19:59:27.147Z"
   },
   {
    "duration": 55,
    "start_time": "2024-08-21T19:59:27.184Z"
   },
   {
    "duration": 12,
    "start_time": "2024-08-21T19:59:27.242Z"
   },
   {
    "duration": 127,
    "start_time": "2024-08-21T19:59:27.257Z"
   },
   {
    "duration": 19,
    "start_time": "2024-08-21T19:59:27.388Z"
   },
   {
    "duration": 29,
    "start_time": "2024-08-21T19:59:27.428Z"
   },
   {
    "duration": 31,
    "start_time": "2024-08-21T19:59:27.465Z"
   },
   {
    "duration": 32,
    "start_time": "2024-08-21T19:59:27.503Z"
   },
   {
    "duration": 35,
    "start_time": "2024-08-21T19:59:27.538Z"
   },
   {
    "duration": 58,
    "start_time": "2024-08-21T19:59:27.576Z"
   },
   {
    "duration": 29,
    "start_time": "2024-08-21T19:59:27.636Z"
   },
   {
    "duration": 61,
    "start_time": "2024-08-21T19:59:27.668Z"
   },
   {
    "duration": 19,
    "start_time": "2024-08-21T19:59:27.735Z"
   },
   {
    "duration": 169,
    "start_time": "2024-08-21T19:59:27.757Z"
   },
   {
    "duration": 64,
    "start_time": "2024-08-21T19:59:27.929Z"
   },
   {
    "duration": 116,
    "start_time": "2024-08-21T19:59:27.996Z"
   },
   {
    "duration": 21,
    "start_time": "2024-08-21T19:59:28.127Z"
   },
   {
    "duration": 7,
    "start_time": "2024-08-21T19:59:28.151Z"
   },
   {
    "duration": 93,
    "start_time": "2024-08-21T19:59:28.161Z"
   },
   {
    "duration": 139,
    "start_time": "2024-08-21T19:59:28.257Z"
   },
   {
    "duration": 1302,
    "start_time": "2024-08-21T19:59:28.399Z"
   },
   {
    "duration": 0,
    "start_time": "2024-08-21T19:59:29.704Z"
   },
   {
    "duration": 909,
    "start_time": "2024-09-05T23:34:55.953Z"
   },
   {
    "duration": 723,
    "start_time": "2024-09-05T23:34:56.866Z"
   },
   {
    "duration": 16,
    "start_time": "2024-09-05T23:34:57.591Z"
   },
   {
    "duration": 22,
    "start_time": "2024-09-05T23:34:57.610Z"
   },
   {
    "duration": 15,
    "start_time": "2024-09-05T23:34:57.634Z"
   },
   {
    "duration": 8,
    "start_time": "2024-09-05T23:34:57.652Z"
   },
   {
    "duration": 92,
    "start_time": "2024-09-05T23:34:57.662Z"
   },
   {
    "duration": 12,
    "start_time": "2024-09-05T23:34:57.756Z"
   },
   {
    "duration": 36,
    "start_time": "2024-09-05T23:34:57.770Z"
   },
   {
    "duration": 19,
    "start_time": "2024-09-05T23:34:57.810Z"
   },
   {
    "duration": 7,
    "start_time": "2024-09-05T23:34:57.831Z"
   },
   {
    "duration": 23,
    "start_time": "2024-09-05T23:34:57.839Z"
   },
   {
    "duration": 41,
    "start_time": "2024-09-05T23:34:57.864Z"
   },
   {
    "duration": 17,
    "start_time": "2024-09-05T23:34:57.909Z"
   },
   {
    "duration": 15,
    "start_time": "2024-09-05T23:34:57.929Z"
   },
   {
    "duration": 9,
    "start_time": "2024-09-05T23:34:57.946Z"
   },
   {
    "duration": 139,
    "start_time": "2024-09-05T23:34:57.957Z"
   },
   {
    "duration": 369,
    "start_time": "2024-09-05T23:34:58.098Z"
   },
   {
    "duration": 0,
    "start_time": "2024-09-05T23:34:58.469Z"
   },
   {
    "duration": 0,
    "start_time": "2024-09-05T23:34:58.470Z"
   },
   {
    "duration": 18,
    "start_time": "2024-09-05T23:36:13.749Z"
   },
   {
    "duration": 2890,
    "start_time": "2024-09-05T23:36:18.791Z"
   },
   {
    "duration": 536,
    "start_time": "2024-09-05T23:36:21.684Z"
   },
   {
    "duration": 17,
    "start_time": "2024-09-05T23:36:22.224Z"
   },
   {
    "duration": 17,
    "start_time": "2024-09-05T23:36:22.243Z"
   },
   {
    "duration": 14,
    "start_time": "2024-09-05T23:36:22.262Z"
   },
   {
    "duration": 28,
    "start_time": "2024-09-05T23:36:22.279Z"
   },
   {
    "duration": 75,
    "start_time": "2024-09-05T23:36:22.309Z"
   },
   {
    "duration": 28,
    "start_time": "2024-09-05T23:36:22.387Z"
   },
   {
    "duration": 38,
    "start_time": "2024-09-05T23:36:22.417Z"
   },
   {
    "duration": 19,
    "start_time": "2024-09-05T23:36:22.458Z"
   },
   {
    "duration": 6,
    "start_time": "2024-09-05T23:36:22.479Z"
   },
   {
    "duration": 32,
    "start_time": "2024-09-05T23:36:22.487Z"
   },
   {
    "duration": 12,
    "start_time": "2024-09-05T23:36:22.521Z"
   },
   {
    "duration": 15,
    "start_time": "2024-09-05T23:36:22.535Z"
   },
   {
    "duration": 14,
    "start_time": "2024-09-05T23:36:22.551Z"
   },
   {
    "duration": 7,
    "start_time": "2024-09-05T23:36:22.567Z"
   },
   {
    "duration": 129,
    "start_time": "2024-09-05T23:36:22.576Z"
   },
   {
    "duration": 427,
    "start_time": "2024-09-05T23:36:22.707Z"
   },
   {
    "duration": 0,
    "start_time": "2024-09-05T23:36:23.136Z"
   },
   {
    "duration": 0,
    "start_time": "2024-09-05T23:36:23.138Z"
   },
   {
    "duration": 0,
    "start_time": "2024-09-05T23:36:23.138Z"
   },
   {
    "duration": 901,
    "start_time": "2024-09-05T23:37:38.978Z"
   },
   {
    "duration": 491,
    "start_time": "2024-09-05T23:37:39.882Z"
   },
   {
    "duration": 17,
    "start_time": "2024-09-05T23:37:40.375Z"
   },
   {
    "duration": 29,
    "start_time": "2024-09-05T23:37:40.394Z"
   },
   {
    "duration": 18,
    "start_time": "2024-09-05T23:37:40.426Z"
   },
   {
    "duration": 8,
    "start_time": "2024-09-05T23:37:40.446Z"
   },
   {
    "duration": 79,
    "start_time": "2024-09-05T23:37:40.455Z"
   },
   {
    "duration": 12,
    "start_time": "2024-09-05T23:37:40.535Z"
   },
   {
    "duration": 15,
    "start_time": "2024-09-05T23:37:40.549Z"
   },
   {
    "duration": 15,
    "start_time": "2024-09-05T23:37:40.565Z"
   },
   {
    "duration": 28,
    "start_time": "2024-09-05T23:37:40.582Z"
   },
   {
    "duration": 21,
    "start_time": "2024-09-05T23:37:40.611Z"
   },
   {
    "duration": 94,
    "start_time": "2024-09-05T23:37:40.634Z"
   },
   {
    "duration": 20,
    "start_time": "2024-09-05T23:37:40.731Z"
   },
   {
    "duration": 16,
    "start_time": "2024-09-05T23:37:40.753Z"
   },
   {
    "duration": 8,
    "start_time": "2024-09-05T23:37:40.771Z"
   },
   {
    "duration": 116,
    "start_time": "2024-09-05T23:37:40.781Z"
   },
   {
    "duration": 483,
    "start_time": "2024-09-05T23:37:40.905Z"
   },
   {
    "duration": 0,
    "start_time": "2024-09-05T23:37:41.390Z"
   },
   {
    "duration": 0,
    "start_time": "2024-09-05T23:37:41.391Z"
   },
   {
    "duration": 0,
    "start_time": "2024-09-05T23:37:41.393Z"
   },
   {
    "duration": 0,
    "start_time": "2024-09-05T23:37:41.394Z"
   },
   {
    "duration": 0,
    "start_time": "2024-09-05T23:37:41.395Z"
   },
   {
    "duration": 1011,
    "start_time": "2024-09-05T23:39:23.714Z"
   },
   {
    "duration": 524,
    "start_time": "2024-09-05T23:39:24.729Z"
   },
   {
    "duration": 95,
    "start_time": "2024-09-05T23:39:25.256Z"
   },
   {
    "duration": 23,
    "start_time": "2024-09-05T23:39:25.354Z"
   },
   {
    "duration": 33,
    "start_time": "2024-09-05T23:39:25.380Z"
   },
   {
    "duration": 14,
    "start_time": "2024-09-05T23:39:25.415Z"
   },
   {
    "duration": 76,
    "start_time": "2024-09-05T23:39:25.432Z"
   },
   {
    "duration": 11,
    "start_time": "2024-09-05T23:39:25.512Z"
   },
   {
    "duration": 15,
    "start_time": "2024-09-05T23:39:25.525Z"
   },
   {
    "duration": 15,
    "start_time": "2024-09-05T23:39:25.542Z"
   },
   {
    "duration": 7,
    "start_time": "2024-09-05T23:39:25.560Z"
   },
   {
    "duration": 51,
    "start_time": "2024-09-05T23:39:25.569Z"
   },
   {
    "duration": 17,
    "start_time": "2024-09-05T23:39:25.621Z"
   },
   {
    "duration": 19,
    "start_time": "2024-09-05T23:39:25.642Z"
   },
   {
    "duration": 15,
    "start_time": "2024-09-05T23:39:25.663Z"
   },
   {
    "duration": 32,
    "start_time": "2024-09-05T23:39:25.680Z"
   },
   {
    "duration": 95,
    "start_time": "2024-09-05T23:39:25.714Z"
   },
   {
    "duration": 370,
    "start_time": "2024-09-05T23:39:25.811Z"
   },
   {
    "duration": 0,
    "start_time": "2024-09-05T23:39:26.183Z"
   },
   {
    "duration": 0,
    "start_time": "2024-09-05T23:39:26.185Z"
   },
   {
    "duration": 0,
    "start_time": "2024-09-05T23:39:26.186Z"
   },
   {
    "duration": 0,
    "start_time": "2024-09-05T23:39:26.187Z"
   },
   {
    "duration": 0,
    "start_time": "2024-09-05T23:39:26.189Z"
   },
   {
    "duration": 0,
    "start_time": "2024-09-05T23:39:26.190Z"
   },
   {
    "duration": 0,
    "start_time": "2024-09-05T23:39:26.191Z"
   },
   {
    "duration": 911,
    "start_time": "2024-09-05T23:41:47.243Z"
   },
   {
    "duration": 503,
    "start_time": "2024-09-05T23:41:48.156Z"
   },
   {
    "duration": 68,
    "start_time": "2024-09-05T23:41:48.661Z"
   },
   {
    "duration": 17,
    "start_time": "2024-09-05T23:41:48.731Z"
   },
   {
    "duration": 18,
    "start_time": "2024-09-05T23:41:48.751Z"
   },
   {
    "duration": 6,
    "start_time": "2024-09-05T23:41:48.771Z"
   },
   {
    "duration": 83,
    "start_time": "2024-09-05T23:41:48.779Z"
   },
   {
    "duration": 11,
    "start_time": "2024-09-05T23:41:48.864Z"
   },
   {
    "duration": 30,
    "start_time": "2024-09-05T23:41:48.876Z"
   },
   {
    "duration": 14,
    "start_time": "2024-09-05T23:41:48.908Z"
   },
   {
    "duration": 5,
    "start_time": "2024-09-05T23:41:48.924Z"
   },
   {
    "duration": 19,
    "start_time": "2024-09-05T23:41:48.930Z"
   },
   {
    "duration": 18,
    "start_time": "2024-09-05T23:41:48.950Z"
   },
   {
    "duration": 40,
    "start_time": "2024-09-05T23:41:48.972Z"
   },
   {
    "duration": 18,
    "start_time": "2024-09-05T23:41:49.013Z"
   },
   {
    "duration": 9,
    "start_time": "2024-09-05T23:41:49.033Z"
   },
   {
    "duration": 106,
    "start_time": "2024-09-05T23:41:49.045Z"
   },
   {
    "duration": 10,
    "start_time": "2024-09-05T23:41:49.153Z"
   },
   {
    "duration": 8,
    "start_time": "2024-09-05T23:41:49.165Z"
   },
   {
    "duration": 379,
    "start_time": "2024-09-05T23:41:49.174Z"
   },
   {
    "duration": 0,
    "start_time": "2024-09-05T23:41:49.555Z"
   },
   {
    "duration": 0,
    "start_time": "2024-09-05T23:41:49.556Z"
   },
   {
    "duration": 0,
    "start_time": "2024-09-05T23:41:49.557Z"
   },
   {
    "duration": 0,
    "start_time": "2024-09-05T23:41:49.558Z"
   },
   {
    "duration": 0,
    "start_time": "2024-09-05T23:41:49.559Z"
   },
   {
    "duration": 975,
    "start_time": "2024-09-05T23:43:42.737Z"
   },
   {
    "duration": 532,
    "start_time": "2024-09-05T23:43:43.714Z"
   },
   {
    "duration": 69,
    "start_time": "2024-09-05T23:43:44.248Z"
   },
   {
    "duration": 22,
    "start_time": "2024-09-05T23:43:44.320Z"
   },
   {
    "duration": 19,
    "start_time": "2024-09-05T23:43:44.345Z"
   },
   {
    "duration": 6,
    "start_time": "2024-09-05T23:43:44.367Z"
   },
   {
    "duration": 85,
    "start_time": "2024-09-05T23:43:44.375Z"
   },
   {
    "duration": 11,
    "start_time": "2024-09-05T23:43:44.462Z"
   },
   {
    "duration": 31,
    "start_time": "2024-09-05T23:43:44.474Z"
   },
   {
    "duration": 15,
    "start_time": "2024-09-05T23:43:44.507Z"
   },
   {
    "duration": 7,
    "start_time": "2024-09-05T23:43:44.524Z"
   },
   {
    "duration": 20,
    "start_time": "2024-09-05T23:43:44.533Z"
   },
   {
    "duration": 15,
    "start_time": "2024-09-05T23:43:44.555Z"
   },
   {
    "duration": 48,
    "start_time": "2024-09-05T23:43:44.574Z"
   },
   {
    "duration": 20,
    "start_time": "2024-09-05T23:43:44.624Z"
   },
   {
    "duration": 10,
    "start_time": "2024-09-05T23:43:44.647Z"
   },
   {
    "duration": 124,
    "start_time": "2024-09-05T23:43:44.658Z"
   },
   {
    "duration": 22,
    "start_time": "2024-09-05T23:43:44.783Z"
   },
   {
    "duration": 7,
    "start_time": "2024-09-05T23:43:44.807Z"
   },
   {
    "duration": 582,
    "start_time": "2024-09-05T23:43:44.815Z"
   },
   {
    "duration": 0,
    "start_time": "2024-09-05T23:43:45.399Z"
   },
   {
    "duration": 0,
    "start_time": "2024-09-05T23:43:45.400Z"
   },
   {
    "duration": 0,
    "start_time": "2024-09-05T23:43:45.404Z"
   },
   {
    "duration": 0,
    "start_time": "2024-09-05T23:43:45.405Z"
   },
   {
    "duration": 0,
    "start_time": "2024-09-05T23:43:45.406Z"
   },
   {
    "duration": 963,
    "start_time": "2024-09-05T23:49:18.569Z"
   },
   {
    "duration": 567,
    "start_time": "2024-09-05T23:49:19.534Z"
   },
   {
    "duration": 91,
    "start_time": "2024-09-05T23:49:20.103Z"
   },
   {
    "duration": 19,
    "start_time": "2024-09-05T23:49:20.204Z"
   },
   {
    "duration": 16,
    "start_time": "2024-09-05T23:49:20.226Z"
   },
   {
    "duration": 9,
    "start_time": "2024-09-05T23:49:20.244Z"
   },
   {
    "duration": 102,
    "start_time": "2024-09-05T23:49:20.255Z"
   },
   {
    "duration": 12,
    "start_time": "2024-09-05T23:49:20.359Z"
   },
   {
    "duration": 32,
    "start_time": "2024-09-05T23:49:20.374Z"
   },
   {
    "duration": 21,
    "start_time": "2024-09-05T23:49:20.408Z"
   },
   {
    "duration": 7,
    "start_time": "2024-09-05T23:49:20.430Z"
   },
   {
    "duration": 19,
    "start_time": "2024-09-05T23:49:20.440Z"
   },
   {
    "duration": 14,
    "start_time": "2024-09-05T23:49:20.461Z"
   },
   {
    "duration": 17,
    "start_time": "2024-09-05T23:49:20.505Z"
   },
   {
    "duration": 15,
    "start_time": "2024-09-05T23:49:20.524Z"
   },
   {
    "duration": 8,
    "start_time": "2024-09-05T23:49:20.541Z"
   },
   {
    "duration": 107,
    "start_time": "2024-09-05T23:49:20.552Z"
   },
   {
    "duration": 10,
    "start_time": "2024-09-05T23:49:20.661Z"
   },
   {
    "duration": 6,
    "start_time": "2024-09-05T23:49:20.673Z"
   },
   {
    "duration": 83,
    "start_time": "2024-09-05T23:49:20.681Z"
   },
   {
    "duration": 1107,
    "start_time": "2024-09-05T23:49:20.766Z"
   },
   {
    "duration": 280,
    "start_time": "2024-09-05T23:49:21.875Z"
   },
   {
    "duration": 204,
    "start_time": "2024-09-05T23:49:22.157Z"
   },
   {
    "duration": 3,
    "start_time": "2024-09-05T23:49:22.363Z"
   },
   {
    "duration": 374,
    "start_time": "2024-09-05T23:49:22.367Z"
   },
   {
    "duration": 1008,
    "start_time": "2024-09-05T23:55:20.045Z"
   },
   {
    "duration": 534,
    "start_time": "2024-09-05T23:55:21.057Z"
   },
   {
    "duration": 84,
    "start_time": "2024-09-05T23:55:21.593Z"
   },
   {
    "duration": 35,
    "start_time": "2024-09-05T23:55:21.680Z"
   },
   {
    "duration": 17,
    "start_time": "2024-09-05T23:55:21.717Z"
   },
   {
    "duration": 8,
    "start_time": "2024-09-05T23:55:21.736Z"
   },
   {
    "duration": 111,
    "start_time": "2024-09-05T23:55:21.746Z"
   },
   {
    "duration": 18,
    "start_time": "2024-09-05T23:55:21.859Z"
   },
   {
    "duration": 15,
    "start_time": "2024-09-05T23:55:21.879Z"
   },
   {
    "duration": 17,
    "start_time": "2024-09-05T23:55:21.907Z"
   },
   {
    "duration": 6,
    "start_time": "2024-09-05T23:55:21.926Z"
   },
   {
    "duration": 20,
    "start_time": "2024-09-05T23:55:21.934Z"
   },
   {
    "duration": 14,
    "start_time": "2024-09-05T23:55:21.956Z"
   },
   {
    "duration": 51,
    "start_time": "2024-09-05T23:55:21.973Z"
   },
   {
    "duration": 18,
    "start_time": "2024-09-05T23:55:22.026Z"
   },
   {
    "duration": 9,
    "start_time": "2024-09-05T23:55:22.047Z"
   },
   {
    "duration": 113,
    "start_time": "2024-09-05T23:55:22.058Z"
   },
   {
    "duration": 12,
    "start_time": "2024-09-05T23:55:22.173Z"
   },
   {
    "duration": 18,
    "start_time": "2024-09-05T23:55:22.187Z"
   },
   {
    "duration": 59,
    "start_time": "2024-09-05T23:55:22.208Z"
   },
   {
    "duration": 1153,
    "start_time": "2024-09-05T23:55:22.269Z"
   },
   {
    "duration": 269,
    "start_time": "2024-09-05T23:55:23.424Z"
   },
   {
    "duration": 206,
    "start_time": "2024-09-05T23:55:23.695Z"
   },
   {
    "duration": 3,
    "start_time": "2024-09-05T23:55:23.906Z"
   },
   {
    "duration": 1070,
    "start_time": "2024-09-05T23:55:23.911Z"
   },
   {
    "duration": 890,
    "start_time": "2024-09-05T23:56:48.808Z"
   },
   {
    "duration": 515,
    "start_time": "2024-09-05T23:56:49.702Z"
   },
   {
    "duration": 73,
    "start_time": "2024-09-05T23:56:50.219Z"
   },
   {
    "duration": 31,
    "start_time": "2024-09-05T23:56:50.294Z"
   },
   {
    "duration": 19,
    "start_time": "2024-09-05T23:56:50.327Z"
   },
   {
    "duration": 8,
    "start_time": "2024-09-05T23:56:50.348Z"
   },
   {
    "duration": 100,
    "start_time": "2024-09-05T23:56:50.357Z"
   },
   {
    "duration": 14,
    "start_time": "2024-09-05T23:56:50.459Z"
   },
   {
    "duration": 28,
    "start_time": "2024-09-05T23:56:50.477Z"
   },
   {
    "duration": 16,
    "start_time": "2024-09-05T23:56:50.507Z"
   },
   {
    "duration": 6,
    "start_time": "2024-09-05T23:56:50.525Z"
   },
   {
    "duration": 24,
    "start_time": "2024-09-05T23:56:50.532Z"
   },
   {
    "duration": 18,
    "start_time": "2024-09-05T23:56:50.557Z"
   },
   {
    "duration": 40,
    "start_time": "2024-09-05T23:56:50.578Z"
   },
   {
    "duration": 18,
    "start_time": "2024-09-05T23:56:50.620Z"
   },
   {
    "duration": 8,
    "start_time": "2024-09-05T23:56:50.640Z"
   },
   {
    "duration": 109,
    "start_time": "2024-09-05T23:56:50.650Z"
   },
   {
    "duration": 9,
    "start_time": "2024-09-05T23:56:50.761Z"
   },
   {
    "duration": 5,
    "start_time": "2024-09-05T23:56:50.772Z"
   },
   {
    "duration": 70,
    "start_time": "2024-09-05T23:56:50.779Z"
   },
   {
    "duration": 1047,
    "start_time": "2024-09-05T23:56:50.851Z"
   },
   {
    "duration": 245,
    "start_time": "2024-09-05T23:56:51.905Z"
   },
   {
    "duration": 205,
    "start_time": "2024-09-05T23:56:52.151Z"
   },
   {
    "duration": 3,
    "start_time": "2024-09-05T23:56:52.358Z"
   },
   {
    "duration": 1137,
    "start_time": "2024-09-05T23:56:52.364Z"
   },
   {
    "duration": 1001,
    "start_time": "2024-09-05T23:59:42.610Z"
   },
   {
    "duration": 525,
    "start_time": "2024-09-05T23:59:43.613Z"
   },
   {
    "duration": 84,
    "start_time": "2024-09-05T23:59:44.140Z"
   },
   {
    "duration": 17,
    "start_time": "2024-09-05T23:59:44.228Z"
   },
   {
    "duration": 15,
    "start_time": "2024-09-05T23:59:44.248Z"
   },
   {
    "duration": 8,
    "start_time": "2024-09-05T23:59:44.265Z"
   },
   {
    "duration": 89,
    "start_time": "2024-09-05T23:59:44.274Z"
   },
   {
    "duration": 17,
    "start_time": "2024-09-05T23:59:44.364Z"
   },
   {
    "duration": 29,
    "start_time": "2024-09-05T23:59:44.383Z"
   },
   {
    "duration": 17,
    "start_time": "2024-09-05T23:59:44.415Z"
   },
   {
    "duration": 6,
    "start_time": "2024-09-05T23:59:44.434Z"
   },
   {
    "duration": 24,
    "start_time": "2024-09-05T23:59:44.442Z"
   },
   {
    "duration": 42,
    "start_time": "2024-09-05T23:59:44.468Z"
   },
   {
    "duration": 16,
    "start_time": "2024-09-05T23:59:44.512Z"
   },
   {
    "duration": 20,
    "start_time": "2024-09-05T23:59:44.531Z"
   },
   {
    "duration": 7,
    "start_time": "2024-09-05T23:59:44.553Z"
   },
   {
    "duration": 143,
    "start_time": "2024-09-05T23:59:44.562Z"
   },
   {
    "duration": 14,
    "start_time": "2024-09-05T23:59:44.707Z"
   },
   {
    "duration": 7,
    "start_time": "2024-09-05T23:59:44.723Z"
   },
   {
    "duration": 81,
    "start_time": "2024-09-05T23:59:44.732Z"
   },
   {
    "duration": 1303,
    "start_time": "2024-09-05T23:59:44.815Z"
   },
   {
    "duration": 269,
    "start_time": "2024-09-05T23:59:46.120Z"
   },
   {
    "duration": 219,
    "start_time": "2024-09-05T23:59:46.391Z"
   },
   {
    "duration": 4,
    "start_time": "2024-09-05T23:59:46.613Z"
   },
   {
    "duration": 1069,
    "start_time": "2024-09-05T23:59:46.620Z"
   },
   {
    "duration": 971,
    "start_time": "2024-09-06T00:01:20.495Z"
   },
   {
    "duration": 543,
    "start_time": "2024-09-06T00:01:21.468Z"
   },
   {
    "duration": 80,
    "start_time": "2024-09-06T00:01:22.015Z"
   },
   {
    "duration": 23,
    "start_time": "2024-09-06T00:01:22.099Z"
   },
   {
    "duration": 16,
    "start_time": "2024-09-06T00:01:22.124Z"
   },
   {
    "duration": 9,
    "start_time": "2024-09-06T00:01:22.142Z"
   },
   {
    "duration": 101,
    "start_time": "2024-09-06T00:01:22.153Z"
   },
   {
    "duration": 11,
    "start_time": "2024-09-06T00:01:22.255Z"
   },
   {
    "duration": 19,
    "start_time": "2024-09-06T00:01:22.268Z"
   },
   {
    "duration": 32,
    "start_time": "2024-09-06T00:01:22.289Z"
   },
   {
    "duration": 7,
    "start_time": "2024-09-06T00:01:22.322Z"
   },
   {
    "duration": 24,
    "start_time": "2024-09-06T00:01:22.330Z"
   },
   {
    "duration": 14,
    "start_time": "2024-09-06T00:01:22.356Z"
   },
   {
    "duration": 43,
    "start_time": "2024-09-06T00:01:22.372Z"
   },
   {
    "duration": 28,
    "start_time": "2024-09-06T00:01:22.418Z"
   },
   {
    "duration": 11,
    "start_time": "2024-09-06T00:01:22.449Z"
   },
   {
    "duration": 109,
    "start_time": "2024-09-06T00:01:22.462Z"
   },
   {
    "duration": 11,
    "start_time": "2024-09-06T00:01:22.573Z"
   },
   {
    "duration": 20,
    "start_time": "2024-09-06T00:01:22.586Z"
   },
   {
    "duration": 75,
    "start_time": "2024-09-06T00:01:22.608Z"
   },
   {
    "duration": 1152,
    "start_time": "2024-09-06T00:01:22.685Z"
   },
   {
    "duration": 268,
    "start_time": "2024-09-06T00:01:23.841Z"
   },
   {
    "duration": 220,
    "start_time": "2024-09-06T00:01:24.111Z"
   },
   {
    "duration": 4,
    "start_time": "2024-09-06T00:01:24.333Z"
   },
   {
    "duration": 8,
    "start_time": "2024-09-06T00:01:24.341Z"
   },
   {
    "duration": 455,
    "start_time": "2024-09-06T00:01:24.352Z"
   },
   {
    "duration": 1011,
    "start_time": "2024-09-06T00:01:42.061Z"
   },
   {
    "duration": 568,
    "start_time": "2024-09-06T00:01:43.074Z"
   },
   {
    "duration": 90,
    "start_time": "2024-09-06T00:01:43.644Z"
   },
   {
    "duration": 18,
    "start_time": "2024-09-06T00:01:43.737Z"
   },
   {
    "duration": 15,
    "start_time": "2024-09-06T00:01:43.758Z"
   },
   {
    "duration": 32,
    "start_time": "2024-09-06T00:01:43.776Z"
   },
   {
    "duration": 77,
    "start_time": "2024-09-06T00:01:43.810Z"
   },
   {
    "duration": 30,
    "start_time": "2024-09-06T00:01:43.889Z"
   },
   {
    "duration": 16,
    "start_time": "2024-09-06T00:01:43.921Z"
   },
   {
    "duration": 15,
    "start_time": "2024-09-06T00:01:43.942Z"
   },
   {
    "duration": 6,
    "start_time": "2024-09-06T00:01:43.960Z"
   },
   {
    "duration": 52,
    "start_time": "2024-09-06T00:01:43.968Z"
   },
   {
    "duration": 16,
    "start_time": "2024-09-06T00:01:44.023Z"
   },
   {
    "duration": 18,
    "start_time": "2024-09-06T00:01:44.041Z"
   },
   {
    "duration": 18,
    "start_time": "2024-09-06T00:01:44.061Z"
   },
   {
    "duration": 28,
    "start_time": "2024-09-06T00:01:44.080Z"
   },
   {
    "duration": 113,
    "start_time": "2024-09-06T00:01:44.110Z"
   },
   {
    "duration": 11,
    "start_time": "2024-09-06T00:01:44.225Z"
   },
   {
    "duration": 5,
    "start_time": "2024-09-06T00:01:44.238Z"
   },
   {
    "duration": 77,
    "start_time": "2024-09-06T00:01:44.245Z"
   },
   {
    "duration": 1118,
    "start_time": "2024-09-06T00:01:44.324Z"
   },
   {
    "duration": 277,
    "start_time": "2024-09-06T00:01:45.444Z"
   },
   {
    "duration": 231,
    "start_time": "2024-09-06T00:01:45.723Z"
   },
   {
    "duration": 4,
    "start_time": "2024-09-06T00:01:45.955Z"
   },
   {
    "duration": 5,
    "start_time": "2024-09-06T00:01:45.961Z"
   },
   {
    "duration": 451,
    "start_time": "2024-09-06T00:01:45.967Z"
   },
   {
    "duration": 1068,
    "start_time": "2024-09-06T00:03:21.435Z"
   },
   {
    "duration": 593,
    "start_time": "2024-09-06T00:03:22.505Z"
   },
   {
    "duration": 90,
    "start_time": "2024-09-06T00:03:23.100Z"
   },
   {
    "duration": 26,
    "start_time": "2024-09-06T00:03:23.193Z"
   },
   {
    "duration": 18,
    "start_time": "2024-09-06T00:03:23.223Z"
   },
   {
    "duration": 8,
    "start_time": "2024-09-06T00:03:23.243Z"
   },
   {
    "duration": 101,
    "start_time": "2024-09-06T00:03:23.253Z"
   },
   {
    "duration": 12,
    "start_time": "2024-09-06T00:03:23.356Z"
   },
   {
    "duration": 15,
    "start_time": "2024-09-06T00:03:23.370Z"
   },
   {
    "duration": 20,
    "start_time": "2024-09-06T00:03:23.406Z"
   },
   {
    "duration": 6,
    "start_time": "2024-09-06T00:03:23.428Z"
   },
   {
    "duration": 23,
    "start_time": "2024-09-06T00:03:23.437Z"
   },
   {
    "duration": 14,
    "start_time": "2024-09-06T00:03:23.462Z"
   },
   {
    "duration": 19,
    "start_time": "2024-09-06T00:03:23.507Z"
   },
   {
    "duration": 15,
    "start_time": "2024-09-06T00:03:23.528Z"
   },
   {
    "duration": 9,
    "start_time": "2024-09-06T00:03:23.545Z"
   },
   {
    "duration": 114,
    "start_time": "2024-09-06T00:03:23.555Z"
   },
   {
    "duration": 11,
    "start_time": "2024-09-06T00:03:23.672Z"
   },
   {
    "duration": 7,
    "start_time": "2024-09-06T00:03:23.685Z"
   },
   {
    "duration": 67,
    "start_time": "2024-09-06T00:03:23.693Z"
   },
   {
    "duration": 1135,
    "start_time": "2024-09-06T00:03:23.762Z"
   },
   {
    "duration": 289,
    "start_time": "2024-09-06T00:03:24.899Z"
   },
   {
    "duration": 207,
    "start_time": "2024-09-06T00:03:25.190Z"
   },
   {
    "duration": 5,
    "start_time": "2024-09-06T00:03:25.400Z"
   },
   {
    "duration": 7,
    "start_time": "2024-09-06T00:03:25.407Z"
   },
   {
    "duration": 665,
    "start_time": "2024-09-06T00:03:25.416Z"
   },
   {
    "duration": 6,
    "start_time": "2024-09-06T16:41:43.842Z"
   },
   {
    "duration": 2580,
    "start_time": "2024-09-06T16:50:14.637Z"
   },
   {
    "duration": 642,
    "start_time": "2024-09-06T16:50:17.219Z"
   },
   {
    "duration": 17,
    "start_time": "2024-09-06T16:50:17.863Z"
   },
   {
    "duration": 16,
    "start_time": "2024-09-06T16:50:17.886Z"
   },
   {
    "duration": 15,
    "start_time": "2024-09-06T16:50:17.904Z"
   },
   {
    "duration": 7,
    "start_time": "2024-09-06T16:50:17.920Z"
   },
   {
    "duration": 77,
    "start_time": "2024-09-06T16:50:17.928Z"
   },
   {
    "duration": 10,
    "start_time": "2024-09-06T16:50:18.007Z"
   },
   {
    "duration": 16,
    "start_time": "2024-09-06T16:50:18.018Z"
   },
   {
    "duration": 14,
    "start_time": "2024-09-06T16:50:18.038Z"
   },
   {
    "duration": 6,
    "start_time": "2024-09-06T16:50:18.053Z"
   },
   {
    "duration": 21,
    "start_time": "2024-09-06T16:50:18.087Z"
   },
   {
    "duration": 16,
    "start_time": "2024-09-06T16:50:18.110Z"
   },
   {
    "duration": 21,
    "start_time": "2024-09-06T16:50:18.128Z"
   },
   {
    "duration": 15,
    "start_time": "2024-09-06T16:50:18.151Z"
   },
   {
    "duration": 7,
    "start_time": "2024-09-06T16:50:18.187Z"
   },
   {
    "duration": 92,
    "start_time": "2024-09-06T16:50:18.195Z"
   },
   {
    "duration": 9,
    "start_time": "2024-09-06T16:50:18.289Z"
   },
   {
    "duration": 5,
    "start_time": "2024-09-06T16:50:18.300Z"
   },
   {
    "duration": 52,
    "start_time": "2024-09-06T16:50:18.307Z"
   },
   {
    "duration": 1014,
    "start_time": "2024-09-06T16:50:18.360Z"
   },
   {
    "duration": 244,
    "start_time": "2024-09-06T16:50:19.376Z"
   },
   {
    "duration": 188,
    "start_time": "2024-09-06T16:50:19.622Z"
   },
   {
    "duration": 3,
    "start_time": "2024-09-06T16:50:19.811Z"
   },
   {
    "duration": 874,
    "start_time": "2024-09-06T16:50:19.816Z"
   },
   {
    "duration": 918,
    "start_time": "2024-09-06T16:51:37.000Z"
   },
   {
    "duration": 488,
    "start_time": "2024-09-06T16:51:37.921Z"
   },
   {
    "duration": 53,
    "start_time": "2024-09-06T16:51:38.410Z"
   },
   {
    "duration": 26,
    "start_time": "2024-09-06T16:51:38.467Z"
   },
   {
    "duration": 14,
    "start_time": "2024-09-06T16:51:38.495Z"
   },
   {
    "duration": 6,
    "start_time": "2024-09-06T16:51:38.511Z"
   },
   {
    "duration": 80,
    "start_time": "2024-09-06T16:51:38.519Z"
   },
   {
    "duration": 11,
    "start_time": "2024-09-06T16:51:38.601Z"
   },
   {
    "duration": 14,
    "start_time": "2024-09-06T16:51:38.614Z"
   },
   {
    "duration": 14,
    "start_time": "2024-09-06T16:51:38.631Z"
   },
   {
    "duration": 5,
    "start_time": "2024-09-06T16:51:38.646Z"
   },
   {
    "duration": 49,
    "start_time": "2024-09-06T16:51:38.653Z"
   },
   {
    "duration": 12,
    "start_time": "2024-09-06T16:51:38.704Z"
   },
   {
    "duration": 14,
    "start_time": "2024-09-06T16:51:38.718Z"
   },
   {
    "duration": 14,
    "start_time": "2024-09-06T16:51:38.734Z"
   },
   {
    "duration": 7,
    "start_time": "2024-09-06T16:51:38.750Z"
   },
   {
    "duration": 112,
    "start_time": "2024-09-06T16:51:38.758Z"
   },
   {
    "duration": 21,
    "start_time": "2024-09-06T16:51:38.871Z"
   },
   {
    "duration": 6,
    "start_time": "2024-09-06T16:51:38.893Z"
   },
   {
    "duration": 51,
    "start_time": "2024-09-06T16:51:38.900Z"
   },
   {
    "duration": 1026,
    "start_time": "2024-09-06T16:51:38.953Z"
   },
   {
    "duration": 244,
    "start_time": "2024-09-06T16:51:39.981Z"
   },
   {
    "duration": 191,
    "start_time": "2024-09-06T16:51:40.226Z"
   },
   {
    "duration": 3,
    "start_time": "2024-09-06T16:51:40.419Z"
   },
   {
    "duration": 4,
    "start_time": "2024-09-06T16:51:40.424Z"
   },
   {
    "duration": 884,
    "start_time": "2024-09-06T16:51:40.429Z"
   },
   {
    "duration": 853,
    "start_time": "2024-09-06T16:52:35.450Z"
   },
   {
    "duration": 474,
    "start_time": "2024-09-06T16:52:36.306Z"
   },
   {
    "duration": 56,
    "start_time": "2024-09-06T16:52:36.781Z"
   },
   {
    "duration": 17,
    "start_time": "2024-09-06T16:52:36.840Z"
   },
   {
    "duration": 30,
    "start_time": "2024-09-06T16:52:36.858Z"
   },
   {
    "duration": 7,
    "start_time": "2024-09-06T16:52:36.890Z"
   },
   {
    "duration": 58,
    "start_time": "2024-09-06T16:52:36.898Z"
   },
   {
    "duration": 30,
    "start_time": "2024-09-06T16:52:36.958Z"
   },
   {
    "duration": 14,
    "start_time": "2024-09-06T16:52:36.990Z"
   },
   {
    "duration": 22,
    "start_time": "2024-09-06T16:52:37.007Z"
   },
   {
    "duration": 6,
    "start_time": "2024-09-06T16:52:37.032Z"
   },
   {
    "duration": 18,
    "start_time": "2024-09-06T16:52:37.039Z"
   },
   {
    "duration": 37,
    "start_time": "2024-09-06T16:52:37.059Z"
   },
   {
    "duration": 15,
    "start_time": "2024-09-06T16:52:37.098Z"
   },
   {
    "duration": 14,
    "start_time": "2024-09-06T16:52:37.114Z"
   },
   {
    "duration": 7,
    "start_time": "2024-09-06T16:52:37.130Z"
   },
   {
    "duration": 111,
    "start_time": "2024-09-06T16:52:37.139Z"
   },
   {
    "duration": 10,
    "start_time": "2024-09-06T16:52:37.252Z"
   },
   {
    "duration": 6,
    "start_time": "2024-09-06T16:52:37.264Z"
   },
   {
    "duration": 51,
    "start_time": "2024-09-06T16:52:37.287Z"
   },
   {
    "duration": 1023,
    "start_time": "2024-09-06T16:52:37.339Z"
   },
   {
    "duration": 249,
    "start_time": "2024-09-06T16:52:38.364Z"
   },
   {
    "duration": 204,
    "start_time": "2024-09-06T16:52:38.615Z"
   },
   {
    "duration": 3,
    "start_time": "2024-09-06T16:52:38.821Z"
   },
   {
    "duration": 3,
    "start_time": "2024-09-06T16:52:38.826Z"
   },
   {
    "duration": 888,
    "start_time": "2024-09-06T16:52:38.831Z"
   },
   {
    "duration": 0,
    "start_time": "2024-09-06T16:52:39.720Z"
   },
   {
    "duration": 929,
    "start_time": "2024-09-06T16:53:27.030Z"
   },
   {
    "duration": 469,
    "start_time": "2024-09-06T16:53:27.961Z"
   },
   {
    "duration": 65,
    "start_time": "2024-09-06T16:53:28.431Z"
   },
   {
    "duration": 16,
    "start_time": "2024-09-06T16:53:28.498Z"
   },
   {
    "duration": 15,
    "start_time": "2024-09-06T16:53:28.516Z"
   },
   {
    "duration": 7,
    "start_time": "2024-09-06T16:53:28.532Z"
   },
   {
    "duration": 81,
    "start_time": "2024-09-06T16:53:28.540Z"
   },
   {
    "duration": 10,
    "start_time": "2024-09-06T16:53:28.623Z"
   },
   {
    "duration": 14,
    "start_time": "2024-09-06T16:53:28.635Z"
   },
   {
    "duration": 39,
    "start_time": "2024-09-06T16:53:28.653Z"
   },
   {
    "duration": 5,
    "start_time": "2024-09-06T16:53:28.694Z"
   },
   {
    "duration": 17,
    "start_time": "2024-09-06T16:53:28.701Z"
   },
   {
    "duration": 13,
    "start_time": "2024-09-06T16:53:28.719Z"
   },
   {
    "duration": 14,
    "start_time": "2024-09-06T16:53:28.734Z"
   },
   {
    "duration": 42,
    "start_time": "2024-09-06T16:53:28.750Z"
   },
   {
    "duration": 8,
    "start_time": "2024-09-06T16:53:28.793Z"
   },
   {
    "duration": 97,
    "start_time": "2024-09-06T16:53:28.803Z"
   },
   {
    "duration": 9,
    "start_time": "2024-09-06T16:53:28.902Z"
   },
   {
    "duration": 5,
    "start_time": "2024-09-06T16:53:28.913Z"
   },
   {
    "duration": 71,
    "start_time": "2024-09-06T16:53:28.920Z"
   },
   {
    "duration": 1011,
    "start_time": "2024-09-06T16:53:28.993Z"
   },
   {
    "duration": 241,
    "start_time": "2024-09-06T16:53:30.006Z"
   },
   {
    "duration": 187,
    "start_time": "2024-09-06T16:53:30.248Z"
   },
   {
    "duration": 3,
    "start_time": "2024-09-06T16:53:30.437Z"
   },
   {
    "duration": 4,
    "start_time": "2024-09-06T16:53:30.442Z"
   },
   {
    "duration": 5,
    "start_time": "2024-09-06T16:53:30.447Z"
   },
   {
    "duration": 840,
    "start_time": "2024-09-06T16:53:30.453Z"
   },
   {
    "duration": 880,
    "start_time": "2024-09-06T16:56:50.629Z"
   },
   {
    "duration": 465,
    "start_time": "2024-09-06T16:56:51.511Z"
   },
   {
    "duration": 61,
    "start_time": "2024-09-06T16:56:51.977Z"
   },
   {
    "duration": 17,
    "start_time": "2024-09-06T16:56:52.041Z"
   },
   {
    "duration": 27,
    "start_time": "2024-09-06T16:56:52.061Z"
   },
   {
    "duration": 7,
    "start_time": "2024-09-06T16:56:52.089Z"
   },
   {
    "duration": 57,
    "start_time": "2024-09-06T16:56:52.097Z"
   },
   {
    "duration": 31,
    "start_time": "2024-09-06T16:56:52.156Z"
   },
   {
    "duration": 14,
    "start_time": "2024-09-06T16:56:52.189Z"
   },
   {
    "duration": 15,
    "start_time": "2024-09-06T16:56:52.206Z"
   },
   {
    "duration": 5,
    "start_time": "2024-09-06T16:56:52.223Z"
   },
   {
    "duration": 19,
    "start_time": "2024-09-06T16:56:52.229Z"
   },
   {
    "duration": 43,
    "start_time": "2024-09-06T16:56:52.250Z"
   },
   {
    "duration": 15,
    "start_time": "2024-09-06T16:56:52.295Z"
   },
   {
    "duration": 14,
    "start_time": "2024-09-06T16:56:52.311Z"
   },
   {
    "duration": 7,
    "start_time": "2024-09-06T16:56:52.327Z"
   },
   {
    "duration": 114,
    "start_time": "2024-09-06T16:56:52.336Z"
   },
   {
    "duration": 865,
    "start_time": "2024-09-06T17:19:15.968Z"
   },
   {
    "duration": 478,
    "start_time": "2024-09-06T17:19:16.835Z"
   },
   {
    "duration": 55,
    "start_time": "2024-09-06T17:19:17.315Z"
   },
   {
    "duration": 29,
    "start_time": "2024-09-06T17:19:17.372Z"
   },
   {
    "duration": 14,
    "start_time": "2024-09-06T17:19:17.403Z"
   },
   {
    "duration": 6,
    "start_time": "2024-09-06T17:19:17.419Z"
   },
   {
    "duration": 78,
    "start_time": "2024-09-06T17:19:17.426Z"
   },
   {
    "duration": 10,
    "start_time": "2024-09-06T17:19:17.506Z"
   },
   {
    "duration": 14,
    "start_time": "2024-09-06T17:19:17.518Z"
   },
   {
    "duration": 14,
    "start_time": "2024-09-06T17:19:17.534Z"
   },
   {
    "duration": 5,
    "start_time": "2024-09-06T17:19:17.550Z"
   },
   {
    "duration": 19,
    "start_time": "2024-09-06T17:19:17.586Z"
   },
   {
    "duration": 12,
    "start_time": "2024-09-06T17:19:17.606Z"
   },
   {
    "duration": 14,
    "start_time": "2024-09-06T17:19:17.622Z"
   },
   {
    "duration": 13,
    "start_time": "2024-09-06T17:19:17.638Z"
   },
   {
    "duration": 37,
    "start_time": "2024-09-06T17:19:17.653Z"
   },
   {
    "duration": 84,
    "start_time": "2024-09-06T17:19:17.692Z"
   },
   {
    "duration": 164,
    "start_time": "2024-09-06T17:19:17.788Z"
   },
   {
    "duration": 12189,
    "start_time": "2024-09-06T17:19:17.954Z"
   },
   {
    "duration": 0,
    "start_time": "2024-09-06T17:19:30.145Z"
   },
   {
    "duration": 0,
    "start_time": "2024-09-06T17:19:30.147Z"
   },
   {
    "duration": 0,
    "start_time": "2024-09-06T17:19:30.148Z"
   },
   {
    "duration": 1,
    "start_time": "2024-09-06T17:19:30.149Z"
   },
   {
    "duration": 936,
    "start_time": "2024-09-06T17:20:11.956Z"
   },
   {
    "duration": 495,
    "start_time": "2024-09-06T17:20:12.894Z"
   },
   {
    "duration": 16,
    "start_time": "2024-09-06T17:20:13.393Z"
   },
   {
    "duration": 18,
    "start_time": "2024-09-06T17:20:13.411Z"
   },
   {
    "duration": 14,
    "start_time": "2024-09-06T17:20:13.430Z"
   },
   {
    "duration": 8,
    "start_time": "2024-09-06T17:20:13.446Z"
   },
   {
    "duration": 88,
    "start_time": "2024-09-06T17:20:13.455Z"
   },
   {
    "duration": 10,
    "start_time": "2024-09-06T17:20:13.545Z"
   },
   {
    "duration": 29,
    "start_time": "2024-09-06T17:20:13.557Z"
   },
   {
    "duration": 17,
    "start_time": "2024-09-06T17:20:13.589Z"
   },
   {
    "duration": 6,
    "start_time": "2024-09-06T17:20:13.608Z"
   },
   {
    "duration": 19,
    "start_time": "2024-09-06T17:20:13.615Z"
   },
   {
    "duration": 12,
    "start_time": "2024-09-06T17:20:13.635Z"
   },
   {
    "duration": 41,
    "start_time": "2024-09-06T17:20:13.649Z"
   },
   {
    "duration": 14,
    "start_time": "2024-09-06T17:20:13.695Z"
   },
   {
    "duration": 7,
    "start_time": "2024-09-06T17:20:13.712Z"
   },
   {
    "duration": 103,
    "start_time": "2024-09-06T17:20:13.720Z"
   },
   {
    "duration": 162,
    "start_time": "2024-09-06T17:20:13.825Z"
   },
   {
    "duration": 46500,
    "start_time": "2024-09-06T17:20:13.989Z"
   },
   {
    "duration": 56,
    "start_time": "2024-09-06T17:21:00.491Z"
   },
   {
    "duration": 23909,
    "start_time": "2024-09-06T17:21:00.548Z"
   },
   {
    "duration": 217,
    "start_time": "2024-09-06T17:21:24.459Z"
   },
   {
    "duration": 47067,
    "start_time": "2024-09-06T17:21:24.677Z"
   },
   {
    "duration": 139,
    "start_time": "2024-09-06T17:22:13.338Z"
   },
   {
    "duration": 11778,
    "start_time": "2024-09-06T17:22:41.153Z"
   },
   {
    "duration": 1007,
    "start_time": "2024-09-06T17:23:23.529Z"
   },
   {
    "duration": 465,
    "start_time": "2024-09-06T17:23:24.538Z"
   },
   {
    "duration": 13,
    "start_time": "2024-09-06T17:23:25.004Z"
   },
   {
    "duration": 18,
    "start_time": "2024-09-06T17:23:25.020Z"
   },
   {
    "duration": 15,
    "start_time": "2024-09-06T17:23:25.040Z"
   },
   {
    "duration": 12,
    "start_time": "2024-09-06T17:23:25.057Z"
   },
   {
    "duration": 57,
    "start_time": "2024-09-06T17:23:25.088Z"
   },
   {
    "duration": 10,
    "start_time": "2024-09-06T17:23:25.146Z"
   },
   {
    "duration": 33,
    "start_time": "2024-09-06T17:23:25.158Z"
   },
   {
    "duration": 15,
    "start_time": "2024-09-06T17:23:25.194Z"
   },
   {
    "duration": 5,
    "start_time": "2024-09-06T17:23:25.211Z"
   },
   {
    "duration": 18,
    "start_time": "2024-09-06T17:23:25.217Z"
   },
   {
    "duration": 12,
    "start_time": "2024-09-06T17:23:25.236Z"
   },
   {
    "duration": 48,
    "start_time": "2024-09-06T17:23:25.249Z"
   },
   {
    "duration": 14,
    "start_time": "2024-09-06T17:23:25.298Z"
   },
   {
    "duration": 7,
    "start_time": "2024-09-06T17:23:25.314Z"
   },
   {
    "duration": 110,
    "start_time": "2024-09-06T17:23:25.322Z"
   },
   {
    "duration": 162,
    "start_time": "2024-09-06T17:23:25.434Z"
   },
   {
    "duration": 145,
    "start_time": "2024-09-06T17:23:25.597Z"
   },
   {
    "duration": 11972,
    "start_time": "2024-09-06T17:23:25.744Z"
   },
   {
    "duration": 26625,
    "start_time": "2024-09-06T17:23:37.718Z"
   },
   {
    "duration": 170,
    "start_time": "2024-09-06T17:24:04.345Z"
   },
   {
    "duration": 7994,
    "start_time": "2024-09-06T17:24:04.516Z"
   },
   {
    "duration": 54,
    "start_time": "2024-09-06T17:24:12.512Z"
   },
   {
    "duration": 23991,
    "start_time": "2024-09-06T17:24:12.568Z"
   },
   {
    "duration": 214,
    "start_time": "2024-09-06T17:24:36.561Z"
   },
   {
    "duration": 1029,
    "start_time": "2024-09-06T17:25:25.302Z"
   },
   {
    "duration": 487,
    "start_time": "2024-09-06T17:25:26.334Z"
   },
   {
    "duration": 15,
    "start_time": "2024-09-06T17:25:26.823Z"
   },
   {
    "duration": 18,
    "start_time": "2024-09-06T17:25:26.840Z"
   },
   {
    "duration": 28,
    "start_time": "2024-09-06T17:25:26.861Z"
   },
   {
    "duration": 6,
    "start_time": "2024-09-06T17:25:26.890Z"
   },
   {
    "duration": 57,
    "start_time": "2024-09-06T17:25:26.897Z"
   },
   {
    "duration": 33,
    "start_time": "2024-09-06T17:25:26.956Z"
   },
   {
    "duration": 15,
    "start_time": "2024-09-06T17:25:26.990Z"
   },
   {
    "duration": 14,
    "start_time": "2024-09-06T17:25:27.008Z"
   },
   {
    "duration": 5,
    "start_time": "2024-09-06T17:25:27.024Z"
   },
   {
    "duration": 19,
    "start_time": "2024-09-06T17:25:27.031Z"
   },
   {
    "duration": 39,
    "start_time": "2024-09-06T17:25:27.051Z"
   },
   {
    "duration": 15,
    "start_time": "2024-09-06T17:25:27.092Z"
   },
   {
    "duration": 14,
    "start_time": "2024-09-06T17:25:27.109Z"
   },
   {
    "duration": 13,
    "start_time": "2024-09-06T17:25:27.124Z"
   },
   {
    "duration": 111,
    "start_time": "2024-09-06T17:25:27.139Z"
   },
   {
    "duration": 162,
    "start_time": "2024-09-06T17:25:27.252Z"
   },
   {
    "duration": 141,
    "start_time": "2024-09-06T17:25:27.416Z"
   },
   {
    "duration": 11859,
    "start_time": "2024-09-06T17:25:27.558Z"
   },
   {
    "duration": 26276,
    "start_time": "2024-09-06T17:25:39.419Z"
   },
   {
    "duration": 176,
    "start_time": "2024-09-06T17:26:05.697Z"
   },
   {
    "duration": 8007,
    "start_time": "2024-09-06T17:26:05.876Z"
   },
   {
    "duration": 55,
    "start_time": "2024-09-06T17:26:13.886Z"
   },
   {
    "duration": 219,
    "start_time": "2024-09-06T17:26:37.740Z"
   },
   {
    "duration": 73,
    "start_time": "2024-09-06T17:27:24.499Z"
   },
   {
    "duration": 160,
    "start_time": "2024-09-06T17:27:24.574Z"
   },
   {
    "duration": 923,
    "start_time": "2024-09-06T17:27:45.447Z"
   },
   {
    "duration": 457,
    "start_time": "2024-09-06T17:27:46.372Z"
   },
   {
    "duration": 14,
    "start_time": "2024-09-06T17:27:46.830Z"
   },
   {
    "duration": 17,
    "start_time": "2024-09-06T17:27:46.847Z"
   },
   {
    "duration": 27,
    "start_time": "2024-09-06T17:27:46.866Z"
   },
   {
    "duration": 6,
    "start_time": "2024-09-06T17:27:46.895Z"
   },
   {
    "duration": 56,
    "start_time": "2024-09-06T17:27:46.903Z"
   },
   {
    "duration": 31,
    "start_time": "2024-09-06T17:27:46.961Z"
   },
   {
    "duration": 19,
    "start_time": "2024-09-06T17:27:46.994Z"
   },
   {
    "duration": 19,
    "start_time": "2024-09-06T17:27:47.017Z"
   },
   {
    "duration": 6,
    "start_time": "2024-09-06T17:27:47.037Z"
   },
   {
    "duration": 46,
    "start_time": "2024-09-06T17:27:47.045Z"
   },
   {
    "duration": 13,
    "start_time": "2024-09-06T17:27:47.093Z"
   },
   {
    "duration": 15,
    "start_time": "2024-09-06T17:27:47.108Z"
   },
   {
    "duration": 15,
    "start_time": "2024-09-06T17:27:47.124Z"
   },
   {
    "duration": 7,
    "start_time": "2024-09-06T17:27:47.140Z"
   },
   {
    "duration": 118,
    "start_time": "2024-09-06T17:27:47.149Z"
   },
   {
    "duration": 160,
    "start_time": "2024-09-06T17:27:47.269Z"
   },
   {
    "duration": 144,
    "start_time": "2024-09-06T17:27:47.431Z"
   },
   {
    "duration": 11832,
    "start_time": "2024-09-06T17:27:47.577Z"
   },
   {
    "duration": 26144,
    "start_time": "2024-09-06T17:27:59.411Z"
   },
   {
    "duration": 169,
    "start_time": "2024-09-06T17:28:25.558Z"
   },
   {
    "duration": 8096,
    "start_time": "2024-09-06T17:28:25.729Z"
   },
   {
    "duration": 60,
    "start_time": "2024-09-06T17:28:33.826Z"
   },
   {
    "duration": 76,
    "start_time": "2024-09-06T17:28:33.888Z"
   },
   {
    "duration": 7200,
    "start_time": "2024-09-06T17:28:33.965Z"
   },
   {
    "duration": 11509,
    "start_time": "2024-09-06T17:28:41.167Z"
   },
   {
    "duration": 165,
    "start_time": "2024-09-06T17:28:52.680Z"
   },
   {
    "duration": 4754,
    "start_time": "2024-09-06T17:28:52.847Z"
   },
   {
    "duration": 213,
    "start_time": "2024-09-06T17:28:57.603Z"
   },
   {
    "duration": 168,
    "start_time": "2024-09-06T17:28:57.819Z"
   },
   {
    "duration": 11905,
    "start_time": "2024-09-06T17:28:57.988Z"
   },
   {
    "duration": 26138,
    "start_time": "2024-09-06T17:29:09.895Z"
   },
   {
    "duration": 211,
    "start_time": "2024-09-06T17:29:36.035Z"
   },
   {
    "duration": 8265,
    "start_time": "2024-09-06T17:29:36.248Z"
   },
   {
    "duration": 964,
    "start_time": "2024-09-06T17:32:07.145Z"
   },
   {
    "duration": 497,
    "start_time": "2024-09-06T17:32:08.111Z"
   },
   {
    "duration": 13,
    "start_time": "2024-09-06T17:32:08.610Z"
   },
   {
    "duration": 16,
    "start_time": "2024-09-06T17:32:08.625Z"
   },
   {
    "duration": 15,
    "start_time": "2024-09-06T17:32:08.643Z"
   },
   {
    "duration": 28,
    "start_time": "2024-09-06T17:32:08.660Z"
   },
   {
    "duration": 58,
    "start_time": "2024-09-06T17:32:08.690Z"
   },
   {
    "duration": 11,
    "start_time": "2024-09-06T17:32:08.750Z"
   },
   {
    "duration": 31,
    "start_time": "2024-09-06T17:32:08.762Z"
   },
   {
    "duration": 13,
    "start_time": "2024-09-06T17:32:08.797Z"
   },
   {
    "duration": 8,
    "start_time": "2024-09-06T17:32:08.812Z"
   },
   {
    "duration": 20,
    "start_time": "2024-09-06T17:32:08.822Z"
   },
   {
    "duration": 14,
    "start_time": "2024-09-06T17:32:08.843Z"
   },
   {
    "duration": 39,
    "start_time": "2024-09-06T17:32:08.859Z"
   },
   {
    "duration": 14,
    "start_time": "2024-09-06T17:32:08.900Z"
   },
   {
    "duration": 7,
    "start_time": "2024-09-06T17:32:08.918Z"
   },
   {
    "duration": 106,
    "start_time": "2024-09-06T17:32:08.926Z"
   },
   {
    "duration": 162,
    "start_time": "2024-09-06T17:32:09.034Z"
   },
   {
    "duration": 151,
    "start_time": "2024-09-06T17:32:09.198Z"
   },
   {
    "duration": 11654,
    "start_time": "2024-09-06T17:32:09.351Z"
   },
   {
    "duration": 26268,
    "start_time": "2024-09-06T17:32:21.007Z"
   },
   {
    "duration": 192,
    "start_time": "2024-09-06T17:32:47.278Z"
   },
   {
    "duration": 8058,
    "start_time": "2024-09-06T17:32:47.472Z"
   },
   {
    "duration": 73,
    "start_time": "2024-09-06T17:32:55.532Z"
   },
   {
    "duration": 80,
    "start_time": "2024-09-06T17:32:55.607Z"
   },
   {
    "duration": 7156,
    "start_time": "2024-09-06T17:32:55.689Z"
   },
   {
    "duration": 11782,
    "start_time": "2024-09-06T17:33:02.847Z"
   },
   {
    "duration": 171,
    "start_time": "2024-09-06T17:33:14.633Z"
   },
   {
    "duration": 4724,
    "start_time": "2024-09-06T17:33:14.805Z"
   },
   {
    "duration": 218,
    "start_time": "2024-09-06T17:33:19.531Z"
   },
   {
    "duration": 160,
    "start_time": "2024-09-06T17:33:19.751Z"
   },
   {
    "duration": 11895,
    "start_time": "2024-09-06T17:33:19.913Z"
   },
   {
    "duration": 1005,
    "start_time": "2024-09-06T17:33:53.025Z"
   },
   {
    "duration": 498,
    "start_time": "2024-09-06T17:33:54.032Z"
   },
   {
    "duration": 14,
    "start_time": "2024-09-06T17:33:54.532Z"
   },
   {
    "duration": 17,
    "start_time": "2024-09-06T17:33:54.549Z"
   },
   {
    "duration": 27,
    "start_time": "2024-09-06T17:33:54.568Z"
   },
   {
    "duration": 7,
    "start_time": "2024-09-06T17:33:54.596Z"
   },
   {
    "duration": 59,
    "start_time": "2024-09-06T17:33:54.604Z"
   },
   {
    "duration": 31,
    "start_time": "2024-09-06T17:33:54.665Z"
   },
   {
    "duration": 14,
    "start_time": "2024-09-06T17:33:54.697Z"
   },
   {
    "duration": 15,
    "start_time": "2024-09-06T17:33:54.714Z"
   },
   {
    "duration": 6,
    "start_time": "2024-09-06T17:33:54.731Z"
   },
   {
    "duration": 18,
    "start_time": "2024-09-06T17:33:54.738Z"
   },
   {
    "duration": 16,
    "start_time": "2024-09-06T17:33:54.787Z"
   },
   {
    "duration": 15,
    "start_time": "2024-09-06T17:33:54.805Z"
   },
   {
    "duration": 15,
    "start_time": "2024-09-06T17:33:54.822Z"
   },
   {
    "duration": 7,
    "start_time": "2024-09-06T17:33:54.838Z"
   },
   {
    "duration": 115,
    "start_time": "2024-09-06T17:33:54.847Z"
   },
   {
    "duration": 165,
    "start_time": "2024-09-06T17:33:54.964Z"
   },
   {
    "duration": 146,
    "start_time": "2024-09-06T17:33:55.131Z"
   },
   {
    "duration": 11695,
    "start_time": "2024-09-06T17:33:55.278Z"
   },
   {
    "duration": 26269,
    "start_time": "2024-09-06T17:34:06.975Z"
   },
   {
    "duration": 187,
    "start_time": "2024-09-06T17:34:33.245Z"
   },
   {
    "duration": 8083,
    "start_time": "2024-09-06T17:34:33.434Z"
   },
   {
    "duration": 56,
    "start_time": "2024-09-06T17:34:41.519Z"
   },
   {
    "duration": 83,
    "start_time": "2024-09-06T17:34:41.576Z"
   },
   {
    "duration": 7203,
    "start_time": "2024-09-06T17:34:41.661Z"
   },
   {
    "duration": 11735,
    "start_time": "2024-09-06T17:34:48.866Z"
   },
   {
    "duration": 171,
    "start_time": "2024-09-06T17:35:00.605Z"
   },
   {
    "duration": 4762,
    "start_time": "2024-09-06T17:35:00.778Z"
   },
   {
    "duration": 216,
    "start_time": "2024-09-06T17:35:05.542Z"
   },
   {
    "duration": 152,
    "start_time": "2024-09-06T17:35:05.760Z"
   },
   {
    "duration": 11898,
    "start_time": "2024-09-06T17:35:05.914Z"
   },
   {
    "duration": 26404,
    "start_time": "2024-09-06T17:35:17.813Z"
   },
   {
    "duration": 214,
    "start_time": "2024-09-06T17:35:44.219Z"
   },
   {
    "duration": 8178,
    "start_time": "2024-09-06T17:35:44.435Z"
   },
   {
    "duration": 233,
    "start_time": "2024-09-06T17:35:52.615Z"
   },
   {
    "duration": 0,
    "start_time": "2024-09-06T17:35:52.849Z"
   },
   {
    "duration": 0,
    "start_time": "2024-09-06T17:35:52.850Z"
   },
   {
    "duration": 0,
    "start_time": "2024-09-06T17:35:52.851Z"
   },
   {
    "duration": 0,
    "start_time": "2024-09-06T17:35:52.852Z"
   },
   {
    "duration": 0,
    "start_time": "2024-09-06T17:35:52.853Z"
   },
   {
    "duration": 16,
    "start_time": "2024-09-06T17:37:10.262Z"
   },
   {
    "duration": 986,
    "start_time": "2024-09-06T17:37:18.915Z"
   },
   {
    "duration": 485,
    "start_time": "2024-09-06T17:37:19.903Z"
   },
   {
    "duration": 13,
    "start_time": "2024-09-06T17:37:20.391Z"
   },
   {
    "duration": 16,
    "start_time": "2024-09-06T17:37:20.406Z"
   },
   {
    "duration": 14,
    "start_time": "2024-09-06T17:37:20.424Z"
   },
   {
    "duration": 6,
    "start_time": "2024-09-06T17:37:20.440Z"
   },
   {
    "duration": 87,
    "start_time": "2024-09-06T17:37:20.447Z"
   },
   {
    "duration": 10,
    "start_time": "2024-09-06T17:37:20.536Z"
   },
   {
    "duration": 14,
    "start_time": "2024-09-06T17:37:20.548Z"
   },
   {
    "duration": 27,
    "start_time": "2024-09-06T17:37:20.566Z"
   },
   {
    "duration": 5,
    "start_time": "2024-09-06T17:37:20.595Z"
   },
   {
    "duration": 18,
    "start_time": "2024-09-06T17:37:20.602Z"
   },
   {
    "duration": 13,
    "start_time": "2024-09-06T17:37:20.621Z"
   },
   {
    "duration": 17,
    "start_time": "2024-09-06T17:37:20.635Z"
   },
   {
    "duration": 46,
    "start_time": "2024-09-06T17:37:20.653Z"
   },
   {
    "duration": 7,
    "start_time": "2024-09-06T17:37:20.701Z"
   },
   {
    "duration": 103,
    "start_time": "2024-09-06T17:37:20.709Z"
   },
   {
    "duration": 156,
    "start_time": "2024-09-06T17:37:20.814Z"
   },
   {
    "duration": 149,
    "start_time": "2024-09-06T17:37:20.973Z"
   },
   {
    "duration": 11740,
    "start_time": "2024-09-06T17:37:21.124Z"
   },
   {
    "duration": 26237,
    "start_time": "2024-09-06T17:37:32.866Z"
   },
   {
    "duration": 175,
    "start_time": "2024-09-06T17:37:59.105Z"
   },
   {
    "duration": 8059,
    "start_time": "2024-09-06T17:37:59.286Z"
   },
   {
    "duration": 64,
    "start_time": "2024-09-06T17:38:07.347Z"
   },
   {
    "duration": 98,
    "start_time": "2024-09-06T17:38:07.413Z"
   },
   {
    "duration": 7180,
    "start_time": "2024-09-06T17:38:07.513Z"
   },
   {
    "duration": 11651,
    "start_time": "2024-09-06T17:38:14.695Z"
   },
   {
    "duration": 169,
    "start_time": "2024-09-06T17:38:26.350Z"
   },
   {
    "duration": 4771,
    "start_time": "2024-09-06T17:38:26.521Z"
   },
   {
    "duration": 227,
    "start_time": "2024-09-06T17:38:31.294Z"
   },
   {
    "duration": 156,
    "start_time": "2024-09-06T17:38:31.523Z"
   },
   {
    "duration": 11977,
    "start_time": "2024-09-06T17:38:31.680Z"
   },
   {
    "duration": 26514,
    "start_time": "2024-09-06T17:38:43.659Z"
   },
   {
    "duration": 205,
    "start_time": "2024-09-06T17:39:10.175Z"
   },
   {
    "duration": 8201,
    "start_time": "2024-09-06T17:39:10.381Z"
   },
   {
    "duration": 228,
    "start_time": "2024-09-06T17:39:18.586Z"
   },
   {
    "duration": 0,
    "start_time": "2024-09-06T17:39:18.816Z"
   },
   {
    "duration": 0,
    "start_time": "2024-09-06T17:39:18.818Z"
   },
   {
    "duration": 0,
    "start_time": "2024-09-06T17:39:18.819Z"
   },
   {
    "duration": 0,
    "start_time": "2024-09-06T17:39:18.821Z"
   },
   {
    "duration": 0,
    "start_time": "2024-09-06T17:39:18.822Z"
   },
   {
    "duration": 956,
    "start_time": "2024-09-06T17:42:20.855Z"
   },
   {
    "duration": 488,
    "start_time": "2024-09-06T17:42:21.813Z"
   },
   {
    "duration": 13,
    "start_time": "2024-09-06T17:42:22.303Z"
   },
   {
    "duration": 17,
    "start_time": "2024-09-06T17:42:22.319Z"
   },
   {
    "duration": 14,
    "start_time": "2024-09-06T17:42:22.338Z"
   },
   {
    "duration": 7,
    "start_time": "2024-09-06T17:42:22.353Z"
   },
   {
    "duration": 58,
    "start_time": "2024-09-06T17:42:22.387Z"
   },
   {
    "duration": 10,
    "start_time": "2024-09-06T17:42:22.447Z"
   },
   {
    "duration": 30,
    "start_time": "2024-09-06T17:42:22.458Z"
   },
   {
    "duration": 15,
    "start_time": "2024-09-06T17:42:22.492Z"
   },
   {
    "duration": 5,
    "start_time": "2024-09-06T17:42:22.509Z"
   },
   {
    "duration": 17,
    "start_time": "2024-09-06T17:42:22.517Z"
   },
   {
    "duration": 13,
    "start_time": "2024-09-06T17:42:22.535Z"
   },
   {
    "duration": 43,
    "start_time": "2024-09-06T17:42:22.550Z"
   },
   {
    "duration": 14,
    "start_time": "2024-09-06T17:42:22.595Z"
   },
   {
    "duration": 7,
    "start_time": "2024-09-06T17:42:22.611Z"
   },
   {
    "duration": 111,
    "start_time": "2024-09-06T17:42:22.619Z"
   },
   {
    "duration": 163,
    "start_time": "2024-09-06T17:42:22.732Z"
   },
   {
    "duration": 145,
    "start_time": "2024-09-06T17:42:22.897Z"
   },
   {
    "duration": 12290,
    "start_time": "2024-09-06T17:42:23.044Z"
   },
   {
    "duration": 26419,
    "start_time": "2024-09-06T17:42:35.336Z"
   },
   {
    "duration": 161,
    "start_time": "2024-09-06T17:43:01.757Z"
   },
   {
    "duration": 8212,
    "start_time": "2024-09-06T17:43:01.920Z"
   },
   {
    "duration": 64,
    "start_time": "2024-09-06T17:43:10.134Z"
   },
   {
    "duration": 73,
    "start_time": "2024-09-06T17:43:10.200Z"
   },
   {
    "duration": 7275,
    "start_time": "2024-09-06T17:43:10.275Z"
   },
   {
    "duration": 11824,
    "start_time": "2024-09-06T17:43:17.552Z"
   },
   {
    "duration": 151,
    "start_time": "2024-09-06T17:43:29.386Z"
   },
   {
    "duration": 4768,
    "start_time": "2024-09-06T17:43:29.539Z"
   },
   {
    "duration": 220,
    "start_time": "2024-09-06T17:43:34.309Z"
   },
   {
    "duration": 156,
    "start_time": "2024-09-06T17:43:34.531Z"
   },
   {
    "duration": 11948,
    "start_time": "2024-09-06T17:43:34.688Z"
   },
   {
    "duration": 26673,
    "start_time": "2024-09-06T17:43:46.638Z"
   },
   {
    "duration": 206,
    "start_time": "2024-09-06T17:44:13.313Z"
   },
   {
    "duration": 8245,
    "start_time": "2024-09-06T17:44:13.521Z"
   },
   {
    "duration": 397,
    "start_time": "2024-09-06T17:44:21.768Z"
   },
   {
    "duration": 0,
    "start_time": "2024-09-06T17:44:22.167Z"
   },
   {
    "duration": 0,
    "start_time": "2024-09-06T17:44:22.168Z"
   },
   {
    "duration": 0,
    "start_time": "2024-09-06T17:44:22.169Z"
   },
   {
    "duration": 0,
    "start_time": "2024-09-06T17:44:22.171Z"
   },
   {
    "duration": 0,
    "start_time": "2024-09-06T17:44:22.172Z"
   },
   {
    "duration": 964,
    "start_time": "2024-09-06T17:47:24.371Z"
   },
   {
    "duration": 481,
    "start_time": "2024-09-06T17:47:25.337Z"
   },
   {
    "duration": 14,
    "start_time": "2024-09-06T17:47:25.820Z"
   },
   {
    "duration": 17,
    "start_time": "2024-09-06T17:47:25.837Z"
   },
   {
    "duration": 32,
    "start_time": "2024-09-06T17:47:25.856Z"
   },
   {
    "duration": 7,
    "start_time": "2024-09-06T17:47:25.889Z"
   },
   {
    "duration": 58,
    "start_time": "2024-09-06T17:47:25.897Z"
   },
   {
    "duration": 30,
    "start_time": "2024-09-06T17:47:25.957Z"
   },
   {
    "duration": 14,
    "start_time": "2024-09-06T17:47:25.989Z"
   },
   {
    "duration": 14,
    "start_time": "2024-09-06T17:47:26.007Z"
   },
   {
    "duration": 6,
    "start_time": "2024-09-06T17:47:26.022Z"
   },
   {
    "duration": 18,
    "start_time": "2024-09-06T17:47:26.029Z"
   },
   {
    "duration": 43,
    "start_time": "2024-09-06T17:47:26.049Z"
   },
   {
    "duration": 14,
    "start_time": "2024-09-06T17:47:26.094Z"
   },
   {
    "duration": 14,
    "start_time": "2024-09-06T17:47:26.110Z"
   },
   {
    "duration": 7,
    "start_time": "2024-09-06T17:47:26.125Z"
   },
   {
    "duration": 111,
    "start_time": "2024-09-06T17:47:26.134Z"
   },
   {
    "duration": 163,
    "start_time": "2024-09-06T17:47:26.247Z"
   },
   {
    "duration": 148,
    "start_time": "2024-09-06T17:47:26.412Z"
   },
   {
    "duration": 11649,
    "start_time": "2024-09-06T17:47:26.562Z"
   },
   {
    "duration": 26250,
    "start_time": "2024-09-06T17:47:38.213Z"
   },
   {
    "duration": 171,
    "start_time": "2024-09-06T17:48:04.465Z"
   },
   {
    "duration": 8081,
    "start_time": "2024-09-06T17:48:04.638Z"
   },
   {
    "duration": 55,
    "start_time": "2024-09-06T17:48:12.721Z"
   },
   {
    "duration": 77,
    "start_time": "2024-09-06T17:48:12.778Z"
   },
   {
    "duration": 7146,
    "start_time": "2024-09-06T17:48:12.857Z"
   },
   {
    "duration": 11628,
    "start_time": "2024-09-06T17:48:20.005Z"
   },
   {
    "duration": 167,
    "start_time": "2024-09-06T17:48:31.637Z"
   },
   {
    "duration": 4735,
    "start_time": "2024-09-06T17:48:31.806Z"
   },
   {
    "duration": 223,
    "start_time": "2024-09-06T17:48:36.543Z"
   },
   {
    "duration": 156,
    "start_time": "2024-09-06T17:48:36.768Z"
   },
   {
    "duration": 11938,
    "start_time": "2024-09-06T17:48:36.926Z"
   },
   {
    "duration": 26597,
    "start_time": "2024-09-06T17:48:48.866Z"
   },
   {
    "duration": 212,
    "start_time": "2024-09-06T17:49:15.465Z"
   },
   {
    "duration": 8209,
    "start_time": "2024-09-06T17:49:15.679Z"
   },
   {
    "duration": 985,
    "start_time": "2024-09-06T17:55:19.693Z"
   },
   {
    "duration": 498,
    "start_time": "2024-09-06T17:55:20.680Z"
   },
   {
    "duration": 17,
    "start_time": "2024-09-06T17:55:21.179Z"
   },
   {
    "duration": 17,
    "start_time": "2024-09-06T17:55:21.198Z"
   },
   {
    "duration": 14,
    "start_time": "2024-09-06T17:55:21.217Z"
   },
   {
    "duration": 7,
    "start_time": "2024-09-06T17:55:21.233Z"
   },
   {
    "duration": 82,
    "start_time": "2024-09-06T17:55:21.241Z"
   },
   {
    "duration": 11,
    "start_time": "2024-09-06T17:55:21.325Z"
   },
   {
    "duration": 14,
    "start_time": "2024-09-06T17:55:21.338Z"
   },
   {
    "duration": 35,
    "start_time": "2024-09-06T17:55:21.355Z"
   },
   {
    "duration": 5,
    "start_time": "2024-09-06T17:55:21.391Z"
   },
   {
    "duration": 18,
    "start_time": "2024-09-06T17:55:21.397Z"
   },
   {
    "duration": 12,
    "start_time": "2024-09-06T17:55:21.417Z"
   },
   {
    "duration": 14,
    "start_time": "2024-09-06T17:55:21.430Z"
   },
   {
    "duration": 43,
    "start_time": "2024-09-06T17:55:21.446Z"
   },
   {
    "duration": 7,
    "start_time": "2024-09-06T17:55:21.491Z"
   },
   {
    "duration": 99,
    "start_time": "2024-09-06T17:55:21.500Z"
   },
   {
    "duration": 173,
    "start_time": "2024-09-06T17:55:21.601Z"
   },
   {
    "duration": 154,
    "start_time": "2024-09-06T17:55:21.778Z"
   },
   {
    "duration": 11789,
    "start_time": "2024-09-06T17:55:21.934Z"
   },
   {
    "duration": 26195,
    "start_time": "2024-09-06T17:55:33.724Z"
   },
   {
    "duration": 176,
    "start_time": "2024-09-06T17:55:59.921Z"
   },
   {
    "duration": 8061,
    "start_time": "2024-09-06T17:56:00.099Z"
   },
   {
    "duration": 63,
    "start_time": "2024-09-06T17:56:08.162Z"
   },
   {
    "duration": 79,
    "start_time": "2024-09-06T17:56:08.227Z"
   },
   {
    "duration": 7285,
    "start_time": "2024-09-06T17:56:08.308Z"
   },
   {
    "duration": 11469,
    "start_time": "2024-09-06T17:56:15.596Z"
   },
   {
    "duration": 165,
    "start_time": "2024-09-06T17:56:27.070Z"
   },
   {
    "duration": 4759,
    "start_time": "2024-09-06T17:56:27.236Z"
   },
   {
    "duration": 222,
    "start_time": "2024-09-06T17:56:31.997Z"
   },
   {
    "duration": 153,
    "start_time": "2024-09-06T17:56:32.221Z"
   },
   {
    "duration": 11927,
    "start_time": "2024-09-06T17:56:32.376Z"
   },
   {
    "duration": 26128,
    "start_time": "2024-09-06T17:56:44.306Z"
   },
   {
    "duration": 200,
    "start_time": "2024-09-06T17:57:10.436Z"
   },
   {
    "duration": 8218,
    "start_time": "2024-09-06T17:57:10.638Z"
   },
   {
    "duration": 342,
    "start_time": "2024-09-06T17:57:18.858Z"
   },
   {
    "duration": 0,
    "start_time": "2024-09-06T17:57:19.201Z"
   },
   {
    "duration": 0,
    "start_time": "2024-09-06T17:57:19.202Z"
   },
   {
    "duration": 0,
    "start_time": "2024-09-06T17:57:19.204Z"
   },
   {
    "duration": 0,
    "start_time": "2024-09-06T17:57:19.205Z"
   },
   {
    "duration": 0,
    "start_time": "2024-09-06T17:57:19.206Z"
   },
   {
    "duration": 0,
    "start_time": "2024-09-06T17:57:19.208Z"
   },
   {
    "duration": 0,
    "start_time": "2024-09-06T17:57:19.209Z"
   },
   {
    "duration": 1023,
    "start_time": "2024-09-06T18:19:54.725Z"
   },
   {
    "duration": 498,
    "start_time": "2024-09-06T18:19:55.750Z"
   },
   {
    "duration": 15,
    "start_time": "2024-09-06T18:19:56.250Z"
   },
   {
    "duration": 28,
    "start_time": "2024-09-06T18:19:56.268Z"
   },
   {
    "duration": 15,
    "start_time": "2024-09-06T18:19:56.298Z"
   },
   {
    "duration": 6,
    "start_time": "2024-09-06T18:19:56.314Z"
   },
   {
    "duration": 77,
    "start_time": "2024-09-06T18:19:56.322Z"
   },
   {
    "duration": 10,
    "start_time": "2024-09-06T18:19:56.401Z"
   },
   {
    "duration": 14,
    "start_time": "2024-09-06T18:19:56.412Z"
   },
   {
    "duration": 13,
    "start_time": "2024-09-06T18:19:56.430Z"
   },
   {
    "duration": 6,
    "start_time": "2024-09-06T18:19:56.445Z"
   },
   {
    "duration": 49,
    "start_time": "2024-09-06T18:19:56.452Z"
   },
   {
    "duration": 12,
    "start_time": "2024-09-06T18:19:56.503Z"
   },
   {
    "duration": 13,
    "start_time": "2024-09-06T18:19:56.517Z"
   },
   {
    "duration": 15,
    "start_time": "2024-09-06T18:19:56.532Z"
   },
   {
    "duration": 6,
    "start_time": "2024-09-06T18:19:56.549Z"
   },
   {
    "duration": 113,
    "start_time": "2024-09-06T18:19:56.557Z"
   },
   {
    "duration": 165,
    "start_time": "2024-09-06T18:19:56.671Z"
   },
   {
    "duration": 148,
    "start_time": "2024-09-06T18:19:56.838Z"
   },
   {
    "duration": 11926,
    "start_time": "2024-09-06T18:19:56.988Z"
   },
   {
    "duration": 26899,
    "start_time": "2024-09-06T18:20:08.916Z"
   },
   {
    "duration": 166,
    "start_time": "2024-09-06T18:20:35.817Z"
   },
   {
    "duration": 8103,
    "start_time": "2024-09-06T18:20:35.985Z"
   },
   {
    "duration": 56,
    "start_time": "2024-09-06T18:20:44.089Z"
   },
   {
    "duration": 90,
    "start_time": "2024-09-06T18:20:44.146Z"
   },
   {
    "duration": 7265,
    "start_time": "2024-09-06T18:20:44.237Z"
   },
   {
    "duration": 11605,
    "start_time": "2024-09-06T18:20:51.504Z"
   },
   {
    "duration": 175,
    "start_time": "2024-09-06T18:21:03.114Z"
   },
   {
    "duration": 4753,
    "start_time": "2024-09-06T18:21:03.291Z"
   },
   {
    "duration": 227,
    "start_time": "2024-09-06T18:21:08.046Z"
   },
   {
    "duration": 152,
    "start_time": "2024-09-06T18:21:08.275Z"
   },
   {
    "duration": 11995,
    "start_time": "2024-09-06T18:21:08.429Z"
   },
   {
    "duration": 26969,
    "start_time": "2024-09-06T18:21:20.426Z"
   },
   {
    "duration": 203,
    "start_time": "2024-09-06T18:21:47.397Z"
   },
   {
    "duration": 8277,
    "start_time": "2024-09-06T18:21:47.601Z"
   },
   {
    "duration": 485,
    "start_time": "2024-09-06T18:21:55.880Z"
   },
   {
    "duration": 400,
    "start_time": "2024-09-06T18:21:56.366Z"
   },
   {
    "duration": 0,
    "start_time": "2024-09-06T18:21:56.768Z"
   },
   {
    "duration": 0,
    "start_time": "2024-09-06T18:21:56.770Z"
   },
   {
    "duration": 0,
    "start_time": "2024-09-06T18:21:56.771Z"
   },
   {
    "duration": 0,
    "start_time": "2024-09-06T18:21:56.772Z"
   },
   {
    "duration": 0,
    "start_time": "2024-09-06T18:21:56.773Z"
   },
   {
    "duration": 0,
    "start_time": "2024-09-06T18:21:56.774Z"
   },
   {
    "duration": 0,
    "start_time": "2024-09-06T18:21:56.776Z"
   },
   {
    "duration": 988,
    "start_time": "2024-09-06T18:23:49.415Z"
   },
   {
    "duration": 484,
    "start_time": "2024-09-06T18:23:50.405Z"
   },
   {
    "duration": 15,
    "start_time": "2024-09-06T18:23:50.890Z"
   },
   {
    "duration": 18,
    "start_time": "2024-09-06T18:23:50.908Z"
   },
   {
    "duration": 15,
    "start_time": "2024-09-06T18:23:50.927Z"
   },
   {
    "duration": 7,
    "start_time": "2024-09-06T18:23:50.943Z"
   },
   {
    "duration": 92,
    "start_time": "2024-09-06T18:23:50.951Z"
   },
   {
    "duration": 10,
    "start_time": "2024-09-06T18:23:51.046Z"
   },
   {
    "duration": 16,
    "start_time": "2024-09-06T18:23:51.057Z"
   },
   {
    "duration": 14,
    "start_time": "2024-09-06T18:23:51.086Z"
   },
   {
    "duration": 7,
    "start_time": "2024-09-06T18:23:51.102Z"
   },
   {
    "duration": 19,
    "start_time": "2024-09-06T18:23:51.110Z"
   },
   {
    "duration": 13,
    "start_time": "2024-09-06T18:23:51.130Z"
   },
   {
    "duration": 44,
    "start_time": "2024-09-06T18:23:51.144Z"
   },
   {
    "duration": 14,
    "start_time": "2024-09-06T18:23:51.189Z"
   },
   {
    "duration": 7,
    "start_time": "2024-09-06T18:23:51.205Z"
   },
   {
    "duration": 106,
    "start_time": "2024-09-06T18:23:51.214Z"
   },
   {
    "duration": 157,
    "start_time": "2024-09-06T18:23:51.322Z"
   },
   {
    "duration": 150,
    "start_time": "2024-09-06T18:23:51.481Z"
   },
   {
    "duration": 11915,
    "start_time": "2024-09-06T18:23:51.632Z"
   },
   {
    "duration": 26390,
    "start_time": "2024-09-06T18:24:03.549Z"
   },
   {
    "duration": 175,
    "start_time": "2024-09-06T18:24:29.941Z"
   },
   {
    "duration": 8191,
    "start_time": "2024-09-06T18:24:30.118Z"
   },
   {
    "duration": 55,
    "start_time": "2024-09-06T18:24:38.311Z"
   },
   {
    "duration": 97,
    "start_time": "2024-09-06T18:24:38.367Z"
   },
   {
    "duration": 7349,
    "start_time": "2024-09-06T18:24:38.465Z"
   },
   {
    "duration": 11646,
    "start_time": "2024-09-06T18:24:45.816Z"
   },
   {
    "duration": 165,
    "start_time": "2024-09-06T18:24:57.467Z"
   },
   {
    "duration": 4814,
    "start_time": "2024-09-06T18:24:57.634Z"
   },
   {
    "duration": 214,
    "start_time": "2024-09-06T18:25:02.449Z"
   },
   {
    "duration": 157,
    "start_time": "2024-09-06T18:25:02.665Z"
   },
   {
    "duration": 12060,
    "start_time": "2024-09-06T18:25:02.824Z"
   },
   {
    "duration": 1001,
    "start_time": "2024-09-06T18:25:25.347Z"
   },
   {
    "duration": 557,
    "start_time": "2024-09-06T18:25:26.350Z"
   },
   {
    "duration": 20,
    "start_time": "2024-09-06T18:25:26.909Z"
   },
   {
    "duration": 25,
    "start_time": "2024-09-06T18:25:26.932Z"
   },
   {
    "duration": 33,
    "start_time": "2024-09-06T18:25:26.958Z"
   },
   {
    "duration": 8,
    "start_time": "2024-09-06T18:25:26.993Z"
   },
   {
    "duration": 101,
    "start_time": "2024-09-06T18:25:27.003Z"
   },
   {
    "duration": 14,
    "start_time": "2024-09-06T18:25:27.107Z"
   },
   {
    "duration": 23,
    "start_time": "2024-09-06T18:25:27.123Z"
   },
   {
    "duration": 15,
    "start_time": "2024-09-06T18:25:27.152Z"
   },
   {
    "duration": 7,
    "start_time": "2024-09-06T18:25:27.187Z"
   },
   {
    "duration": 23,
    "start_time": "2024-09-06T18:25:27.196Z"
   },
   {
    "duration": 13,
    "start_time": "2024-09-06T18:25:27.220Z"
   },
   {
    "duration": 22,
    "start_time": "2024-09-06T18:25:27.235Z"
   },
   {
    "duration": 39,
    "start_time": "2024-09-06T18:25:27.259Z"
   },
   {
    "duration": 8,
    "start_time": "2024-09-06T18:25:27.301Z"
   },
   {
    "duration": 102,
    "start_time": "2024-09-06T18:25:27.311Z"
   },
   {
    "duration": 221,
    "start_time": "2024-09-06T18:25:27.415Z"
   },
   {
    "duration": 184,
    "start_time": "2024-09-06T18:25:27.638Z"
   },
   {
    "duration": 11876,
    "start_time": "2024-09-06T18:25:27.824Z"
   },
   {
    "duration": 2754,
    "start_time": "2024-09-12T20:15:25.991Z"
   },
   {
    "duration": 691,
    "start_time": "2024-09-12T20:15:28.747Z"
   },
   {
    "duration": 14,
    "start_time": "2024-09-12T20:15:29.439Z"
   },
   {
    "duration": 26,
    "start_time": "2024-09-12T20:15:29.454Z"
   },
   {
    "duration": 14,
    "start_time": "2024-09-12T20:15:29.482Z"
   },
   {
    "duration": 7,
    "start_time": "2024-09-12T20:15:29.498Z"
   },
   {
    "duration": 76,
    "start_time": "2024-09-12T20:15:29.508Z"
   },
   {
    "duration": 11,
    "start_time": "2024-09-12T20:15:29.585Z"
   },
   {
    "duration": 14,
    "start_time": "2024-09-12T20:15:29.598Z"
   },
   {
    "duration": 13,
    "start_time": "2024-09-12T20:15:29.614Z"
   },
   {
    "duration": 6,
    "start_time": "2024-09-12T20:15:29.629Z"
   },
   {
    "duration": 96,
    "start_time": "2024-09-12T20:15:29.636Z"
   },
   {
    "duration": 13,
    "start_time": "2024-09-12T20:15:29.734Z"
   },
   {
    "duration": 27,
    "start_time": "2024-09-12T20:15:29.751Z"
   },
   {
    "duration": 14,
    "start_time": "2024-09-12T20:15:29.779Z"
   },
   {
    "duration": 7,
    "start_time": "2024-09-12T20:15:29.795Z"
   },
   {
    "duration": 109,
    "start_time": "2024-09-12T20:15:29.803Z"
   },
   {
    "duration": 163,
    "start_time": "2024-09-12T20:15:29.914Z"
   },
   {
    "duration": 145,
    "start_time": "2024-09-12T20:15:30.079Z"
   },
   {
    "duration": 11899,
    "start_time": "2024-09-12T20:15:30.226Z"
   },
   {
    "duration": 26256,
    "start_time": "2024-09-12T20:15:42.127Z"
   },
   {
    "duration": 186,
    "start_time": "2024-09-12T20:16:08.386Z"
   },
   {
    "duration": 8289,
    "start_time": "2024-09-12T20:16:08.575Z"
   },
   {
    "duration": 63,
    "start_time": "2024-09-12T20:16:16.866Z"
   },
   {
    "duration": 89,
    "start_time": "2024-09-12T20:16:16.931Z"
   },
   {
    "duration": 7470,
    "start_time": "2024-09-12T20:16:17.022Z"
   },
   {
    "duration": 11576,
    "start_time": "2024-09-12T20:16:24.494Z"
   },
   {
    "duration": 169,
    "start_time": "2024-09-12T20:16:36.072Z"
   },
   {
    "duration": 4885,
    "start_time": "2024-09-12T20:16:36.243Z"
   },
   {
    "duration": 223,
    "start_time": "2024-09-12T20:16:41.132Z"
   },
   {
    "duration": 161,
    "start_time": "2024-09-12T20:16:41.357Z"
   },
   {
    "duration": 12372,
    "start_time": "2024-09-12T20:16:41.520Z"
   },
   {
    "duration": 26235,
    "start_time": "2024-09-12T20:16:53.894Z"
   },
   {
    "duration": 207,
    "start_time": "2024-09-12T20:17:20.130Z"
   },
   {
    "duration": 8462,
    "start_time": "2024-09-12T20:17:20.339Z"
   },
   {
    "duration": 490,
    "start_time": "2024-09-12T20:17:28.804Z"
   },
   {
    "duration": 411,
    "start_time": "2024-09-12T20:17:29.296Z"
   },
   {
    "duration": 0,
    "start_time": "2024-09-12T20:17:29.709Z"
   },
   {
    "duration": 0,
    "start_time": "2024-09-12T20:17:29.711Z"
   },
   {
    "duration": 0,
    "start_time": "2024-09-12T20:17:29.712Z"
   },
   {
    "duration": 0,
    "start_time": "2024-09-12T20:17:29.714Z"
   },
   {
    "duration": 0,
    "start_time": "2024-09-12T20:17:29.715Z"
   },
   {
    "duration": 0,
    "start_time": "2024-09-12T20:17:29.717Z"
   },
   {
    "duration": 0,
    "start_time": "2024-09-12T20:17:29.718Z"
   },
   {
    "duration": 997,
    "start_time": "2024-09-12T20:21:41.313Z"
   },
   {
    "duration": 505,
    "start_time": "2024-09-12T20:21:42.312Z"
   },
   {
    "duration": 14,
    "start_time": "2024-09-12T20:21:42.818Z"
   },
   {
    "duration": 17,
    "start_time": "2024-09-12T20:21:42.834Z"
   },
   {
    "duration": 27,
    "start_time": "2024-09-12T20:21:42.853Z"
   },
   {
    "duration": 7,
    "start_time": "2024-09-12T20:21:42.882Z"
   },
   {
    "duration": 57,
    "start_time": "2024-09-12T20:21:42.890Z"
   },
   {
    "duration": 30,
    "start_time": "2024-09-12T20:21:42.949Z"
   },
   {
    "duration": 15,
    "start_time": "2024-09-12T20:21:42.980Z"
   },
   {
    "duration": 15,
    "start_time": "2024-09-12T20:21:42.997Z"
   },
   {
    "duration": 7,
    "start_time": "2024-09-12T20:21:43.014Z"
   },
   {
    "duration": 50,
    "start_time": "2024-09-12T20:21:43.022Z"
   },
   {
    "duration": 12,
    "start_time": "2024-09-12T20:21:43.074Z"
   },
   {
    "duration": 14,
    "start_time": "2024-09-12T20:21:43.090Z"
   },
   {
    "duration": 17,
    "start_time": "2024-09-12T20:21:43.106Z"
   },
   {
    "duration": 10,
    "start_time": "2024-09-12T20:21:43.125Z"
   },
   {
    "duration": 112,
    "start_time": "2024-09-12T20:21:43.140Z"
   },
   {
    "duration": 167,
    "start_time": "2024-09-12T20:21:43.254Z"
   },
   {
    "duration": 156,
    "start_time": "2024-09-12T20:21:43.423Z"
   },
   {
    "duration": 11917,
    "start_time": "2024-09-12T20:21:43.581Z"
   },
   {
    "duration": 26739,
    "start_time": "2024-09-12T20:21:55.500Z"
   },
   {
    "duration": 173,
    "start_time": "2024-09-12T20:22:22.240Z"
   },
   {
    "duration": 8255,
    "start_time": "2024-09-12T20:22:22.415Z"
   },
   {
    "duration": 55,
    "start_time": "2024-09-12T20:22:30.672Z"
   },
   {
    "duration": 89,
    "start_time": "2024-09-12T20:22:30.729Z"
   },
   {
    "duration": 7430,
    "start_time": "2024-09-12T20:22:30.820Z"
   },
   {
    "duration": 11957,
    "start_time": "2024-09-12T20:22:38.251Z"
   },
   {
    "duration": 160,
    "start_time": "2024-09-12T20:22:50.210Z"
   },
   {
    "duration": 4846,
    "start_time": "2024-09-12T20:22:50.372Z"
   },
   {
    "duration": 219,
    "start_time": "2024-09-12T20:22:55.220Z"
   },
   {
    "duration": 155,
    "start_time": "2024-09-12T20:22:55.440Z"
   },
   {
    "duration": 12649,
    "start_time": "2024-09-12T20:22:55.597Z"
   },
   {
    "duration": 26222,
    "start_time": "2024-09-12T20:23:08.248Z"
   },
   {
    "duration": 200,
    "start_time": "2024-09-12T20:23:34.472Z"
   },
   {
    "duration": 8440,
    "start_time": "2024-09-12T20:23:34.673Z"
   },
   {
    "duration": 514,
    "start_time": "2024-09-12T20:23:43.115Z"
   },
   {
    "duration": 78,
    "start_time": "2024-09-12T20:23:43.630Z"
   },
   {
    "duration": 412,
    "start_time": "2024-09-12T20:23:43.710Z"
   },
   {
    "duration": 0,
    "start_time": "2024-09-12T20:23:44.124Z"
   },
   {
    "duration": 0,
    "start_time": "2024-09-12T20:23:44.125Z"
   },
   {
    "duration": 0,
    "start_time": "2024-09-12T20:23:44.126Z"
   },
   {
    "duration": 0,
    "start_time": "2024-09-12T20:23:44.127Z"
   },
   {
    "duration": 0,
    "start_time": "2024-09-12T20:23:44.128Z"
   },
   {
    "duration": 0,
    "start_time": "2024-09-12T20:23:44.129Z"
   },
   {
    "duration": 0,
    "start_time": "2024-09-12T20:23:44.131Z"
   },
   {
    "duration": 2809,
    "start_time": "2024-09-16T23:11:47.476Z"
   },
   {
    "duration": 672,
    "start_time": "2024-09-16T23:11:50.287Z"
   },
   {
    "duration": 14,
    "start_time": "2024-09-16T23:11:50.961Z"
   },
   {
    "duration": 18,
    "start_time": "2024-09-16T23:11:50.978Z"
   },
   {
    "duration": 15,
    "start_time": "2024-09-16T23:11:50.997Z"
   },
   {
    "duration": 19,
    "start_time": "2024-09-16T23:11:51.014Z"
   },
   {
    "duration": 58,
    "start_time": "2024-09-16T23:11:51.035Z"
   },
   {
    "duration": 10,
    "start_time": "2024-09-16T23:11:51.095Z"
   },
   {
    "duration": 15,
    "start_time": "2024-09-16T23:11:51.130Z"
   },
   {
    "duration": 14,
    "start_time": "2024-09-16T23:11:51.149Z"
   },
   {
    "duration": 5,
    "start_time": "2024-09-16T23:11:51.164Z"
   },
   {
    "duration": 23,
    "start_time": "2024-09-16T23:11:51.171Z"
   },
   {
    "duration": 36,
    "start_time": "2024-09-16T23:11:51.196Z"
   },
   {
    "duration": 14,
    "start_time": "2024-09-16T23:11:51.234Z"
   },
   {
    "duration": 14,
    "start_time": "2024-09-16T23:11:51.250Z"
   },
   {
    "duration": 8,
    "start_time": "2024-09-16T23:11:51.265Z"
   },
   {
    "duration": 105,
    "start_time": "2024-09-16T23:11:51.275Z"
   },
   {
    "duration": 166,
    "start_time": "2024-09-16T23:11:51.382Z"
   },
   {
    "duration": 150,
    "start_time": "2024-09-16T23:11:51.550Z"
   },
   {
    "duration": 11993,
    "start_time": "2024-09-16T23:11:51.701Z"
   },
   {
    "duration": 26784,
    "start_time": "2024-09-16T23:12:03.696Z"
   },
   {
    "duration": 179,
    "start_time": "2024-09-16T23:12:30.482Z"
   },
   {
    "duration": 8459,
    "start_time": "2024-09-16T23:12:30.663Z"
   },
   {
    "duration": 59,
    "start_time": "2024-09-16T23:12:39.124Z"
   },
   {
    "duration": 87,
    "start_time": "2024-09-16T23:12:39.185Z"
   },
   {
    "duration": 7434,
    "start_time": "2024-09-16T23:12:39.274Z"
   },
   {
    "duration": 11835,
    "start_time": "2024-09-16T23:12:46.710Z"
   },
   {
    "duration": 160,
    "start_time": "2024-09-16T23:12:58.550Z"
   },
   {
    "duration": 4981,
    "start_time": "2024-09-16T23:12:58.712Z"
   },
   {
    "duration": 218,
    "start_time": "2024-09-16T23:13:03.694Z"
   },
   {
    "duration": 152,
    "start_time": "2024-09-16T23:13:03.914Z"
   },
   {
    "duration": 12479,
    "start_time": "2024-09-16T23:13:04.068Z"
   },
   {
    "duration": 27001,
    "start_time": "2024-09-16T23:13:16.549Z"
   },
   {
    "duration": 203,
    "start_time": "2024-09-16T23:13:43.552Z"
   },
   {
    "duration": 8676,
    "start_time": "2024-09-16T23:13:43.757Z"
   },
   {
    "duration": 597,
    "start_time": "2024-09-16T23:13:52.435Z"
   },
   {
    "duration": 358,
    "start_time": "2024-09-16T23:13:53.033Z"
   },
   {
    "duration": 0,
    "start_time": "2024-09-16T23:13:53.393Z"
   },
   {
    "duration": 0,
    "start_time": "2024-09-16T23:13:53.395Z"
   },
   {
    "duration": 0,
    "start_time": "2024-09-16T23:13:53.396Z"
   },
   {
    "duration": 0,
    "start_time": "2024-09-16T23:13:53.397Z"
   },
   {
    "duration": 0,
    "start_time": "2024-09-16T23:13:53.398Z"
   },
   {
    "duration": 0,
    "start_time": "2024-09-16T23:13:53.399Z"
   },
   {
    "duration": 0,
    "start_time": "2024-09-16T23:13:53.400Z"
   },
   {
    "duration": 58,
    "start_time": "2024-09-16T23:15:36.609Z"
   },
   {
    "duration": 2998,
    "start_time": "2024-09-30T21:32:07.645Z"
   },
   {
    "duration": 719,
    "start_time": "2024-09-30T21:32:10.646Z"
   },
   {
    "duration": 15,
    "start_time": "2024-09-30T21:32:11.368Z"
   },
   {
    "duration": 28,
    "start_time": "2024-09-30T21:32:11.385Z"
   },
   {
    "duration": 19,
    "start_time": "2024-09-30T21:32:11.415Z"
   },
   {
    "duration": 8,
    "start_time": "2024-09-30T21:32:11.436Z"
   },
   {
    "duration": 80,
    "start_time": "2024-09-30T21:32:11.447Z"
   },
   {
    "duration": 13,
    "start_time": "2024-09-30T21:32:11.528Z"
   },
   {
    "duration": 15,
    "start_time": "2024-09-30T21:32:11.544Z"
   },
   {
    "duration": 21,
    "start_time": "2024-09-30T21:32:11.561Z"
   },
   {
    "duration": 26,
    "start_time": "2024-09-30T21:32:11.584Z"
   },
   {
    "duration": 19,
    "start_time": "2024-09-30T21:32:11.613Z"
   },
   {
    "duration": 14,
    "start_time": "2024-09-30T21:32:11.633Z"
   },
   {
    "duration": 22,
    "start_time": "2024-09-30T21:32:11.651Z"
   },
   {
    "duration": 48,
    "start_time": "2024-09-30T21:32:11.674Z"
   },
   {
    "duration": 9,
    "start_time": "2024-09-30T21:32:11.724Z"
   },
   {
    "duration": 103,
    "start_time": "2024-09-30T21:32:11.734Z"
   },
   {
    "duration": 165,
    "start_time": "2024-09-30T21:32:11.839Z"
   },
   {
    "duration": 155,
    "start_time": "2024-09-30T21:32:12.006Z"
   },
   {
    "duration": 13420,
    "start_time": "2024-09-30T21:32:12.163Z"
   },
   {
    "duration": 27588,
    "start_time": "2024-09-30T21:32:25.585Z"
   },
   {
    "duration": 222,
    "start_time": "2024-09-30T21:32:53.175Z"
   },
   {
    "duration": 8749,
    "start_time": "2024-09-30T21:32:53.398Z"
   },
   {
    "duration": 66,
    "start_time": "2024-09-30T21:33:02.149Z"
   },
   {
    "duration": 76,
    "start_time": "2024-09-30T21:33:02.217Z"
   },
   {
    "duration": 7898,
    "start_time": "2024-09-30T21:33:02.295Z"
   },
   {
    "duration": 12031,
    "start_time": "2024-09-30T21:33:10.194Z"
   },
   {
    "duration": 223,
    "start_time": "2024-09-30T21:33:22.226Z"
   },
   {
    "duration": 5319,
    "start_time": "2024-09-30T21:33:22.451Z"
   },
   {
    "duration": 244,
    "start_time": "2024-09-30T21:33:27.772Z"
   },
   {
    "duration": 183,
    "start_time": "2024-09-30T21:33:28.020Z"
   },
   {
    "duration": 12894,
    "start_time": "2024-09-30T21:33:28.209Z"
   },
   {
    "duration": 27683,
    "start_time": "2024-09-30T21:33:41.105Z"
   },
   {
    "duration": 211,
    "start_time": "2024-09-30T21:34:08.790Z"
   },
   {
    "duration": 9273,
    "start_time": "2024-09-30T21:34:09.009Z"
   },
   {
    "duration": 496,
    "start_time": "2024-09-30T21:34:18.284Z"
   },
   {
    "duration": 0,
    "start_time": "2024-09-30T21:34:18.782Z"
   },
   {
    "duration": 0,
    "start_time": "2024-09-30T21:34:18.783Z"
   },
   {
    "duration": 13,
    "start_time": "2024-09-30T21:43:15.505Z"
   },
   {
    "duration": 11,
    "start_time": "2024-09-30T21:43:42.845Z"
   },
   {
    "duration": 15,
    "start_time": "2024-09-30T21:44:04.612Z"
   },
   {
    "duration": 1058,
    "start_time": "2024-09-30T21:45:30.875Z"
   },
   {
    "duration": 535,
    "start_time": "2024-09-30T21:45:31.936Z"
   },
   {
    "duration": 17,
    "start_time": "2024-09-30T21:45:32.473Z"
   },
   {
    "duration": 26,
    "start_time": "2024-09-30T21:45:32.492Z"
   },
   {
    "duration": 18,
    "start_time": "2024-09-30T21:45:32.520Z"
   },
   {
    "duration": 1084,
    "start_time": "2024-09-30T21:45:53.846Z"
   },
   {
    "duration": 529,
    "start_time": "2024-09-30T21:45:54.933Z"
   },
   {
    "duration": 20,
    "start_time": "2024-09-30T21:45:55.465Z"
   },
   {
    "duration": 25,
    "start_time": "2024-09-30T21:45:55.487Z"
   },
   {
    "duration": 14,
    "start_time": "2024-09-30T21:45:55.515Z"
   },
   {
    "duration": 21,
    "start_time": "2024-09-30T21:48:48.910Z"
   },
   {
    "duration": 1102,
    "start_time": "2024-09-30T21:50:04.368Z"
   },
   {
    "duration": 541,
    "start_time": "2024-09-30T21:50:05.472Z"
   },
   {
    "duration": 21,
    "start_time": "2024-09-30T21:50:06.015Z"
   },
   {
    "duration": 14,
    "start_time": "2024-09-30T21:50:06.038Z"
   },
   {
    "duration": 18,
    "start_time": "2024-09-30T21:50:06.055Z"
   },
   {
    "duration": 42,
    "start_time": "2024-09-30T21:50:06.074Z"
   },
   {
    "duration": 354,
    "start_time": "2024-09-30T21:50:06.118Z"
   },
   {
    "duration": 0,
    "start_time": "2024-09-30T21:50:06.474Z"
   },
   {
    "duration": 0,
    "start_time": "2024-09-30T21:50:06.475Z"
   },
   {
    "duration": 16,
    "start_time": "2024-09-30T21:51:21.464Z"
   },
   {
    "duration": 24,
    "start_time": "2024-09-30T21:51:59.155Z"
   },
   {
    "duration": 23,
    "start_time": "2024-09-30T21:52:09.206Z"
   },
   {
    "duration": 12,
    "start_time": "2024-09-30T21:52:17.747Z"
   },
   {
    "duration": 177,
    "start_time": "2024-10-01T16:17:55.144Z"
   },
   {
    "duration": 2901,
    "start_time": "2024-10-01T16:18:21.386Z"
   },
   {
    "duration": 808,
    "start_time": "2024-10-01T16:18:24.289Z"
   },
   {
    "duration": 23,
    "start_time": "2024-10-01T16:18:25.099Z"
   },
   {
    "duration": 16,
    "start_time": "2024-10-01T16:18:25.124Z"
   },
   {
    "duration": 45,
    "start_time": "2024-10-01T16:18:25.143Z"
   },
   {
    "duration": 21,
    "start_time": "2024-10-01T16:18:25.190Z"
   },
   {
    "duration": 13,
    "start_time": "2024-10-01T16:18:25.213Z"
   },
   {
    "duration": 3,
    "start_time": "2024-10-01T16:18:25.228Z"
   },
   {
    "duration": 239,
    "start_time": "2024-10-01T16:18:25.232Z"
   },
   {
    "duration": 5,
    "start_time": "2024-10-01T16:18:35.862Z"
   },
   {
    "duration": 1005,
    "start_time": "2024-10-01T16:23:56.575Z"
   },
   {
    "duration": 514,
    "start_time": "2024-10-01T16:23:57.582Z"
   },
   {
    "duration": 17,
    "start_time": "2024-10-01T16:23:58.098Z"
   },
   {
    "duration": 15,
    "start_time": "2024-10-01T16:23:58.116Z"
   },
   {
    "duration": 17,
    "start_time": "2024-10-01T16:23:58.134Z"
   },
   {
    "duration": 44,
    "start_time": "2024-10-01T16:23:58.153Z"
   },
   {
    "duration": 13,
    "start_time": "2024-10-01T16:23:58.199Z"
   },
   {
    "duration": 5,
    "start_time": "2024-10-01T16:23:58.214Z"
   },
   {
    "duration": 130,
    "start_time": "2024-10-01T16:23:58.221Z"
   },
   {
    "duration": 8,
    "start_time": "2024-10-01T16:25:35.993Z"
   },
   {
    "duration": 994,
    "start_time": "2024-10-01T16:31:43.388Z"
   },
   {
    "duration": 482,
    "start_time": "2024-10-01T16:31:44.387Z"
   },
   {
    "duration": 20,
    "start_time": "2024-10-01T16:31:44.870Z"
   },
   {
    "duration": 10,
    "start_time": "2024-10-01T16:31:44.892Z"
   },
   {
    "duration": 14,
    "start_time": "2024-10-01T16:31:44.905Z"
   },
   {
    "duration": 15,
    "start_time": "2024-10-01T16:31:44.921Z"
   },
   {
    "duration": 11,
    "start_time": "2024-10-01T16:31:44.938Z"
   },
   {
    "duration": 37,
    "start_time": "2024-10-01T16:31:44.951Z"
   },
   {
    "duration": 123,
    "start_time": "2024-10-01T16:31:44.990Z"
   },
   {
    "duration": 20,
    "start_time": "2024-10-01T16:31:45.115Z"
   },
   {
    "duration": 20,
    "start_time": "2024-10-01T16:31:54.917Z"
   },
   {
    "duration": 228,
    "start_time": "2024-10-01T16:32:09.614Z"
   },
   {
    "duration": 215,
    "start_time": "2024-10-01T16:32:17.643Z"
   },
   {
    "duration": 1085,
    "start_time": "2024-10-01T16:33:03.111Z"
   },
   {
    "duration": 500,
    "start_time": "2024-10-01T16:33:04.198Z"
   },
   {
    "duration": 15,
    "start_time": "2024-10-01T16:33:04.700Z"
   },
   {
    "duration": 12,
    "start_time": "2024-10-01T16:33:04.717Z"
   },
   {
    "duration": 14,
    "start_time": "2024-10-01T16:33:04.732Z"
   },
   {
    "duration": 43,
    "start_time": "2024-10-01T16:33:04.748Z"
   },
   {
    "duration": 12,
    "start_time": "2024-10-01T16:33:04.793Z"
   },
   {
    "duration": 5,
    "start_time": "2024-10-01T16:33:04.807Z"
   },
   {
    "duration": 126,
    "start_time": "2024-10-01T16:33:04.813Z"
   },
   {
    "duration": 22,
    "start_time": "2024-10-01T16:33:04.941Z"
   },
   {
    "duration": 239,
    "start_time": "2024-10-01T16:33:04.964Z"
   },
   {
    "duration": 148,
    "start_time": "2024-10-01T16:33:05.205Z"
   },
   {
    "duration": 3,
    "start_time": "2024-10-01T16:33:24.762Z"
   },
   {
    "duration": 1001,
    "start_time": "2024-10-01T16:34:09.468Z"
   },
   {
    "duration": 501,
    "start_time": "2024-10-01T16:34:10.472Z"
   },
   {
    "duration": 25,
    "start_time": "2024-10-01T16:34:10.974Z"
   },
   {
    "duration": 12,
    "start_time": "2024-10-01T16:34:11.001Z"
   },
   {
    "duration": 15,
    "start_time": "2024-10-01T16:34:11.015Z"
   },
   {
    "duration": 15,
    "start_time": "2024-10-01T16:34:11.032Z"
   },
   {
    "duration": 45,
    "start_time": "2024-10-01T16:34:11.048Z"
   },
   {
    "duration": 5,
    "start_time": "2024-10-01T16:34:11.095Z"
   },
   {
    "duration": 119,
    "start_time": "2024-10-01T16:34:11.102Z"
   },
   {
    "duration": 22,
    "start_time": "2024-10-01T16:34:11.223Z"
   },
   {
    "duration": 224,
    "start_time": "2024-10-01T16:34:11.247Z"
   },
   {
    "duration": 138,
    "start_time": "2024-10-01T16:34:11.473Z"
   },
   {
    "duration": 3,
    "start_time": "2024-10-01T16:34:11.613Z"
   },
   {
    "duration": 1004,
    "start_time": "2024-10-01T16:34:35.481Z"
   },
   {
    "duration": 527,
    "start_time": "2024-10-01T16:34:36.487Z"
   },
   {
    "duration": 19,
    "start_time": "2024-10-01T16:34:37.016Z"
   },
   {
    "duration": 52,
    "start_time": "2024-10-01T16:34:37.036Z"
   },
   {
    "duration": 16,
    "start_time": "2024-10-01T16:34:37.091Z"
   },
   {
    "duration": 18,
    "start_time": "2024-10-01T16:34:37.109Z"
   },
   {
    "duration": 11,
    "start_time": "2024-10-01T16:34:37.129Z"
   },
   {
    "duration": 6,
    "start_time": "2024-10-01T16:34:37.142Z"
   },
   {
    "duration": 151,
    "start_time": "2024-10-01T16:34:37.149Z"
   },
   {
    "duration": 23,
    "start_time": "2024-10-01T16:34:37.302Z"
   },
   {
    "duration": 233,
    "start_time": "2024-10-01T16:34:37.327Z"
   },
   {
    "duration": 138,
    "start_time": "2024-10-01T16:34:37.561Z"
   },
   {
    "duration": 3,
    "start_time": "2024-10-01T16:34:37.701Z"
   },
   {
    "duration": 913,
    "start_time": "2024-10-01T16:34:59.293Z"
   },
   {
    "duration": 487,
    "start_time": "2024-10-01T16:35:00.209Z"
   },
   {
    "duration": 66,
    "start_time": "2024-10-01T16:35:00.697Z"
   },
   {
    "duration": 23,
    "start_time": "2024-10-01T16:35:00.765Z"
   },
   {
    "duration": 16,
    "start_time": "2024-10-01T16:35:00.790Z"
   },
   {
    "duration": 14,
    "start_time": "2024-10-01T16:35:00.808Z"
   },
   {
    "duration": 12,
    "start_time": "2024-10-01T16:35:00.824Z"
   },
   {
    "duration": 5,
    "start_time": "2024-10-01T16:35:00.837Z"
   },
   {
    "duration": 145,
    "start_time": "2024-10-01T16:35:00.843Z"
   },
   {
    "duration": 23,
    "start_time": "2024-10-01T16:35:00.990Z"
   },
   {
    "duration": 245,
    "start_time": "2024-10-01T16:35:01.015Z"
   },
   {
    "duration": 132,
    "start_time": "2024-10-01T16:35:01.262Z"
   },
   {
    "duration": 3,
    "start_time": "2024-10-01T16:35:01.396Z"
   },
   {
    "duration": 906,
    "start_time": "2024-10-01T16:35:29.008Z"
   },
   {
    "duration": 481,
    "start_time": "2024-10-01T16:35:29.917Z"
   },
   {
    "duration": 74,
    "start_time": "2024-10-01T16:35:30.400Z"
   },
   {
    "duration": 20,
    "start_time": "2024-10-01T16:35:30.476Z"
   },
   {
    "duration": 14,
    "start_time": "2024-10-01T16:35:30.499Z"
   },
   {
    "duration": 14,
    "start_time": "2024-10-01T16:35:30.515Z"
   },
   {
    "duration": 13,
    "start_time": "2024-10-01T16:35:30.531Z"
   },
   {
    "duration": 8,
    "start_time": "2024-10-01T16:35:30.546Z"
   },
   {
    "duration": 110,
    "start_time": "2024-10-01T16:35:30.588Z"
   },
   {
    "duration": 23,
    "start_time": "2024-10-01T16:35:30.700Z"
   },
   {
    "duration": 229,
    "start_time": "2024-10-01T16:35:30.724Z"
   },
   {
    "duration": 139,
    "start_time": "2024-10-01T16:35:30.955Z"
   },
   {
    "duration": 3,
    "start_time": "2024-10-01T16:35:31.096Z"
   },
   {
    "duration": 902,
    "start_time": "2024-10-01T16:35:39.524Z"
   },
   {
    "duration": 492,
    "start_time": "2024-10-01T16:35:40.429Z"
   },
   {
    "duration": 73,
    "start_time": "2024-10-01T16:35:40.922Z"
   },
   {
    "duration": 11,
    "start_time": "2024-10-01T16:35:40.996Z"
   },
   {
    "duration": 14,
    "start_time": "2024-10-01T16:35:41.009Z"
   },
   {
    "duration": 16,
    "start_time": "2024-10-01T16:35:41.024Z"
   },
   {
    "duration": 12,
    "start_time": "2024-10-01T16:35:41.041Z"
   },
   {
    "duration": 35,
    "start_time": "2024-10-01T16:35:41.055Z"
   },
   {
    "duration": 121,
    "start_time": "2024-10-01T16:35:41.091Z"
   },
   {
    "duration": 22,
    "start_time": "2024-10-01T16:35:41.215Z"
   },
   {
    "duration": 222,
    "start_time": "2024-10-01T16:35:41.239Z"
   },
   {
    "duration": 137,
    "start_time": "2024-10-01T16:35:41.463Z"
   },
   {
    "duration": 2,
    "start_time": "2024-10-01T16:35:41.602Z"
   },
   {
    "duration": 939,
    "start_time": "2024-10-01T16:36:04.120Z"
   },
   {
    "duration": 491,
    "start_time": "2024-10-01T16:36:05.062Z"
   },
   {
    "duration": 74,
    "start_time": "2024-10-01T16:36:05.555Z"
   },
   {
    "duration": 11,
    "start_time": "2024-10-01T16:36:05.631Z"
   },
   {
    "duration": 14,
    "start_time": "2024-10-01T16:36:05.645Z"
   },
   {
    "duration": 36,
    "start_time": "2024-10-01T16:36:05.661Z"
   },
   {
    "duration": 12,
    "start_time": "2024-10-01T16:36:05.698Z"
   },
   {
    "duration": 5,
    "start_time": "2024-10-01T16:36:05.712Z"
   },
   {
    "duration": 137,
    "start_time": "2024-10-01T16:36:05.719Z"
   },
   {
    "duration": 22,
    "start_time": "2024-10-01T16:36:05.858Z"
   },
   {
    "duration": 223,
    "start_time": "2024-10-01T16:36:05.882Z"
   },
   {
    "duration": 136,
    "start_time": "2024-10-01T16:36:06.107Z"
   },
   {
    "duration": 3,
    "start_time": "2024-10-01T16:36:06.245Z"
   },
   {
    "duration": 3823,
    "start_time": "2024-10-01T16:36:06.251Z"
   },
   {
    "duration": 111,
    "start_time": "2024-10-01T16:40:59.933Z"
   },
   {
    "duration": 1044,
    "start_time": "2024-10-01T16:41:05.936Z"
   },
   {
    "duration": 497,
    "start_time": "2024-10-01T16:41:06.983Z"
   },
   {
    "duration": 19,
    "start_time": "2024-10-01T16:41:07.482Z"
   },
   {
    "duration": 11,
    "start_time": "2024-10-01T16:41:07.504Z"
   },
   {
    "duration": 14,
    "start_time": "2024-10-01T16:41:07.516Z"
   },
   {
    "duration": 15,
    "start_time": "2024-10-01T16:41:07.532Z"
   },
   {
    "duration": 44,
    "start_time": "2024-10-01T16:41:07.549Z"
   },
   {
    "duration": 5,
    "start_time": "2024-10-01T16:41:07.594Z"
   },
   {
    "duration": 119,
    "start_time": "2024-10-01T16:41:07.601Z"
   },
   {
    "duration": 22,
    "start_time": "2024-10-01T16:41:07.722Z"
   },
   {
    "duration": 613,
    "start_time": "2024-10-01T16:41:07.746Z"
   },
   {
    "duration": 206,
    "start_time": "2024-10-01T16:41:08.361Z"
   },
   {
    "duration": 133,
    "start_time": "2024-10-01T16:41:08.570Z"
   },
   {
    "duration": 563,
    "start_time": "2024-10-01T16:43:22.341Z"
   },
   {
    "duration": 720,
    "start_time": "2024-10-01T16:43:55.788Z"
   },
   {
    "duration": 596,
    "start_time": "2024-10-01T16:44:09.841Z"
   },
   {
    "duration": 1081,
    "start_time": "2024-10-01T16:50:38.395Z"
   },
   {
    "duration": 497,
    "start_time": "2024-10-01T16:50:39.478Z"
   },
   {
    "duration": 17,
    "start_time": "2024-10-01T16:50:39.977Z"
   },
   {
    "duration": 11,
    "start_time": "2024-10-01T16:50:39.996Z"
   },
   {
    "duration": 13,
    "start_time": "2024-10-01T16:50:40.010Z"
   },
   {
    "duration": 15,
    "start_time": "2024-10-01T16:50:40.025Z"
   },
   {
    "duration": 47,
    "start_time": "2024-10-01T16:50:40.041Z"
   },
   {
    "duration": 5,
    "start_time": "2024-10-01T16:50:40.090Z"
   },
   {
    "duration": 124,
    "start_time": "2024-10-01T16:50:40.097Z"
   },
   {
    "duration": 22,
    "start_time": "2024-10-01T16:50:40.223Z"
   },
   {
    "duration": 612,
    "start_time": "2024-10-01T16:50:40.247Z"
   },
   {
    "duration": 549,
    "start_time": "2024-10-01T16:50:40.861Z"
   },
   {
    "duration": 629,
    "start_time": "2024-10-01T16:50:41.412Z"
   },
   {
    "duration": 217,
    "start_time": "2024-10-01T16:50:42.044Z"
   },
   {
    "duration": 5,
    "start_time": "2024-10-01T16:50:42.263Z"
   },
   {
    "duration": 320,
    "start_time": "2024-10-01T16:50:42.270Z"
   },
   {
    "duration": 0,
    "start_time": "2024-10-01T16:50:42.592Z"
   },
   {
    "duration": 1080,
    "start_time": "2024-10-01T16:51:01.598Z"
   },
   {
    "duration": 549,
    "start_time": "2024-10-01T16:51:02.681Z"
   },
   {
    "duration": 17,
    "start_time": "2024-10-01T16:51:03.231Z"
   },
   {
    "duration": 13,
    "start_time": "2024-10-01T16:51:03.250Z"
   },
   {
    "duration": 34,
    "start_time": "2024-10-01T16:51:03.265Z"
   },
   {
    "duration": 15,
    "start_time": "2024-10-01T16:51:03.301Z"
   },
   {
    "duration": 11,
    "start_time": "2024-10-01T16:51:03.318Z"
   },
   {
    "duration": 5,
    "start_time": "2024-10-01T16:51:03.331Z"
   },
   {
    "duration": 142,
    "start_time": "2024-10-01T16:51:03.338Z"
   },
   {
    "duration": 26,
    "start_time": "2024-10-01T16:51:03.482Z"
   },
   {
    "duration": 649,
    "start_time": "2024-10-01T16:51:03.510Z"
   },
   {
    "duration": 569,
    "start_time": "2024-10-01T16:51:04.161Z"
   },
   {
    "duration": 584,
    "start_time": "2024-10-01T16:51:04.732Z"
   },
   {
    "duration": 216,
    "start_time": "2024-10-01T16:51:05.319Z"
   },
   {
    "duration": 6,
    "start_time": "2024-10-01T16:51:05.537Z"
   },
   {
    "duration": 937,
    "start_time": "2024-10-01T16:51:05.544Z"
   },
   {
    "duration": 12,
    "start_time": "2024-10-01T16:51:06.486Z"
   },
   {
    "duration": 4,
    "start_time": "2024-10-01T16:53:52.496Z"
   },
   {
    "duration": 10,
    "start_time": "2024-10-01T16:55:13.500Z"
   },
   {
    "duration": 232,
    "start_time": "2024-10-01T16:56:42.524Z"
   },
   {
    "duration": 1049,
    "start_time": "2024-10-01T16:58:24.733Z"
   },
   {
    "duration": 526,
    "start_time": "2024-10-01T16:58:25.784Z"
   },
   {
    "duration": 17,
    "start_time": "2024-10-01T16:58:26.311Z"
   },
   {
    "duration": 12,
    "start_time": "2024-10-01T16:58:26.329Z"
   },
   {
    "duration": 14,
    "start_time": "2024-10-01T16:58:26.343Z"
   },
   {
    "duration": 38,
    "start_time": "2024-10-01T16:58:26.359Z"
   },
   {
    "duration": 11,
    "start_time": "2024-10-01T16:58:26.399Z"
   },
   {
    "duration": 5,
    "start_time": "2024-10-01T16:58:26.412Z"
   },
   {
    "duration": 129,
    "start_time": "2024-10-01T16:58:26.418Z"
   },
   {
    "duration": 23,
    "start_time": "2024-10-01T16:58:26.548Z"
   },
   {
    "duration": 660,
    "start_time": "2024-10-01T16:58:26.572Z"
   },
   {
    "duration": 583,
    "start_time": "2024-10-01T16:58:27.234Z"
   },
   {
    "duration": 616,
    "start_time": "2024-10-01T16:58:27.820Z"
   },
   {
    "duration": 215,
    "start_time": "2024-10-01T16:58:28.439Z"
   },
   {
    "duration": 7,
    "start_time": "2024-10-01T16:58:28.656Z"
   },
   {
    "duration": 976,
    "start_time": "2024-10-01T16:58:28.664Z"
   },
   {
    "duration": 13,
    "start_time": "2024-10-01T16:58:29.642Z"
   },
   {
    "duration": 4,
    "start_time": "2024-10-01T16:58:29.657Z"
   },
   {
    "duration": 4017,
    "start_time": "2024-10-01T16:58:29.663Z"
   },
   {
    "duration": 1047,
    "start_time": "2024-10-01T16:59:40.136Z"
   },
   {
    "duration": 499,
    "start_time": "2024-10-01T16:59:41.185Z"
   },
   {
    "duration": 16,
    "start_time": "2024-10-01T16:59:41.686Z"
   },
   {
    "duration": 11,
    "start_time": "2024-10-01T16:59:41.704Z"
   },
   {
    "duration": 14,
    "start_time": "2024-10-01T16:59:41.718Z"
   },
   {
    "duration": 14,
    "start_time": "2024-10-01T16:59:41.734Z"
   },
   {
    "duration": 44,
    "start_time": "2024-10-01T16:59:41.750Z"
   },
   {
    "duration": 6,
    "start_time": "2024-10-01T16:59:41.796Z"
   },
   {
    "duration": 120,
    "start_time": "2024-10-01T16:59:41.804Z"
   },
   {
    "duration": 22,
    "start_time": "2024-10-01T16:59:41.926Z"
   },
   {
    "duration": 610,
    "start_time": "2024-10-01T16:59:41.949Z"
   },
   {
    "duration": 608,
    "start_time": "2024-10-01T16:59:42.562Z"
   },
   {
    "duration": 658,
    "start_time": "2024-10-01T16:59:43.172Z"
   },
   {
    "duration": 219,
    "start_time": "2024-10-01T16:59:43.833Z"
   },
   {
    "duration": 10,
    "start_time": "2024-10-01T16:59:44.055Z"
   },
   {
    "duration": 916,
    "start_time": "2024-10-01T16:59:44.067Z"
   },
   {
    "duration": 14,
    "start_time": "2024-10-01T16:59:44.985Z"
   },
   {
    "duration": 3,
    "start_time": "2024-10-01T16:59:45.001Z"
   },
   {
    "duration": 3985,
    "start_time": "2024-10-01T16:59:45.006Z"
   },
   {
    "duration": 1130,
    "start_time": "2024-10-01T17:23:17.582Z"
   },
   {
    "duration": 613,
    "start_time": "2024-10-01T17:23:18.715Z"
   },
   {
    "duration": 17,
    "start_time": "2024-10-01T17:23:19.330Z"
   },
   {
    "duration": 12,
    "start_time": "2024-10-01T17:23:19.351Z"
   },
   {
    "duration": 38,
    "start_time": "2024-10-01T17:23:19.365Z"
   },
   {
    "duration": 20,
    "start_time": "2024-10-01T17:23:19.405Z"
   },
   {
    "duration": 11,
    "start_time": "2024-10-01T17:23:19.427Z"
   },
   {
    "duration": 5,
    "start_time": "2024-10-01T17:23:19.440Z"
   },
   {
    "duration": 151,
    "start_time": "2024-10-01T17:23:19.446Z"
   },
   {
    "duration": 22,
    "start_time": "2024-10-01T17:23:19.601Z"
   },
   {
    "duration": 663,
    "start_time": "2024-10-01T17:23:19.625Z"
   },
   {
    "duration": 633,
    "start_time": "2024-10-01T17:23:20.291Z"
   },
   {
    "duration": 644,
    "start_time": "2024-10-01T17:23:20.926Z"
   },
   {
    "duration": 214,
    "start_time": "2024-10-01T17:23:21.572Z"
   },
   {
    "duration": 6,
    "start_time": "2024-10-01T17:23:21.788Z"
   },
   {
    "duration": 971,
    "start_time": "2024-10-01T17:23:21.796Z"
   },
   {
    "duration": 25,
    "start_time": "2024-10-01T17:23:22.769Z"
   },
   {
    "duration": 3,
    "start_time": "2024-10-01T17:23:22.796Z"
   },
   {
    "duration": 4026,
    "start_time": "2024-10-01T17:23:22.801Z"
   },
   {
    "duration": 4,
    "start_time": "2024-10-01T17:23:26.829Z"
   },
   {
    "duration": 252,
    "start_time": "2024-10-01T17:23:26.836Z"
   },
   {
    "duration": 1095,
    "start_time": "2024-10-01T17:24:08.417Z"
   },
   {
    "duration": 517,
    "start_time": "2024-10-01T17:24:09.514Z"
   },
   {
    "duration": 16,
    "start_time": "2024-10-01T17:24:10.033Z"
   },
   {
    "duration": 11,
    "start_time": "2024-10-01T17:24:10.052Z"
   },
   {
    "duration": 34,
    "start_time": "2024-10-01T17:24:10.065Z"
   },
   {
    "duration": 14,
    "start_time": "2024-10-01T17:24:10.101Z"
   },
   {
    "duration": 11,
    "start_time": "2024-10-01T17:24:10.117Z"
   },
   {
    "duration": 4,
    "start_time": "2024-10-01T17:24:10.130Z"
   },
   {
    "duration": 133,
    "start_time": "2024-10-01T17:24:10.136Z"
   },
   {
    "duration": 29,
    "start_time": "2024-10-01T17:24:10.272Z"
   },
   {
    "duration": 636,
    "start_time": "2024-10-01T17:24:10.303Z"
   },
   {
    "duration": 596,
    "start_time": "2024-10-01T17:24:10.941Z"
   },
   {
    "duration": 578,
    "start_time": "2024-10-01T17:24:11.539Z"
   },
   {
    "duration": 213,
    "start_time": "2024-10-01T17:24:12.119Z"
   },
   {
    "duration": 6,
    "start_time": "2024-10-01T17:24:12.334Z"
   },
   {
    "duration": 946,
    "start_time": "2024-10-01T17:24:12.341Z"
   },
   {
    "duration": 13,
    "start_time": "2024-10-01T17:24:13.288Z"
   },
   {
    "duration": 5,
    "start_time": "2024-10-01T17:24:13.303Z"
   },
   {
    "duration": 3887,
    "start_time": "2024-10-01T17:24:13.309Z"
   },
   {
    "duration": 5,
    "start_time": "2024-10-01T17:24:17.199Z"
   },
   {
    "duration": 23871,
    "start_time": "2024-10-01T17:24:17.205Z"
   },
   {
    "duration": 1017,
    "start_time": "2024-10-01T17:26:14.982Z"
   },
   {
    "duration": 505,
    "start_time": "2024-10-01T17:26:16.002Z"
   },
   {
    "duration": 16,
    "start_time": "2024-10-01T17:26:16.508Z"
   },
   {
    "duration": 11,
    "start_time": "2024-10-01T17:26:16.526Z"
   },
   {
    "duration": 14,
    "start_time": "2024-10-01T17:26:16.540Z"
   },
   {
    "duration": 38,
    "start_time": "2024-10-01T17:26:16.556Z"
   },
   {
    "duration": 12,
    "start_time": "2024-10-01T17:26:16.596Z"
   },
   {
    "duration": 5,
    "start_time": "2024-10-01T17:26:16.609Z"
   },
   {
    "duration": 130,
    "start_time": "2024-10-01T17:26:16.616Z"
   },
   {
    "duration": 22,
    "start_time": "2024-10-01T17:26:16.748Z"
   },
   {
    "duration": 643,
    "start_time": "2024-10-01T17:26:16.772Z"
   },
   {
    "duration": 612,
    "start_time": "2024-10-01T17:26:17.417Z"
   },
   {
    "duration": 584,
    "start_time": "2024-10-01T17:26:18.032Z"
   },
   {
    "duration": 214,
    "start_time": "2024-10-01T17:26:18.619Z"
   },
   {
    "duration": 6,
    "start_time": "2024-10-01T17:26:18.835Z"
   },
   {
    "duration": 926,
    "start_time": "2024-10-01T17:26:18.843Z"
   },
   {
    "duration": 21,
    "start_time": "2024-10-01T17:26:19.772Z"
   },
   {
    "duration": 4,
    "start_time": "2024-10-01T17:26:19.795Z"
   },
   {
    "duration": 251,
    "start_time": "2024-10-01T17:26:19.801Z"
   },
   {
    "duration": 0,
    "start_time": "2024-10-01T17:26:20.054Z"
   },
   {
    "duration": 0,
    "start_time": "2024-10-01T17:26:20.055Z"
   },
   {
    "duration": 1018,
    "start_time": "2024-10-01T17:27:56.988Z"
   },
   {
    "duration": 509,
    "start_time": "2024-10-01T17:27:58.008Z"
   },
   {
    "duration": 18,
    "start_time": "2024-10-01T17:27:58.518Z"
   },
   {
    "duration": 11,
    "start_time": "2024-10-01T17:27:58.538Z"
   },
   {
    "duration": 35,
    "start_time": "2024-10-01T17:27:58.552Z"
   },
   {
    "duration": 14,
    "start_time": "2024-10-01T17:27:58.589Z"
   },
   {
    "duration": 11,
    "start_time": "2024-10-01T17:27:58.605Z"
   },
   {
    "duration": 5,
    "start_time": "2024-10-01T17:27:58.618Z"
   },
   {
    "duration": 131,
    "start_time": "2024-10-01T17:27:58.625Z"
   },
   {
    "duration": 31,
    "start_time": "2024-10-01T17:27:58.758Z"
   },
   {
    "duration": 656,
    "start_time": "2024-10-01T17:27:58.791Z"
   },
   {
    "duration": 564,
    "start_time": "2024-10-01T17:27:59.449Z"
   },
   {
    "duration": 617,
    "start_time": "2024-10-01T17:28:00.015Z"
   },
   {
    "duration": 214,
    "start_time": "2024-10-01T17:28:00.635Z"
   },
   {
    "duration": 8,
    "start_time": "2024-10-01T17:28:00.851Z"
   },
   {
    "duration": 932,
    "start_time": "2024-10-01T17:28:00.860Z"
   },
   {
    "duration": 13,
    "start_time": "2024-10-01T17:28:01.794Z"
   },
   {
    "duration": 4,
    "start_time": "2024-10-01T17:28:01.808Z"
   },
   {
    "duration": 258,
    "start_time": "2024-10-01T17:28:01.813Z"
   },
   {
    "duration": 0,
    "start_time": "2024-10-01T17:28:02.073Z"
   },
   {
    "duration": 0,
    "start_time": "2024-10-01T17:28:02.074Z"
   },
   {
    "duration": 1008,
    "start_time": "2024-10-01T17:28:18.281Z"
   },
   {
    "duration": 533,
    "start_time": "2024-10-01T17:28:19.292Z"
   },
   {
    "duration": 16,
    "start_time": "2024-10-01T17:28:19.827Z"
   },
   {
    "duration": 11,
    "start_time": "2024-10-01T17:28:19.845Z"
   },
   {
    "duration": 31,
    "start_time": "2024-10-01T17:28:19.859Z"
   },
   {
    "duration": 15,
    "start_time": "2024-10-01T17:28:19.892Z"
   },
   {
    "duration": 12,
    "start_time": "2024-10-01T17:28:19.909Z"
   },
   {
    "duration": 5,
    "start_time": "2024-10-01T17:28:19.923Z"
   },
   {
    "duration": 145,
    "start_time": "2024-10-01T17:28:19.929Z"
   },
   {
    "duration": 30,
    "start_time": "2024-10-01T17:28:20.077Z"
   },
   {
    "duration": 639,
    "start_time": "2024-10-01T17:28:20.108Z"
   },
   {
    "duration": 590,
    "start_time": "2024-10-01T17:28:20.750Z"
   },
   {
    "duration": 581,
    "start_time": "2024-10-01T17:28:21.342Z"
   },
   {
    "duration": 213,
    "start_time": "2024-10-01T17:28:21.927Z"
   },
   {
    "duration": 7,
    "start_time": "2024-10-01T17:28:22.142Z"
   },
   {
    "duration": 937,
    "start_time": "2024-10-01T17:28:22.150Z"
   },
   {
    "duration": 13,
    "start_time": "2024-10-01T17:28:23.089Z"
   },
   {
    "duration": 4,
    "start_time": "2024-10-01T17:28:23.104Z"
   },
   {
    "duration": 295,
    "start_time": "2024-10-01T17:28:23.109Z"
   },
   {
    "duration": 0,
    "start_time": "2024-10-01T17:28:23.406Z"
   },
   {
    "duration": 0,
    "start_time": "2024-10-01T17:28:23.407Z"
   },
   {
    "duration": 1054,
    "start_time": "2024-10-01T17:28:43.122Z"
   },
   {
    "duration": 506,
    "start_time": "2024-10-01T17:28:44.179Z"
   },
   {
    "duration": 16,
    "start_time": "2024-10-01T17:28:44.687Z"
   },
   {
    "duration": 11,
    "start_time": "2024-10-01T17:28:44.705Z"
   },
   {
    "duration": 14,
    "start_time": "2024-10-01T17:28:44.719Z"
   },
   {
    "duration": 14,
    "start_time": "2024-10-01T17:28:44.734Z"
   },
   {
    "duration": 43,
    "start_time": "2024-10-01T17:28:44.750Z"
   },
   {
    "duration": 5,
    "start_time": "2024-10-01T17:28:44.795Z"
   },
   {
    "duration": 127,
    "start_time": "2024-10-01T17:28:44.802Z"
   },
   {
    "duration": 23,
    "start_time": "2024-10-01T17:28:44.931Z"
   },
   {
    "duration": 639,
    "start_time": "2024-10-01T17:28:44.956Z"
   },
   {
    "duration": 610,
    "start_time": "2024-10-01T17:28:45.597Z"
   },
   {
    "duration": 616,
    "start_time": "2024-10-01T17:28:46.209Z"
   },
   {
    "duration": 221,
    "start_time": "2024-10-01T17:28:46.828Z"
   },
   {
    "duration": 7,
    "start_time": "2024-10-01T17:28:47.051Z"
   },
   {
    "duration": 939,
    "start_time": "2024-10-01T17:28:47.060Z"
   },
   {
    "duration": 13,
    "start_time": "2024-10-01T17:28:48.001Z"
   },
   {
    "duration": 4,
    "start_time": "2024-10-01T17:28:48.016Z"
   },
   {
    "duration": 253,
    "start_time": "2024-10-01T17:28:48.022Z"
   },
   {
    "duration": 0,
    "start_time": "2024-10-01T17:28:48.277Z"
   },
   {
    "duration": 1020,
    "start_time": "2024-10-01T17:29:46.157Z"
   },
   {
    "duration": 507,
    "start_time": "2024-10-01T17:29:47.180Z"
   },
   {
    "duration": 15,
    "start_time": "2024-10-01T17:29:47.689Z"
   },
   {
    "duration": 11,
    "start_time": "2024-10-01T17:29:47.706Z"
   },
   {
    "duration": 15,
    "start_time": "2024-10-01T17:29:47.719Z"
   },
   {
    "duration": 15,
    "start_time": "2024-10-01T17:29:47.735Z"
   },
   {
    "duration": 40,
    "start_time": "2024-10-01T17:29:47.752Z"
   },
   {
    "duration": 4,
    "start_time": "2024-10-01T17:29:47.794Z"
   },
   {
    "duration": 125,
    "start_time": "2024-10-01T17:29:47.800Z"
   },
   {
    "duration": 22,
    "start_time": "2024-10-01T17:29:47.927Z"
   },
   {
    "duration": 644,
    "start_time": "2024-10-01T17:29:47.951Z"
   },
   {
    "duration": 606,
    "start_time": "2024-10-01T17:29:48.597Z"
   },
   {
    "duration": 620,
    "start_time": "2024-10-01T17:29:49.205Z"
   },
   {
    "duration": 212,
    "start_time": "2024-10-01T17:29:49.829Z"
   },
   {
    "duration": 6,
    "start_time": "2024-10-01T17:29:50.043Z"
   },
   {
    "duration": 937,
    "start_time": "2024-10-01T17:29:50.051Z"
   },
   {
    "duration": 13,
    "start_time": "2024-10-01T17:29:50.991Z"
   },
   {
    "duration": 4,
    "start_time": "2024-10-01T17:29:51.005Z"
   },
   {
    "duration": 4013,
    "start_time": "2024-10-01T17:29:51.010Z"
   },
   {
    "duration": 984,
    "start_time": "2024-10-01T17:30:35.288Z"
   },
   {
    "duration": 511,
    "start_time": "2024-10-01T17:30:36.275Z"
   },
   {
    "duration": 16,
    "start_time": "2024-10-01T17:30:36.787Z"
   },
   {
    "duration": 11,
    "start_time": "2024-10-01T17:30:36.804Z"
   },
   {
    "duration": 13,
    "start_time": "2024-10-01T17:30:36.819Z"
   },
   {
    "duration": 14,
    "start_time": "2024-10-01T17:30:36.834Z"
   },
   {
    "duration": 46,
    "start_time": "2024-10-01T17:30:36.850Z"
   },
   {
    "duration": 6,
    "start_time": "2024-10-01T17:30:36.898Z"
   },
   {
    "duration": 132,
    "start_time": "2024-10-01T17:30:36.906Z"
   },
   {
    "duration": 23,
    "start_time": "2024-10-01T17:30:37.040Z"
   },
   {
    "duration": 594,
    "start_time": "2024-10-01T17:30:37.065Z"
   },
   {
    "duration": 585,
    "start_time": "2024-10-01T17:30:37.661Z"
   },
   {
    "duration": 587,
    "start_time": "2024-10-01T17:30:38.248Z"
   },
   {
    "duration": 223,
    "start_time": "2024-10-01T17:30:38.838Z"
   },
   {
    "duration": 6,
    "start_time": "2024-10-01T17:30:39.064Z"
   },
   {
    "duration": 922,
    "start_time": "2024-10-01T17:30:39.071Z"
   },
   {
    "duration": 13,
    "start_time": "2024-10-01T17:30:39.995Z"
   },
   {
    "duration": 4,
    "start_time": "2024-10-01T17:30:40.009Z"
   },
   {
    "duration": 4026,
    "start_time": "2024-10-01T17:30:40.014Z"
   },
   {
    "duration": 4262,
    "start_time": "2024-10-01T17:30:44.041Z"
   },
   {
    "duration": 4,
    "start_time": "2024-10-01T17:33:18.668Z"
   },
   {
    "duration": 1046,
    "start_time": "2024-10-01T17:34:32.460Z"
   },
   {
    "duration": 533,
    "start_time": "2024-10-01T17:34:33.508Z"
   },
   {
    "duration": 17,
    "start_time": "2024-10-01T17:34:34.042Z"
   },
   {
    "duration": 26,
    "start_time": "2024-10-01T17:34:34.061Z"
   },
   {
    "duration": 15,
    "start_time": "2024-10-01T17:34:34.090Z"
   },
   {
    "duration": 14,
    "start_time": "2024-10-01T17:34:34.107Z"
   },
   {
    "duration": 12,
    "start_time": "2024-10-01T17:34:34.123Z"
   },
   {
    "duration": 6,
    "start_time": "2024-10-01T17:34:34.136Z"
   },
   {
    "duration": 142,
    "start_time": "2024-10-01T17:34:34.144Z"
   },
   {
    "duration": 22,
    "start_time": "2024-10-01T17:34:34.288Z"
   },
   {
    "duration": 655,
    "start_time": "2024-10-01T17:34:34.312Z"
   },
   {
    "duration": 573,
    "start_time": "2024-10-01T17:34:34.969Z"
   },
   {
    "duration": 575,
    "start_time": "2024-10-01T17:34:35.545Z"
   },
   {
    "duration": 221,
    "start_time": "2024-10-01T17:34:36.123Z"
   },
   {
    "duration": 5,
    "start_time": "2024-10-01T17:34:36.346Z"
   },
   {
    "duration": 932,
    "start_time": "2024-10-01T17:34:36.354Z"
   },
   {
    "duration": 12,
    "start_time": "2024-10-01T17:34:37.289Z"
   },
   {
    "duration": 4,
    "start_time": "2024-10-01T17:34:37.303Z"
   },
   {
    "duration": 4002,
    "start_time": "2024-10-01T17:34:37.309Z"
   },
   {
    "duration": 4085,
    "start_time": "2024-10-01T17:34:41.312Z"
   },
   {
    "duration": 4046,
    "start_time": "2024-10-01T17:35:26.276Z"
   },
   {
    "duration": 4030,
    "start_time": "2024-10-01T17:43:51.929Z"
   },
   {
    "duration": 1054,
    "start_time": "2024-10-01T17:44:14.519Z"
   },
   {
    "duration": 508,
    "start_time": "2024-10-01T17:44:15.575Z"
   },
   {
    "duration": 16,
    "start_time": "2024-10-01T17:44:16.086Z"
   },
   {
    "duration": 12,
    "start_time": "2024-10-01T17:44:16.104Z"
   },
   {
    "duration": 14,
    "start_time": "2024-10-01T17:44:16.118Z"
   },
   {
    "duration": 14,
    "start_time": "2024-10-01T17:44:16.133Z"
   },
   {
    "duration": 40,
    "start_time": "2024-10-01T17:44:16.150Z"
   },
   {
    "duration": 6,
    "start_time": "2024-10-01T17:44:16.191Z"
   },
   {
    "duration": 122,
    "start_time": "2024-10-01T17:44:16.198Z"
   },
   {
    "duration": 22,
    "start_time": "2024-10-01T17:44:16.323Z"
   },
   {
    "duration": 588,
    "start_time": "2024-10-01T17:44:16.347Z"
   },
   {
    "duration": 580,
    "start_time": "2024-10-01T17:44:16.937Z"
   },
   {
    "duration": 595,
    "start_time": "2024-10-01T17:44:17.518Z"
   },
   {
    "duration": 228,
    "start_time": "2024-10-01T17:44:18.115Z"
   },
   {
    "duration": 6,
    "start_time": "2024-10-01T17:44:18.345Z"
   },
   {
    "duration": 937,
    "start_time": "2024-10-01T17:44:18.352Z"
   },
   {
    "duration": 14,
    "start_time": "2024-10-01T17:44:19.290Z"
   },
   {
    "duration": 3,
    "start_time": "2024-10-01T17:44:19.306Z"
   },
   {
    "duration": 4014,
    "start_time": "2024-10-01T17:44:19.311Z"
   },
   {
    "duration": 4062,
    "start_time": "2024-10-01T17:44:23.327Z"
   },
   {
    "duration": 231,
    "start_time": "2024-10-01T17:47:18.047Z"
   },
   {
    "duration": 1030,
    "start_time": "2024-10-01T17:47:44.164Z"
   },
   {
    "duration": 530,
    "start_time": "2024-10-01T17:47:45.196Z"
   },
   {
    "duration": 16,
    "start_time": "2024-10-01T17:47:45.728Z"
   },
   {
    "duration": 11,
    "start_time": "2024-10-01T17:47:45.746Z"
   },
   {
    "duration": 31,
    "start_time": "2024-10-01T17:47:45.759Z"
   },
   {
    "duration": 14,
    "start_time": "2024-10-01T17:47:45.792Z"
   },
   {
    "duration": 11,
    "start_time": "2024-10-01T17:47:45.808Z"
   },
   {
    "duration": 5,
    "start_time": "2024-10-01T17:47:45.820Z"
   },
   {
    "duration": 134,
    "start_time": "2024-10-01T17:47:45.827Z"
   },
   {
    "duration": 27,
    "start_time": "2024-10-01T17:47:45.962Z"
   },
   {
    "duration": 660,
    "start_time": "2024-10-01T17:47:45.991Z"
   },
   {
    "duration": 572,
    "start_time": "2024-10-01T17:47:46.653Z"
   },
   {
    "duration": 595,
    "start_time": "2024-10-01T17:47:47.227Z"
   },
   {
    "duration": 221,
    "start_time": "2024-10-01T17:47:47.826Z"
   },
   {
    "duration": 6,
    "start_time": "2024-10-01T17:47:48.048Z"
   },
   {
    "duration": 928,
    "start_time": "2024-10-01T17:47:48.056Z"
   },
   {
    "duration": 11,
    "start_time": "2024-10-01T17:47:48.986Z"
   },
   {
    "duration": 4,
    "start_time": "2024-10-01T17:47:49.000Z"
   },
   {
    "duration": 263,
    "start_time": "2024-10-01T17:47:49.005Z"
   },
   {
    "duration": 0,
    "start_time": "2024-10-01T17:47:49.269Z"
   },
   {
    "duration": 0,
    "start_time": "2024-10-01T17:47:49.271Z"
   },
   {
    "duration": 1039,
    "start_time": "2024-10-01T17:48:04.138Z"
   },
   {
    "duration": 514,
    "start_time": "2024-10-01T17:48:05.179Z"
   },
   {
    "duration": 17,
    "start_time": "2024-10-01T17:48:05.695Z"
   },
   {
    "duration": 11,
    "start_time": "2024-10-01T17:48:05.713Z"
   },
   {
    "duration": 13,
    "start_time": "2024-10-01T17:48:05.727Z"
   },
   {
    "duration": 14,
    "start_time": "2024-10-01T17:48:05.742Z"
   },
   {
    "duration": 11,
    "start_time": "2024-10-01T17:48:05.787Z"
   },
   {
    "duration": 5,
    "start_time": "2024-10-01T17:48:05.800Z"
   },
   {
    "duration": 124,
    "start_time": "2024-10-01T17:48:05.807Z"
   },
   {
    "duration": 22,
    "start_time": "2024-10-01T17:48:05.933Z"
   },
   {
    "duration": 606,
    "start_time": "2024-10-01T17:48:05.957Z"
   },
   {
    "duration": 550,
    "start_time": "2024-10-01T17:48:06.565Z"
   },
   {
    "duration": 604,
    "start_time": "2024-10-01T17:48:07.118Z"
   },
   {
    "duration": 230,
    "start_time": "2024-10-01T17:48:07.726Z"
   },
   {
    "duration": 6,
    "start_time": "2024-10-01T17:48:07.958Z"
   },
   {
    "duration": 1042,
    "start_time": "2024-10-01T17:48:07.965Z"
   },
   {
    "duration": 12,
    "start_time": "2024-10-01T17:48:09.009Z"
   },
   {
    "duration": 4,
    "start_time": "2024-10-01T17:48:09.023Z"
   },
   {
    "duration": 3998,
    "start_time": "2024-10-01T17:48:09.029Z"
   },
   {
    "duration": 4105,
    "start_time": "2024-10-01T17:48:13.029Z"
   },
   {
    "duration": 15727,
    "start_time": "2024-10-01T17:48:17.136Z"
   },
   {
    "duration": 1057,
    "start_time": "2024-10-01T17:51:00.746Z"
   },
   {
    "duration": 539,
    "start_time": "2024-10-01T17:51:01.805Z"
   },
   {
    "duration": 17,
    "start_time": "2024-10-01T17:51:02.346Z"
   },
   {
    "duration": 24,
    "start_time": "2024-10-01T17:51:02.365Z"
   },
   {
    "duration": 14,
    "start_time": "2024-10-01T17:51:02.392Z"
   },
   {
    "duration": 15,
    "start_time": "2024-10-01T17:51:02.409Z"
   },
   {
    "duration": 13,
    "start_time": "2024-10-01T17:51:02.426Z"
   },
   {
    "duration": 5,
    "start_time": "2024-10-01T17:51:02.440Z"
   },
   {
    "duration": 143,
    "start_time": "2024-10-01T17:51:02.447Z"
   },
   {
    "duration": 23,
    "start_time": "2024-10-01T17:51:02.592Z"
   },
   {
    "duration": 663,
    "start_time": "2024-10-01T17:51:02.616Z"
   },
   {
    "duration": 642,
    "start_time": "2024-10-01T17:51:03.281Z"
   },
   {
    "duration": 618,
    "start_time": "2024-10-01T17:51:03.925Z"
   },
   {
    "duration": 228,
    "start_time": "2024-10-01T17:51:04.546Z"
   },
   {
    "duration": 12,
    "start_time": "2024-10-01T17:51:04.776Z"
   },
   {
    "duration": 1011,
    "start_time": "2024-10-01T17:51:04.790Z"
   },
   {
    "duration": 14,
    "start_time": "2024-10-01T17:51:05.804Z"
   },
   {
    "duration": 4,
    "start_time": "2024-10-01T17:51:05.819Z"
   },
   {
    "duration": 4040,
    "start_time": "2024-10-01T17:51:05.825Z"
   },
   {
    "duration": 4080,
    "start_time": "2024-10-01T17:51:09.867Z"
   },
   {
    "duration": 16085,
    "start_time": "2024-10-01T17:51:13.949Z"
   },
   {
    "duration": 241,
    "start_time": "2024-10-01T17:51:30.035Z"
   },
   {
    "duration": 1041,
    "start_time": "2024-10-01T17:53:22.164Z"
   },
   {
    "duration": 550,
    "start_time": "2024-10-01T17:53:23.208Z"
   },
   {
    "duration": 17,
    "start_time": "2024-10-01T17:53:23.759Z"
   },
   {
    "duration": 21,
    "start_time": "2024-10-01T17:53:23.778Z"
   },
   {
    "duration": 15,
    "start_time": "2024-10-01T17:53:23.802Z"
   },
   {
    "duration": 14,
    "start_time": "2024-10-01T17:53:23.819Z"
   },
   {
    "duration": 11,
    "start_time": "2024-10-01T17:53:23.835Z"
   },
   {
    "duration": 39,
    "start_time": "2024-10-01T17:53:23.848Z"
   },
   {
    "duration": 122,
    "start_time": "2024-10-01T17:53:23.889Z"
   },
   {
    "duration": 23,
    "start_time": "2024-10-01T17:53:24.012Z"
   },
   {
    "duration": 643,
    "start_time": "2024-10-01T17:53:24.036Z"
   },
   {
    "duration": 643,
    "start_time": "2024-10-01T17:53:24.681Z"
   },
   {
    "duration": 592,
    "start_time": "2024-10-01T17:53:25.326Z"
   },
   {
    "duration": 218,
    "start_time": "2024-10-01T17:53:25.921Z"
   },
   {
    "duration": 7,
    "start_time": "2024-10-01T17:53:26.141Z"
   },
   {
    "duration": 932,
    "start_time": "2024-10-01T17:53:26.149Z"
   },
   {
    "duration": 14,
    "start_time": "2024-10-01T17:53:27.086Z"
   },
   {
    "duration": 4,
    "start_time": "2024-10-01T17:53:27.102Z"
   },
   {
    "duration": 3913,
    "start_time": "2024-10-01T17:53:27.107Z"
   },
   {
    "duration": 4139,
    "start_time": "2024-10-01T17:53:31.021Z"
   },
   {
    "duration": 15946,
    "start_time": "2024-10-01T17:53:35.162Z"
   },
   {
    "duration": 350,
    "start_time": "2024-10-01T17:53:51.111Z"
   },
   {
    "duration": 3074,
    "start_time": "2024-10-01T19:48:28.650Z"
   },
   {
    "duration": 777,
    "start_time": "2024-10-01T19:48:31.727Z"
   },
   {
    "duration": 16,
    "start_time": "2024-10-01T19:48:32.506Z"
   },
   {
    "duration": 16,
    "start_time": "2024-10-01T19:48:32.525Z"
   },
   {
    "duration": 15,
    "start_time": "2024-10-01T19:48:32.544Z"
   },
   {
    "duration": 99,
    "start_time": "2024-10-01T19:48:32.561Z"
   },
   {
    "duration": 15,
    "start_time": "2024-10-01T19:48:32.662Z"
   },
   {
    "duration": 6,
    "start_time": "2024-10-01T19:48:32.679Z"
   },
   {
    "duration": 147,
    "start_time": "2024-10-01T19:48:32.687Z"
   },
   {
    "duration": 24,
    "start_time": "2024-10-01T19:48:32.836Z"
   },
   {
    "duration": 635,
    "start_time": "2024-10-01T19:48:32.861Z"
   },
   {
    "duration": 797,
    "start_time": "2024-10-01T19:48:33.498Z"
   },
   {
    "duration": 772,
    "start_time": "2024-10-01T19:48:34.297Z"
   },
   {
    "duration": 317,
    "start_time": "2024-10-01T19:48:35.073Z"
   },
   {
    "duration": 19,
    "start_time": "2024-10-01T19:48:35.392Z"
   },
   {
    "duration": 1031,
    "start_time": "2024-10-01T19:48:35.415Z"
   },
   {
    "duration": 12,
    "start_time": "2024-10-01T19:48:36.449Z"
   },
   {
    "duration": 4,
    "start_time": "2024-10-01T19:48:36.463Z"
   },
   {
    "duration": 4174,
    "start_time": "2024-10-01T19:48:36.469Z"
   },
   {
    "duration": 4072,
    "start_time": "2024-10-01T19:48:40.645Z"
   },
   {
    "duration": 15953,
    "start_time": "2024-10-01T19:48:44.720Z"
   },
   {
    "duration": 19700,
    "start_time": "2024-10-01T19:51:40.365Z"
   },
   {
    "duration": 1065,
    "start_time": "2024-10-01T19:52:48.131Z"
   },
   {
    "duration": 499,
    "start_time": "2024-10-01T19:52:49.198Z"
   },
   {
    "duration": 24,
    "start_time": "2024-10-01T19:52:49.699Z"
   },
   {
    "duration": 11,
    "start_time": "2024-10-01T19:52:49.725Z"
   },
   {
    "duration": 13,
    "start_time": "2024-10-01T19:52:49.737Z"
   },
   {
    "duration": 15,
    "start_time": "2024-10-01T19:52:49.752Z"
   },
   {
    "duration": 12,
    "start_time": "2024-10-01T19:52:49.768Z"
   },
   {
    "duration": 5,
    "start_time": "2024-10-01T19:52:49.812Z"
   },
   {
    "duration": 117,
    "start_time": "2024-10-01T19:52:49.819Z"
   },
   {
    "duration": 28,
    "start_time": "2024-10-01T19:52:49.939Z"
   },
   {
    "duration": 615,
    "start_time": "2024-10-01T19:52:49.969Z"
   },
   {
    "duration": 598,
    "start_time": "2024-10-01T19:52:50.587Z"
   },
   {
    "duration": 593,
    "start_time": "2024-10-01T19:52:51.187Z"
   },
   {
    "duration": 216,
    "start_time": "2024-10-01T19:52:51.782Z"
   },
   {
    "duration": 13,
    "start_time": "2024-10-01T19:52:52.001Z"
   },
   {
    "duration": 1019,
    "start_time": "2024-10-01T19:52:52.016Z"
   },
   {
    "duration": 13,
    "start_time": "2024-10-01T19:52:53.037Z"
   },
   {
    "duration": 4,
    "start_time": "2024-10-01T19:52:53.051Z"
   },
   {
    "duration": 3972,
    "start_time": "2024-10-01T19:52:53.057Z"
   },
   {
    "duration": 4056,
    "start_time": "2024-10-01T19:52:57.031Z"
   },
   {
    "duration": 15822,
    "start_time": "2024-10-01T19:53:01.089Z"
   },
   {
    "duration": 19660,
    "start_time": "2024-10-01T19:53:16.913Z"
   },
   {
    "duration": 3,
    "start_time": "2024-10-01T19:53:36.575Z"
   },
   {
    "duration": 4046,
    "start_time": "2024-10-01T19:53:36.580Z"
   },
   {
    "duration": 994,
    "start_time": "2024-10-01T20:06:25.306Z"
   },
   {
    "duration": 536,
    "start_time": "2024-10-01T20:06:26.303Z"
   },
   {
    "duration": 21,
    "start_time": "2024-10-01T20:06:26.841Z"
   },
   {
    "duration": 12,
    "start_time": "2024-10-01T20:06:26.864Z"
   },
   {
    "duration": 35,
    "start_time": "2024-10-01T20:06:26.879Z"
   },
   {
    "duration": 16,
    "start_time": "2024-10-01T20:06:26.916Z"
   },
   {
    "duration": 12,
    "start_time": "2024-10-01T20:06:26.934Z"
   },
   {
    "duration": 6,
    "start_time": "2024-10-01T20:06:26.947Z"
   },
   {
    "duration": 142,
    "start_time": "2024-10-01T20:06:26.954Z"
   },
   {
    "duration": 30,
    "start_time": "2024-10-01T20:06:27.098Z"
   },
   {
    "duration": 626,
    "start_time": "2024-10-01T20:06:27.130Z"
   },
   {
    "duration": 568,
    "start_time": "2024-10-01T20:06:27.759Z"
   },
   {
    "duration": 642,
    "start_time": "2024-10-01T20:06:28.329Z"
   },
   {
    "duration": 215,
    "start_time": "2024-10-01T20:06:28.974Z"
   },
   {
    "duration": 5,
    "start_time": "2024-10-01T20:06:29.191Z"
   },
   {
    "duration": 922,
    "start_time": "2024-10-01T20:06:29.198Z"
   },
   {
    "duration": 11,
    "start_time": "2024-10-01T20:06:30.122Z"
   },
   {
    "duration": 3,
    "start_time": "2024-10-01T20:06:30.135Z"
   },
   {
    "duration": 3942,
    "start_time": "2024-10-01T20:06:30.141Z"
   },
   {
    "duration": 243,
    "start_time": "2024-10-01T20:06:34.086Z"
   },
   {
    "duration": 0,
    "start_time": "2024-10-01T20:06:34.331Z"
   },
   {
    "duration": 0,
    "start_time": "2024-10-01T20:06:34.332Z"
   },
   {
    "duration": 0,
    "start_time": "2024-10-01T20:06:34.333Z"
   },
   {
    "duration": 0,
    "start_time": "2024-10-01T20:06:34.334Z"
   },
   {
    "duration": 0,
    "start_time": "2024-10-01T20:06:34.335Z"
   },
   {
    "duration": 0,
    "start_time": "2024-10-01T20:06:34.336Z"
   },
   {
    "duration": 0,
    "start_time": "2024-10-01T20:06:34.337Z"
   },
   {
    "duration": 1090,
    "start_time": "2024-10-01T20:07:29.224Z"
   },
   {
    "duration": 503,
    "start_time": "2024-10-01T20:07:30.316Z"
   },
   {
    "duration": 16,
    "start_time": "2024-10-01T20:07:30.821Z"
   },
   {
    "duration": 11,
    "start_time": "2024-10-01T20:07:30.839Z"
   },
   {
    "duration": 13,
    "start_time": "2024-10-01T20:07:30.853Z"
   },
   {
    "duration": 44,
    "start_time": "2024-10-01T20:07:30.868Z"
   },
   {
    "duration": 12,
    "start_time": "2024-10-01T20:07:30.913Z"
   },
   {
    "duration": 5,
    "start_time": "2024-10-01T20:07:30.926Z"
   },
   {
    "duration": 129,
    "start_time": "2024-10-01T20:07:30.933Z"
   },
   {
    "duration": 23,
    "start_time": "2024-10-01T20:07:31.063Z"
   },
   {
    "duration": 705,
    "start_time": "2024-10-01T20:07:31.087Z"
   },
   {
    "duration": 566,
    "start_time": "2024-10-01T20:07:31.795Z"
   },
   {
    "duration": 616,
    "start_time": "2024-10-01T20:07:32.363Z"
   },
   {
    "duration": 215,
    "start_time": "2024-10-01T20:07:32.983Z"
   },
   {
    "duration": 12,
    "start_time": "2024-10-01T20:07:33.200Z"
   },
   {
    "duration": 994,
    "start_time": "2024-10-01T20:07:33.214Z"
   },
   {
    "duration": 12,
    "start_time": "2024-10-01T20:07:34.212Z"
   },
   {
    "duration": 3,
    "start_time": "2024-10-01T20:07:34.226Z"
   },
   {
    "duration": 4,
    "start_time": "2024-10-01T20:07:34.231Z"
   },
   {
    "duration": 4,
    "start_time": "2024-10-01T20:07:34.237Z"
   },
   {
    "duration": 23272,
    "start_time": "2024-10-01T20:07:34.242Z"
   },
   {
    "duration": 4043,
    "start_time": "2024-10-01T20:07:57.516Z"
   },
   {
    "duration": 1031,
    "start_time": "2024-10-02T06:36:26.769Z"
   },
   {
    "duration": 718,
    "start_time": "2024-10-02T06:36:27.802Z"
   },
   {
    "duration": 17,
    "start_time": "2024-10-02T06:36:28.522Z"
   },
   {
    "duration": 14,
    "start_time": "2024-10-02T06:36:28.542Z"
   },
   {
    "duration": 39,
    "start_time": "2024-10-02T06:36:28.558Z"
   },
   {
    "duration": 16,
    "start_time": "2024-10-02T06:36:28.599Z"
   },
   {
    "duration": 12,
    "start_time": "2024-10-02T06:36:28.618Z"
   },
   {
    "duration": 6,
    "start_time": "2024-10-02T06:36:28.631Z"
   },
   {
    "duration": 141,
    "start_time": "2024-10-02T06:36:28.639Z"
   },
   {
    "duration": 22,
    "start_time": "2024-10-02T06:36:28.786Z"
   },
   {
    "duration": 637,
    "start_time": "2024-10-02T06:36:28.810Z"
   },
   {
    "duration": 566,
    "start_time": "2024-10-02T06:36:29.449Z"
   },
   {
    "duration": 613,
    "start_time": "2024-10-02T06:36:30.017Z"
   },
   {
    "duration": 219,
    "start_time": "2024-10-02T06:36:30.633Z"
   },
   {
    "duration": 6,
    "start_time": "2024-10-02T06:36:30.854Z"
   },
   {
    "duration": 918,
    "start_time": "2024-10-02T06:36:30.862Z"
   },
   {
    "duration": 12,
    "start_time": "2024-10-02T06:36:31.786Z"
   },
   {
    "duration": 5,
    "start_time": "2024-10-02T06:36:31.800Z"
   },
   {
    "duration": 5,
    "start_time": "2024-10-02T06:36:31.806Z"
   },
   {
    "duration": 4,
    "start_time": "2024-10-02T06:36:31.813Z"
   },
   {
    "duration": 24279,
    "start_time": "2024-10-02T06:36:31.818Z"
   },
   {
    "duration": 4065,
    "start_time": "2024-10-02T06:36:56.099Z"
   },
   {
    "duration": 156,
    "start_time": "2024-10-02T16:57:36.590Z"
   },
   {
    "duration": 2619,
    "start_time": "2024-10-02T16:57:43.099Z"
   },
   {
    "duration": 678,
    "start_time": "2024-10-02T16:57:45.720Z"
   },
   {
    "duration": 20,
    "start_time": "2024-10-02T16:57:46.400Z"
   },
   {
    "duration": 12,
    "start_time": "2024-10-02T16:57:46.421Z"
   },
   {
    "duration": 15,
    "start_time": "2024-10-02T16:57:46.435Z"
   },
   {
    "duration": 161,
    "start_time": "2024-10-02T16:57:46.451Z"
   },
   {
    "duration": 0,
    "start_time": "2024-10-02T16:57:46.615Z"
   },
   {
    "duration": 0,
    "start_time": "2024-10-02T16:57:46.616Z"
   },
   {
    "duration": 0,
    "start_time": "2024-10-02T16:57:46.617Z"
   },
   {
    "duration": 0,
    "start_time": "2024-10-02T16:57:46.618Z"
   },
   {
    "duration": 0,
    "start_time": "2024-10-02T16:57:46.619Z"
   },
   {
    "duration": 0,
    "start_time": "2024-10-02T16:57:46.620Z"
   },
   {
    "duration": 0,
    "start_time": "2024-10-02T16:57:46.621Z"
   },
   {
    "duration": 0,
    "start_time": "2024-10-02T16:57:46.622Z"
   },
   {
    "duration": 0,
    "start_time": "2024-10-02T16:57:46.623Z"
   },
   {
    "duration": 0,
    "start_time": "2024-10-02T16:57:46.624Z"
   },
   {
    "duration": 0,
    "start_time": "2024-10-02T16:57:46.625Z"
   },
   {
    "duration": 0,
    "start_time": "2024-10-02T16:57:46.627Z"
   },
   {
    "duration": 0,
    "start_time": "2024-10-02T16:57:46.627Z"
   },
   {
    "duration": 0,
    "start_time": "2024-10-02T16:57:46.628Z"
   },
   {
    "duration": 0,
    "start_time": "2024-10-02T16:57:46.630Z"
   },
   {
    "duration": 0,
    "start_time": "2024-10-02T16:57:46.631Z"
   },
   {
    "duration": 0,
    "start_time": "2024-10-02T16:57:46.632Z"
   },
   {
    "duration": 154,
    "start_time": "2024-10-02T16:58:04.865Z"
   },
   {
    "duration": 14,
    "start_time": "2024-10-02T16:58:16.020Z"
   },
   {
    "duration": 58,
    "start_time": "2024-10-02T16:58:29.393Z"
   },
   {
    "duration": 155,
    "start_time": "2024-10-02T16:58:48.907Z"
   },
   {
    "duration": 155,
    "start_time": "2024-10-02T16:59:17.678Z"
   },
   {
    "duration": 969,
    "start_time": "2024-10-02T17:05:36.257Z"
   },
   {
    "duration": 473,
    "start_time": "2024-10-02T17:05:37.228Z"
   },
   {
    "duration": 16,
    "start_time": "2024-10-02T17:05:37.703Z"
   },
   {
    "duration": 10,
    "start_time": "2024-10-02T17:05:37.721Z"
   },
   {
    "duration": 13,
    "start_time": "2024-10-02T17:05:37.734Z"
   },
   {
    "duration": 186,
    "start_time": "2024-10-02T17:05:37.749Z"
   },
   {
    "duration": 14,
    "start_time": "2024-10-02T17:05:37.937Z"
   },
   {
    "duration": 11,
    "start_time": "2024-10-02T17:05:37.953Z"
   },
   {
    "duration": 5,
    "start_time": "2024-10-02T17:05:37.966Z"
   },
   {
    "duration": 141,
    "start_time": "2024-10-02T17:05:37.973Z"
   },
   {
    "duration": 22,
    "start_time": "2024-10-02T17:05:38.116Z"
   },
   {
    "duration": 632,
    "start_time": "2024-10-02T17:05:38.140Z"
   },
   {
    "duration": 552,
    "start_time": "2024-10-02T17:05:38.775Z"
   },
   {
    "duration": 598,
    "start_time": "2024-10-02T17:05:39.330Z"
   },
   {
    "duration": 276,
    "start_time": "2024-10-02T17:05:39.930Z"
   },
   {
    "duration": 5,
    "start_time": "2024-10-02T17:05:40.211Z"
   },
   {
    "duration": 888,
    "start_time": "2024-10-02T17:05:40.217Z"
   },
   {
    "duration": 19,
    "start_time": "2024-10-02T17:05:41.107Z"
   },
   {
    "duration": 3,
    "start_time": "2024-10-02T17:05:41.128Z"
   },
   {
    "duration": 4,
    "start_time": "2024-10-02T17:05:41.133Z"
   },
   {
    "duration": 3,
    "start_time": "2024-10-02T17:05:41.139Z"
   },
   {
    "duration": 23152,
    "start_time": "2024-10-02T17:05:41.144Z"
   },
   {
    "duration": 4027,
    "start_time": "2024-10-02T17:06:04.297Z"
   },
   {
    "duration": 1019,
    "start_time": "2024-10-02T17:12:58.258Z"
   },
   {
    "duration": 462,
    "start_time": "2024-10-02T17:12:59.280Z"
   },
   {
    "duration": 17,
    "start_time": "2024-10-02T17:12:59.744Z"
   },
   {
    "duration": 10,
    "start_time": "2024-10-02T17:12:59.763Z"
   },
   {
    "duration": 13,
    "start_time": "2024-10-02T17:12:59.775Z"
   },
   {
    "duration": 171,
    "start_time": "2024-10-02T17:12:59.811Z"
   },
   {
    "duration": 14,
    "start_time": "2024-10-02T17:12:59.984Z"
   },
   {
    "duration": 11,
    "start_time": "2024-10-02T17:13:00.011Z"
   },
   {
    "duration": 5,
    "start_time": "2024-10-02T17:13:00.024Z"
   },
   {
    "duration": 119,
    "start_time": "2024-10-02T17:13:00.032Z"
   },
   {
    "duration": 22,
    "start_time": "2024-10-02T17:13:00.153Z"
   },
   {
    "duration": 612,
    "start_time": "2024-10-02T17:13:00.176Z"
   },
   {
    "duration": 545,
    "start_time": "2024-10-02T17:13:00.790Z"
   },
   {
    "duration": 615,
    "start_time": "2024-10-02T17:13:01.337Z"
   },
   {
    "duration": 265,
    "start_time": "2024-10-02T17:13:01.954Z"
   },
   {
    "duration": 6,
    "start_time": "2024-10-02T17:13:02.221Z"
   },
   {
    "duration": 973,
    "start_time": "2024-10-02T17:13:02.228Z"
   },
   {
    "duration": 17,
    "start_time": "2024-10-02T17:13:03.203Z"
   },
   {
    "duration": 4,
    "start_time": "2024-10-02T17:13:03.221Z"
   },
   {
    "duration": 6,
    "start_time": "2024-10-02T17:13:03.226Z"
   },
   {
    "duration": 4,
    "start_time": "2024-10-02T17:13:03.234Z"
   },
   {
    "duration": 23116,
    "start_time": "2024-10-02T17:13:03.240Z"
   },
   {
    "duration": 4033,
    "start_time": "2024-10-02T17:13:26.358Z"
   },
   {
    "duration": 1035,
    "start_time": "2024-10-02T17:18:43.338Z"
   },
   {
    "duration": 493,
    "start_time": "2024-10-02T17:18:44.375Z"
   },
   {
    "duration": 16,
    "start_time": "2024-10-02T17:18:44.870Z"
   },
   {
    "duration": 10,
    "start_time": "2024-10-02T17:18:44.887Z"
   },
   {
    "duration": 17,
    "start_time": "2024-10-02T17:18:44.912Z"
   },
   {
    "duration": 172,
    "start_time": "2024-10-02T17:18:44.930Z"
   },
   {
    "duration": 19,
    "start_time": "2024-10-02T17:18:45.104Z"
   },
   {
    "duration": 10,
    "start_time": "2024-10-02T17:18:45.127Z"
   },
   {
    "duration": 6,
    "start_time": "2024-10-02T17:18:45.139Z"
   },
   {
    "duration": 125,
    "start_time": "2024-10-02T17:18:45.147Z"
   },
   {
    "duration": 21,
    "start_time": "2024-10-02T17:18:45.274Z"
   },
   {
    "duration": 660,
    "start_time": "2024-10-02T17:18:45.296Z"
   },
   {
    "duration": 569,
    "start_time": "2024-10-02T17:18:45.958Z"
   },
   {
    "duration": 619,
    "start_time": "2024-10-02T17:18:46.531Z"
   },
   {
    "duration": 248,
    "start_time": "2024-10-02T17:18:47.152Z"
   },
   {
    "duration": 13,
    "start_time": "2024-10-02T17:18:47.402Z"
   },
   {
    "duration": 893,
    "start_time": "2024-10-02T17:18:47.416Z"
   },
   {
    "duration": 11,
    "start_time": "2024-10-02T17:18:48.310Z"
   },
   {
    "duration": 3,
    "start_time": "2024-10-02T17:18:48.323Z"
   },
   {
    "duration": 5,
    "start_time": "2024-10-02T17:18:48.328Z"
   },
   {
    "duration": 4,
    "start_time": "2024-10-02T17:18:48.335Z"
   },
   {
    "duration": 23505,
    "start_time": "2024-10-02T17:18:48.340Z"
   },
   {
    "duration": 4019,
    "start_time": "2024-10-02T17:19:11.848Z"
   }
  ],
  "kernelspec": {
   "display_name": "Python 3 (ipykernel)",
   "language": "python",
   "name": "python3"
  },
  "language_info": {
   "codemirror_mode": {
    "name": "ipython",
    "version": 3
   },
   "file_extension": ".py",
   "mimetype": "text/x-python",
   "name": "python",
   "nbconvert_exporter": "python",
   "pygments_lexer": "ipython3",
   "version": "3.9.19"
  },
  "toc": {
   "base_numbering": 1,
   "nav_menu": {},
   "number_sections": true,
   "sideBar": true,
   "skip_h1_title": true,
   "title_cell": "Table of Contents",
   "title_sidebar": "Contents",
   "toc_cell": false,
   "toc_position": {
    "height": "calc(100% - 180px)",
    "left": "10px",
    "top": "150px",
    "width": "266px"
   },
   "toc_section_display": true,
   "toc_window_display": false
  }
 },
 "nbformat": 4,
 "nbformat_minor": 2
}
